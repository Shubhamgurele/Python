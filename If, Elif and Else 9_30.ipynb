{
 "cells": [
  {
   "cell_type": "markdown",
   "id": "c8f45f91-2116-4e93-ad1e-5f3bc22a2bf0",
   "metadata": {},
   "source": [
    "### Name the keyword which helps in writing code involving condition.\n",
    "Ans:- if"
   ]
  },
  {
   "cell_type": "markdown",
   "id": "0c7560a6-5bec-4bc0-9667-e868f9a19f2d",
   "metadata": {},
   "source": [
    "### Write the syntax of simple if Statement.\n",
    "Ans:- if(condition):\n",
    "        execute this"
   ]
  },
  {
   "cell_type": "markdown",
   "id": "02fcf689-adca-4528-9f2f-00da6c49a30b",
   "metadata": {},
   "source": [
    "### Is there any limit of statement that can appear under an if block\n",
    "Ans:- No"
   ]
  },
  {
   "cell_type": "code",
   "execution_count": 3,
   "id": "0b305075-75f8-46ee-8c30-f1308596dbba",
   "metadata": {},
   "outputs": [
    {
     "name": "stdout",
     "output_type": "stream",
     "text": [
      "Enter the person age 25\n"
     ]
    },
    {
     "name": "stdout",
     "output_type": "stream",
     "text": [
      "Eligible for voting\n"
     ]
    }
   ],
   "source": [
    "# Write a Program to check wheather a person is eligible for voting or not\n",
    "\n",
    "person_age = int(input('Enter the person age'))\n",
    "if (person_age>=18):\n",
    "    print('Eligible for voting')\n",
    "else:\n",
    "    print('Not eligible for voting')"
   ]
  },
  {
   "cell_type": "code",
   "execution_count": 7,
   "id": "ab2fe5ea-a3e3-4c24-9600-445e4a663e27",
   "metadata": {},
   "outputs": [
    {
     "name": "stdout",
     "output_type": "stream",
     "text": [
      "Enter the number => 9\n"
     ]
    },
    {
     "name": "stdout",
     "output_type": "stream",
     "text": [
      "Number is odd\n"
     ]
    }
   ],
   "source": [
    "num = int(input('Enter the number =>'))\n",
    "if (num%2==0):\n",
    "    print('Number is even')\n",
    "else:\n",
    "    print('Number is odd')"
   ]
  },
  {
   "cell_type": "code",
   "execution_count": null,
   "id": "d36d6c84",
   "metadata": {},
   "outputs": [],
   "source": []
  },
  {
   "cell_type": "code",
   "execution_count": 9,
   "id": "26bb8264-be67-4367-912c-b5517a065854",
   "metadata": {},
   "outputs": [
    {
     "name": "stdout",
     "output_type": "stream",
     "text": [
      "Enter the number => 9\n"
     ]
    },
    {
     "name": "stdout",
     "output_type": "stream",
     "text": [
      "Bye\n"
     ]
    }
   ],
   "source": [
    "num = int(input('Enter the number =>'))\n",
    "if (num%5==0):\n",
    "    print('Hello')\n",
    "else:\n",
    "    print('Bye')"
   ]
  },
  {
   "cell_type": "code",
   "execution_count": 5,
   "id": "dbffd3f0-521d-449a-bd60-7c653d060de0",
   "metadata": {},
   "outputs": [
    {
     "name": "stdout",
     "output_type": "stream",
     "text": [
      "Enter the unit => 500\n"
     ]
    },
    {
     "name": "stdout",
     "output_type": "stream",
     "text": [
      "Your bill =>Rs 3500.0\n"
     ]
    }
   ],
   "source": [
    "# Write a program to calculate the electricity bill. (accept number of unit from user) according to the following criteria :\n",
    "#       Unit                           Prices \n",
    "#  First 100 units                   no charges    \n",
    "#  Next 100 units                    Rs 5 per Unit\n",
    "#  After 200 Units                   Rs 10 per Unit\n",
    "\n",
    "unit = float(input('Enter the unit =>'))\n",
    "if (unit<=100):\n",
    "    print(\"No Charges\")\n",
    "elif (unit>100 and unit<=200):\n",
    "    print((unit-100)*5)\n",
    "elif (unit>200):\n",
    "    print('Your bill =>Rs',500+(unit-200)*10) #why we add 500"
   ]
  },
  {
   "cell_type": "code",
   "execution_count": 21,
   "id": "26dfa575-08b2-406c-a5db-4b5eccbfeb42",
   "metadata": {},
   "outputs": [
    {
     "name": "stdout",
     "output_type": "stream",
     "text": [
      "50\n",
      "45\n",
      "40\n",
      "35\n",
      "30\n",
      "25\n",
      "20\n",
      "15\n",
      "10\n",
      "5\n",
      "after loop statement\n"
     ]
    }
   ],
   "source": [
    "n=5\n",
    "i = n*10\n",
    "while i>=n:\n",
    "    print(i)\n",
    "    i=i-n\n",
    "print('after loop statement')    "
   ]
  },
  {
   "cell_type": "code",
   "execution_count": 25,
   "id": "6a669625-e9b9-43fa-be93-2d7e8abcc6dc",
   "metadata": {},
   "outputs": [
    {
     "name": "stdout",
     "output_type": "stream",
     "text": [
      "Enter the num => 145\n"
     ]
    },
    {
     "name": "stdout",
     "output_type": "stream",
     "text": [
      "Last digi of a number is => 5\n"
     ]
    }
   ],
   "source": [
    "# Write a program to display the last digit of a number.\n",
    "\n",
    "num = int(input('Enter the num =>'))\n",
    "print('Last digi of a number is =>', num%10)"
   ]
  },
  {
   "cell_type": "code",
   "execution_count": 33,
   "id": "9a5461b9-9130-431d-95aa-1585c9717dd3",
   "metadata": {},
   "outputs": [
    {
     "name": "stdout",
     "output_type": "stream",
     "text": [
      "Enter the number => 145\n"
     ]
    },
    {
     "name": "stdout",
     "output_type": "stream",
     "text": [
      "Number is not divisible by 3\n"
     ]
    }
   ],
   "source": [
    "# Write a program to check whether the last digit of a number (entered by user) is disivible by 3 or not.\n",
    "\n",
    "num = int(input('Enter the number =>'))\n",
    "num=num%10\n",
    "if (num%3==0):\n",
    "    print('Last digit of number is divisible by 3')\n",
    "else:\n",
    "    print('Last digit of number is not divisible by 3')"
   ]
  },
  {
   "cell_type": "code",
   "execution_count": 38,
   "id": "e06bd539-fa29-4049-8709-91768ada1f6a",
   "metadata": {},
   "outputs": [
    {
     "name": "stdout",
     "output_type": "stream",
     "text": [
      "Enter the percentage => 85\n"
     ]
    },
    {
     "name": "stdout",
     "output_type": "stream",
     "text": [
      "Your Grade is => B\n"
     ]
    }
   ],
   "source": [
    "# Write a program to accept percentage from the user and display the grade according to the following criteria:\n",
    "#         Marks                   Grade\n",
    "#           >90                     A\n",
    "#       >80 and <=90                B\n",
    "#       >=60 and <=80               C\n",
    "#       below 60                    D\n",
    "\n",
    "per = float(input('Enter the percentage =>'))\n",
    "if (per>90):\n",
    "    print('Your Grade is => A')\n",
    "elif (per>80 and per<=90):\n",
    "    print('Your Grade is => B')\n",
    "elif (per>=60 and per<=80):\n",
    "    print('Your Grade is => C')\n",
    "elif (per<60):\n",
    "    print('Your Grade is => D')"
   ]
  },
  {
   "cell_type": "code",
   "execution_count": 41,
   "id": "7bc626f6-11ad-4674-a8e7-6547f5a1dce5",
   "metadata": {},
   "outputs": [
    {
     "name": "stdout",
     "output_type": "stream",
     "text": [
      "Enter the Cost price of a bike => 45000\n"
     ]
    },
    {
     "name": "stdout",
     "output_type": "stream",
     "text": [
      "Road tax you have to pay => 2250.0\n"
     ]
    }
   ],
   "source": [
    "# Write a program to accept the cost of a bike and display the road tax to be paid according to the following criteria:\n",
    "#       Cost price(in Rs)                     Tax\n",
    "#          >100000                            15%\n",
    "#     >50000 and <=100000                     10%\n",
    "#          <=50000                             5%\n",
    "\n",
    "cost_price = int(input('Enter the Cost price of a bike =>'))\n",
    "if (cost_price>100000):\n",
    "    tax = (15/100)*cost_price\n",
    "elif (cost_price>50000 and cost_price<=100000):\n",
    "    tax = (10/100)*cost_price\n",
    "elif (cost_price<=50000):\n",
    "    tax = (5/100)*cost_price  \n",
    "print('Road tax you have to pay =>',tax)\n"
   ]
  },
  {
   "cell_type": "code",
   "execution_count": 44,
   "id": "d8e479ae-f657-4914-aaf3-c319f163f213",
   "metadata": {},
   "outputs": [
    {
     "name": "stdout",
     "output_type": "stream",
     "text": [
      "Enter the year => 2000\n"
     ]
    },
    {
     "name": "stdout",
     "output_type": "stream",
     "text": [
      "Year is a leap year\n"
     ]
    }
   ],
   "source": [
    "# Write  a program to check whether an year is leap year or not\n",
    "\n",
    "year = int(input('Enter the year =>'))\n",
    "if (year%4==0 and year%100!=0) or year%400==0:\n",
    "    print('Year is a leap year')\n",
    "else:\n",
    "    print('Year is a not leap year')"
   ]
  },
  {
   "cell_type": "code",
   "execution_count": 51,
   "id": "6b105aae-0d07-43cc-b0fe-002f661b5eed",
   "metadata": {
    "editable": true,
    "slideshow": {
     "slide_type": ""
    },
    "tags": []
   },
   "outputs": [
    {
     "name": "stdout",
     "output_type": "stream",
     "text": [
      "Enter the number => 5\n"
     ]
    },
    {
     "name": "stdout",
     "output_type": "stream",
     "text": [
      "Thursday\n"
     ]
    }
   ],
   "source": [
    "# Write a program to accept a number from 1 to 7 and display name of the day like 1 for Sunday, 2 for Monday and so on.\n",
    "\n",
    "num = int(input('Enter the number =>'))\n",
    "if (num==1):\n",
    "    print(\"Sunday\")\n",
    "elif (num==2):  \n",
    "    print(\"Monday\")\n",
    "elif (num==3):  \n",
    "    print(\"Tuesday\")    \n",
    "elif (num==4):  \n",
    "    print(\"Wednesday\")\n",
    "elif (num==5):  \n",
    "    print(\"Thursday\")\n",
    "elif (num==6):  \n",
    "    print(\"Friday\")\n",
    "elif (num==7):  \n",
    "    print(\"Saturday\")\n",
    "else :\n",
    "    print('Good Bye')\n",
    "    "
   ]
  },
  {
   "cell_type": "code",
   "execution_count": 7,
   "id": "37ae20ff-0c52-48f7-a365-7c1394c5d18e",
   "metadata": {},
   "outputs": [
    {
     "name": "stdout",
     "output_type": "stream",
     "text": [
      "Enter the number => 5\n"
     ]
    },
    {
     "name": "stdout",
     "output_type": "stream",
     "text": [
      "Month is May and the number of days 31\n"
     ]
    }
   ],
   "source": [
    "# Write a program to accept a number from 1 to 12 and display name of the month and days in that month like 1 for January and number of days 31, and so on.\n",
    "\n",
    "num = int(input('Enter the number =>'))\n",
    "if (num==1):\n",
    "    print(\"Month is January and the number of days 31\")\n",
    "elif (num==2):  \n",
    "    year=int(input(\"Enter the year\"))\n",
    "    if (year%4==0 and year%100!=0) or year%400==0:\n",
    "        print(\"Month is Febuary and the number of days 29\")\n",
    "    else:\n",
    "        print(\"Month is Febuary and the number of days 28\")\n",
    "elif (num==3):  \n",
    "    print(\"Month is March and the number of days 31\")    \n",
    "elif (num==4):  \n",
    "    print(\"Month is April and the number of days 30\")\n",
    "elif (num==5):  \n",
    "    print(\"Month is May and the number of days 31\")\n",
    "elif (num==6):  \n",
    "    print(\"Month is June and the number of days 30\")\n",
    "elif (num==7):  \n",
    "    print(\"Month is July and the number of days 31\")\n",
    "elif (num==8):  \n",
    "    print(\"Month is August and the number of days 31\")\n",
    "elif (num==9):  \n",
    "    print(\"Month is September and the number of days 30\")\n",
    "elif (num==10):  \n",
    "    print(\"Month is October and the number of days 31\")\n",
    "elif (num==11):  \n",
    "    print(\"Month is November and the number of days 30\")\n",
    "elif (num==12):  \n",
    "    print(\"Month is December and the number of days 31\")\n",
    "else :\n",
    "    print('Good Bye 👋 ')\n"
   ]
  },
  {
   "cell_type": "markdown",
   "id": "f58815dd-d56d-4d5a-8300-314ee6e11d88",
   "metadata": {},
   "source": [
    "### What do you mean by statement\n",
    "Ans:- A statement is an instruction that the Python interpreter can execute."
   ]
  },
  {
   "cell_type": "code",
   "execution_count": 8,
   "id": "69b49eb5-c93d-4ad1-b8b5-c8fc2b8118b7",
   "metadata": {},
   "outputs": [
    {
     "name": "stdout",
     "output_type": "stream",
     "text": [
      "101\n"
     ]
    }
   ],
   "source": [
    "if True:\n",
    "    print(101)\n",
    "else:\n",
    "    print(202)"
   ]
  },
  {
   "cell_type": "code",
   "execution_count": 2,
   "id": "6f9c6223-c2c3-4ffb-97a7-6239130a1864",
   "metadata": {},
   "outputs": [
    {
     "name": "stdout",
     "output_type": "stream",
     "text": [
      "Enter the value of A => 4\n",
      "Enter the value of B => 10\n"
     ]
    },
    {
     "name": "stdout",
     "output_type": "stream",
     "text": [
      "B is greater than A\n"
     ]
    },
    {
     "name": "stdout",
     "output_type": "stream",
     "text": [
      "Enter the value of C => 5\n",
      "Enter the value of D => 1\n"
     ]
    },
    {
     "name": "stdout",
     "output_type": "stream",
     "text": [
      "C is greater than D\n"
     ]
    }
   ],
   "source": [
    "# Write logical expression for the following:\n",
    "# A is greater than B and C is greater than D\n",
    "\n",
    "A = int(input('Enter the value of A =>'))\n",
    "B = int(input('Enter the value of B =>'))\n",
    "if (A>B):\n",
    "    print('A is greater than B')\n",
    "else:\n",
    "    print('B is greater than A')\n",
    "C = int(input('Enter the value of C =>'))\n",
    "D = int(input('Enter the value of D =>'))\n",
    "if (C>D):\n",
    "    print('C is greater than D')\n",
    "else:\n",
    "    print('D is greater than C')\n"
   ]
  },
  {
   "cell_type": "code",
   "execution_count": 4,
   "id": "1ae7a575-f4fe-4ba2-8857-71417f5809b4",
   "metadata": {},
   "outputs": [
    {
     "data": {
      "text/plain": [
       "False"
      ]
     },
     "execution_count": 4,
     "metadata": {},
     "output_type": "execute_result"
    }
   ],
   "source": [
    "# Write logical expression for the following:\n",
    "# A is greater than B and C is greater than D\n",
    "\n",
    "A>B and D<C"
   ]
  },
  {
   "cell_type": "code",
   "execution_count": 4,
   "id": "fe22edba-428c-48e3-8379-2e8bb5d9226d",
   "metadata": {},
   "outputs": [
    {
     "name": "stdout",
     "output_type": "stream",
     "text": [
      "Enter the city => mumbai\n"
     ]
    },
    {
     "name": "stdout",
     "output_type": "stream",
     "text": [
      "Good Bye 👋\n"
     ]
    }
   ],
   "source": [
    "# Accept and city from the user and display monument of the city.\n",
    "#       City                    Monument\n",
    "#       Delhi                   Red Fort\n",
    "#       Agra                    Taj Mahal\n",
    "#       Jaipur                  Jal Mahal\n",
    "\n",
    "City = input('Enter the city =>')\n",
    "if (City=='Delhi'):\n",
    "    print('Red Fort')\n",
    "elif (City=='Agra'):\n",
    "    print('Taj Mahal')\n",
    "elif (City=='Jaipur'):\n",
    "    print('Jal Mahal')\n",
    "else:\n",
    "    print(\"Good Bye 👋\")"
   ]
  },
  {
   "cell_type": "code",
   "execution_count": 8,
   "id": "86f33294-6ff3-4972-b00b-737e3f7b763e",
   "metadata": {},
   "outputs": [
    {
     "name": "stdout",
     "output_type": "stream",
     "text": [
      "Hello\n"
     ]
    }
   ],
   "source": [
    "#write the output of the following if a = 9\n",
    "\n",
    "a=9\n",
    "if (a>5 and a<=10):\n",
    "    print('Hello')\n",
    "else:\n",
    "    print('Bye Bye 👋 ')"
   ]
  },
  {
   "cell_type": "code",
   "execution_count": 17,
   "id": "81bf9cfc-8313-4d01-8867-e6e2b8505a8c",
   "metadata": {},
   "outputs": [
    {
     "name": "stdout",
     "output_type": "stream",
     "text": [
      "Enter any number 145\n"
     ]
    },
    {
     "name": "stdout",
     "output_type": "stream",
     "text": [
      "number is three digit\n"
     ]
    }
   ],
   "source": [
    "# Write a program to check whether a number entered is three digit number or not. \n",
    "\n",
    "num1 = (input('Enter any number'))\n",
    "if len(num1)==3:\n",
    "    print('Number is three digit')\n",
    "else:\n",
    "    print('Number is not three digit')"
   ]
  },
  {
   "cell_type": "code",
   "execution_count": 20,
   "id": "c6846bc1-0fe5-45a1-aad0-631b5cf27c6a",
   "metadata": {},
   "outputs": [
    {
     "name": "stdout",
     "output_type": "stream",
     "text": [
      "Enter the person age => 18\n"
     ]
    },
    {
     "name": "stdout",
     "output_type": "stream",
     "text": [
      "Eligible for voting\n"
     ]
    }
   ],
   "source": [
    "# Write a program to checck whether a person is eligible for voting or not. (voting age >=10)\n",
    "\n",
    "person_age = int(input('Enter the person age =>'))\n",
    "if person_age>=18:\n",
    "    print('Eligible for voting')\n",
    "else:\n",
    "    print('Not eligible for voting')\n"
   ]
  },
  {
   "cell_type": "code",
   "execution_count": 23,
   "id": "33aab8e7-08fb-4194-9787-f57c8988bc41",
   "metadata": {},
   "outputs": [
    {
     "name": "stdout",
     "output_type": "stream",
     "text": [
      "Enter the person age => 65\n"
     ]
    },
    {
     "name": "stdout",
     "output_type": "stream",
     "text": [
      "Person is senior citizen\n"
     ]
    }
   ],
   "source": [
    "# Write a program to checck whether a person is senior citizen or not.\n",
    "\n",
    "person_age = int(input('Enter the person age =>'))\n",
    "if person_age>=60:\n",
    "    print('Person is senior citizen')\n",
    "else:\n",
    "    print('Person is not a senior citizen')"
   ]
  },
  {
   "cell_type": "code",
   "execution_count": 7,
   "id": "28346c81-49f0-451f-a4fb-5ebf91a8733d",
   "metadata": {},
   "outputs": [
    {
     "name": "stdout",
     "output_type": "stream",
     "text": [
      "Enter the first number (num1) => 4\n",
      "Enter the second number (num2) => 5\n"
     ]
    },
    {
     "name": "stdout",
     "output_type": "stream",
     "text": [
      "num1 is lowest than 5\n"
     ]
    }
   ],
   "source": [
    "# Write a program to find the lowest number out of two number excepted from user.\n",
    "\n",
    "\n",
    "num1 = int(input('Enter the first number (num1) =>'))\n",
    "num2 = int(input('Enter the second number (num2) =>'))\n",
    "if (num1<num2):\n",
    "    print('num1 is lowest than',num2)\n",
    "else:\n",
    "    print('num2 is largest',num1)\n",
    "    "
   ]
  },
  {
   "cell_type": "code",
   "execution_count": 9,
   "id": "4cbf4ac4-aaa8-4ded-b9fb-d6a7fab466d2",
   "metadata": {},
   "outputs": [
    {
     "name": "stdout",
     "output_type": "stream",
     "text": [
      "Enter the first number (num1) => 4\n",
      "Enter the second number (num2) => 5\n"
     ]
    },
    {
     "name": "stdout",
     "output_type": "stream",
     "text": [
      "num2 is greater 4\n"
     ]
    }
   ],
   "source": [
    "# Write a program to find the largest number out of two number excepted from user.\n",
    "\n",
    "\n",
    "num1 = int(input('Enter the first number (num1) =>'))\n",
    "num2 = int(input('Enter the second number (num2) =>'))\n",
    "if (num1>num2):\n",
    "    print('num1 is greater than',num2)\n",
    "else:\n",
    "    print('num2 is greater',num1)\n",
    "    "
   ]
  },
  {
   "cell_type": "code",
   "execution_count": 12,
   "id": "4b268443-374e-4c7f-8c0f-f7b7a073a0aa",
   "metadata": {},
   "outputs": [
    {
     "name": "stdout",
     "output_type": "stream",
     "text": [
      "Enter the number => 0\n"
     ]
    },
    {
     "name": "stdout",
     "output_type": "stream",
     "text": [
      "Number is positive\n"
     ]
    }
   ],
   "source": [
    "# Write a program to check whether a number is positive or negative.\n",
    "\n",
    "num = int(input('Enter the number =>'))\n",
    "\n",
    "if (num>=0):\n",
    "    print('Number is positive')\n",
    "else:\n",
    "    print('number is negative')\n"
   ]
  },
  {
   "cell_type": "code",
   "execution_count": 17,
   "id": "77a6f770-2f42-4392-8a23-7f6aeae5586d",
   "metadata": {},
   "outputs": [
    {
     "name": "stdout",
     "output_type": "stream",
     "text": [
      "Enter the number = 10\n"
     ]
    },
    {
     "name": "stdout",
     "output_type": "stream",
     "text": [
      "Number is Even\n"
     ]
    }
   ],
   "source": [
    "# Write a program to check whether a number is even or odd.\n",
    "\n",
    "num = int(input('Enter the number ='))\n",
    "if (num%2==0):\n",
    "    print('Number is Even')\n",
    "else :\n",
    "    print('Number is odd')"
   ]
  },
  {
   "cell_type": "code",
   "execution_count": 20,
   "id": "3bfc4587-d0ac-4e91-913f-fcc6226ff7f6",
   "metadata": {},
   "outputs": [
    {
     "name": "stdout",
     "output_type": "stream",
     "text": [
      "Enter the number => 4\n"
     ]
    },
    {
     "name": "stdout",
     "output_type": "stream",
     "text": [
      "Number is divisible by 2\n"
     ]
    }
   ],
   "source": [
    "# Write a program to whether a number (accepted from user) is disivle by 2 and 3 both.\n",
    "\n",
    "num = int(input('Enter the number =>'))\n",
    "if (num%2==0 and num%3==0):\n",
    "    print('Number is divisible by both 2 and 3')\n",
    "elif (num%3==0):\n",
    "    print('Number is divisible by 3')\n",
    "elif (num%2==0):\n",
    "    print('Number is divisible by 2')\n",
    "else :\n",
    "    print('Good Bye 👋 ')"
   ]
  },
  {
   "cell_type": "code",
   "execution_count": 24,
   "id": "96dd9dfe-d112-4323-aad8-0bcf2bc47ccc",
   "metadata": {},
   "outputs": [
    {
     "name": "stdout",
     "output_type": "stream",
     "text": [
      "Enter the num1 => 5\n",
      "Enter the num2 => 6\n",
      "Enter the num3 => 4\n"
     ]
    },
    {
     "name": "stdout",
     "output_type": "stream",
     "text": [
      "num2 is greater\n"
     ]
    }
   ],
   "source": [
    "# Write a Program to find the largest number out of three number excepted from user.\n",
    "\n",
    "num1 = int(input('Enter the num1 =>'))\n",
    "num2 = int(input('Enter the num2 =>'))\n",
    "num3 = int(input('Enter the num3 =>'))\n",
    "\n",
    "if (num1>num2 and num1>num3):\n",
    "    print('num1 is greater')\n",
    "elif (num2>num1 and num2>num3):\n",
    "    print('num2 is greater')\n",
    "else:\n",
    "    print('num3 is greater')"
   ]
  },
  {
   "cell_type": "code",
   "execution_count": 26,
   "id": "033142ce-3185-4ded-82f1-a25fa65774ef",
   "metadata": {},
   "outputs": [
    {
     "name": "stdout",
     "output_type": "stream",
     "text": [
      "Enter the temperatue in degree Celsius => 99\n"
     ]
    },
    {
     "name": "stdout",
     "output_type": "stream",
     "text": [
      "Water is not boiling\n"
     ]
    }
   ],
   "source": [
    "# Accept the temperatue in degree Celsius of water and check whether it is boiling or not (boiling point of water in 100 degree Celsius)\n",
    "\n",
    "temp = float(input('Enter the temperatue in degree Celsius =>'))\n",
    "if(temp>=100):\n",
    "    print('Water is boiling')\n",
    "else:\n",
    "    print('Water is not boiling')\n"
   ]
  },
  {
   "cell_type": "markdown",
   "id": "914cc20b-afd8-46b4-bd0e-c2377fa6747c",
   "metadata": {},
   "source": [
    "### ________ is a graphical representation of steps (algorithm/flow chart)\n",
    "Ans:- Flow chart"
   ]
  },
  {
   "cell_type": "markdown",
   "id": "d17351f5-9a7c-469d-9fb0-0452e4546ef9",
   "metadata": {},
   "source": [
    "### Python has _______statement as empty statement (Pass/Fail)\n",
    "Ans:- Pass"
   ]
  },
  {
   "cell_type": "markdown",
   "id": "99fe2856-81df-4b5d-871e-3a1a702a5d9f",
   "metadata": {},
   "source": [
    "### In python, a block is a group of ___________ statement having same indentation level.(consecutive/alternate)\n",
    "Ans:- Consecutive"
   ]
  },
  {
   "cell_type": "markdown",
   "id": "303b4880-051b-403b-a608-831c95c85cfd",
   "metadata": {},
   "source": [
    "### Out of 'elif' and 'else if', which is the correct statement in python?\n",
    "Ans:- elif\n"
   ]
  },
  {
   "cell_type": "code",
   "execution_count": 33,
   "id": "1ff0e5ed-0cb6-4b1a-b275-80f00932405c",
   "metadata": {},
   "outputs": [
    {
     "name": "stdout",
     "output_type": "stream",
     "text": [
      "Enter the age of first person => 78\n",
      "Enter the age of second person => 98\n",
      "Enter the age of third person => 55\n",
      "Enter the age of fourth person => 35\n"
     ]
    },
    {
     "name": "stdout",
     "output_type": "stream",
     "text": [
      "Person_4 is youngest => 35\n"
     ]
    }
   ],
   "source": [
    "# Accept the age of 4 people and display the youngest one?\n",
    "\n",
    "Person_1 = int(input('Enter the age of first person =>')) \n",
    "Person_2 = int(input('Enter the age of second person =>'))\n",
    "Person_3 = int(input('Enter the age of third person =>')) \n",
    "Person_4 = int(input('Enter the age of fourth person =>'))\n",
    "if (Person_1<Person_2 and Person_1<Person_3 and Person_1<Person_4):\n",
    "    print('Person_1 is youngest =>',Person_1)\n",
    "elif (Person_2<Person_1 and Person_2<Person_3 and Person_2<Person_4):\n",
    "    print('Person_2 is youngest =>',Person_2)\n",
    "elif (Person_3<Person_1 and Person_3<Person_2 and Person_3<Person_4):\n",
    "    print('Person_3 is youngest =>',Person_3) \n",
    "else:\n",
    "    print('Person_4 is youngest =>',Person_4)"
   ]
  },
  {
   "cell_type": "markdown",
   "id": "fd2d4281-6ee7-409d-86ef-088e607e89b0",
   "metadata": {},
   "source": [
    "### What is the purpose of else in if, elif ladder?\n",
    "Ans:- When no condition is true in if, elif ladder then else is used."
   ]
  },
  {
   "cell_type": "code",
   "execution_count": 35,
   "id": "5ba98765-b2a7-4b09-8e13-177a1233f131",
   "metadata": {},
   "outputs": [
    {
     "name": "stdout",
     "output_type": "stream",
     "text": [
      "Enter the age of first person => 99\n",
      "Enter the age of second person => 75\n",
      "Enter the age of third person => 11\n",
      "Enter the age of fourth person => 60\n"
     ]
    },
    {
     "name": "stdout",
     "output_type": "stream",
     "text": [
      "Person_1 is oldest => 99\n"
     ]
    }
   ],
   "source": [
    "# Accept the age of 4 people and display the oldest one?\n",
    "\n",
    "Person_1 = int(input('Enter the age of first person =>')) \n",
    "Person_2 = int(input('Enter the age of second person =>'))\n",
    "Person_3 = int(input('Enter the age of third person =>')) \n",
    "Person_4 = int(input('Enter the age of fourth person =>'))\n",
    "if (Person_1>Person_2 and Person_1>Person_3 and Person_1>Person_4):\n",
    "    print('Person_1 is oldest =>',Person_1)\n",
    "elif (Person_2>Person_1 and Person_2>Person_3 and Person_2>Person_4):\n",
    "    print('Person_2 is oldest =>',Person_2)\n",
    "elif (Person_3>Person_1 and Person_3>Person_2 and Person_3>Person_4):\n",
    "    print('Person_3 is oldest =>',Person_3) \n",
    "else:\n",
    "    print('Person_4 is oldest =>',Person_4)"
   ]
  },
  {
   "cell_type": "code",
   "execution_count": 36,
   "id": "0c61c810-535f-43e4-a973-f738306f6ed6",
   "metadata": {},
   "outputs": [
    {
     "name": "stdout",
     "output_type": "stream",
     "text": [
      "Enter the number => 5\n"
     ]
    },
    {
     "name": "stdout",
     "output_type": "stream",
     "text": [
      "Given number is not prime number\n"
     ]
    }
   ],
   "source": [
    "# Write a program to check whether a number is prime or not.\n",
    "\n",
    "num = int(input('Enter the number =>'))\n",
    "if (num>1 and num%2==0) :\n",
    "    print('Given number is prime number')\n",
    "else:\n",
    "    print('Given number is not prime number') "
   ]
  },
  {
   "cell_type": "code",
   "execution_count": 4,
   "id": "f1ac0f0e-bced-4808-8a1f-d641ff7dd231",
   "metadata": {},
   "outputs": [
    {
     "name": "stdout",
     "output_type": "stream",
     "text": [
      "Enter the character => A\n"
     ]
    },
    {
     "name": "stdout",
     "output_type": "stream",
     "text": [
      "Character is vowel => A\n"
     ]
    }
   ],
   "source": [
    "# Write a program to check a character is vowel or not\n",
    "\n",
    "char = input('Enter the character =>')\n",
    "if char=='a' or char=='e' or char=='i' or char=='o' or char=='u' or char=='A' or char=='E' or char=='I' or char=='O' or char=='U' :\n",
    "    print('Character is vowel =>',char)\n",
    "else:\n",
    "    print('Character is not a vowel =>',char)\n"
   ]
  },
  {
   "cell_type": "code",
   "execution_count": 8,
   "id": "f8e6661e-d8bd-42f1-89ba-50d5cd8ea183",
   "metadata": {},
   "outputs": [
    {
     "name": "stdout",
     "output_type": "stream",
     "text": [
      "Enter the total number of classses => 200\n",
      "Enter the number of classses present => 150\n"
     ]
    },
    {
     "name": "stdout",
     "output_type": "stream",
     "text": [
      "No. of days absents 50\n",
      "Percentage of class attended => 75.0 %\n",
      "Student will be able to sit in exam.\n"
     ]
    }
   ],
   "source": [
    "# Accept the following from the user and calculate the percentage of class attended:\n",
    "# (a.) Total number of working days\n",
    "# (b.) Total number of days for absent\n",
    "\n",
    "#After calculating percentage show that, If the percentage is less than 75, than student will not be able to sit in exam.\n",
    "\n",
    "total_num_of_classes = int(input('Enter the total number of classses =>'))\n",
    "num_of_classes_present = int(input('Enter the number of classses present =>'))\n",
    "print(\"No. of days absents\",total_num_of_classes-num_of_classes_present)\n",
    "percentage=(num_of_classes_present/total_num_of_classes)*100\n",
    "print(\"Percentage of class attended =>\",percentage,'%')\n",
    "if (percentage<75):\n",
    "    print('Student will not be able to sit in exam.')\n",
    "else:\n",
    "    print('Student will be able to sit in exam.')\n"
   ]
  },
  {
   "cell_type": "code",
   "execution_count": 17,
   "id": "d27eb30c-b612-41c2-90ac-79c466680927",
   "metadata": {},
   "outputs": [
    {
     "name": "stdout",
     "output_type": "stream",
     "text": [
      "Enter the Percentage => 45\n"
     ]
    },
    {
     "name": "stdout",
     "output_type": "stream",
     "text": [
      "Your grade is =>C\n"
     ]
    }
   ],
   "source": [
    "# Accept the percentage from the user and display the grade according to the following critria:\n",
    "# (a) Below 25 ----- D\n",
    "# (b) 25 to 45 ----- C\n",
    "# (c) 45 to 50 ----- B\n",
    "# (d) 50 to 60 ----- B+\n",
    "# (e) 60 to 80 ----- A\n",
    "# (f) Above 80 ----- A+\n",
    "\n",
    "per = int(input('Enter the Percentage =>'))\n",
    "if (per<25):\n",
    "    print('Your grade is =>D')\n",
    "elif (per>25 and per<=45): \n",
    "    print('Your grade is =>C')\n",
    "elif (per>45 and per<=50): \n",
    "    print('Your grade is =>B')\n",
    "elif (per>50 and per<=60): \n",
    "    print('Your grade is =>B+') \n",
    "elif (per>60 and per<=80): \n",
    "    print('Your grade is =>A')\n",
    "elif (per>80 and per<=100): \n",
    "    print('Your grade is =>A+')\n",
    "else:\n",
    "    print('Good Bye 👋')"
   ]
  },
  {
   "cell_type": "code",
   "execution_count": 27,
   "id": "708701f3-349d-4908-9421-96bc2914158a",
   "metadata": {},
   "outputs": [
    {
     "name": "stdout",
     "output_type": "stream",
     "text": [
      "Enter the salary => 20000\n",
      "Enter years of service => 5\n"
     ]
    },
    {
     "name": "stdout",
     "output_type": "stream",
     "text": [
      "Your net bonus amount is => 1000.0\n",
      "Your total salary with Bonus is => 21000.0\n"
     ]
    }
   ],
   "source": [
    "# A company decided to give bonus to employee according to following criteria:\n",
    "#   Time period of service              Bonus\n",
    "#     More than 10 years                 10%\n",
    "#       >=6 and <=10                      8%\n",
    "#     Less than 6 years                   5%\n",
    "#Ask user for their salary and years of service and print the net bonous amount.\n",
    "\n",
    "salary = int(input('Enter the salary =>'))\n",
    "year = int(input('Enter years of service =>'))\n",
    "if (year>10):\n",
    "    Bonus=((salary)*10/100)\n",
    "elif (year>=6 and year<=10):\n",
    "    Bonus=((salary)*8/100)\n",
    "elif (year<6):\n",
    "    Bonus=((salary)*5/100)\n",
    "print('Your net bonus amount is =>',Bonus)\n",
    "print('Your total salary with Bonus is =>',salary+Bonus)\n"
   ]
  },
  {
   "cell_type": "code",
   "execution_count": 33,
   "id": "991a83d9-c289-4c73-ba54-eedd1ee1ae04",
   "metadata": {},
   "outputs": [
    {
     "name": "stdout",
     "output_type": "stream",
     "text": [
      "Enter the marked price => 6000\n"
     ]
    },
    {
     "name": "stdout",
     "output_type": "stream",
     "text": [
      "You got the discount => 600.0\n",
      "After discount your payable net amount is =>Rs 5400.0 /-\n"
     ]
    }
   ],
   "source": [
    "# Accept the marked price from the user and calculate the Net amount as (Marked Price- Discount) to pay accordding to following criteria:\n",
    "#   Marked Price                           Discount\n",
    "#       >10000                                20%\n",
    "#   >7000 and <=10000                         15%\n",
    "#       <=7000                                10%\n",
    "\n",
    "marked_price = int(input('Enter the marked price =>'))\n",
    "if (marked_price>10000):\n",
    "    discount=((marked_price)*20/100)\n",
    "elif (marked_price>7000 and marked_price<=10000):\n",
    "    discount=((marked_price)*15/100)\n",
    "elif (marked_price<=7000):\n",
    "    discount=((marked_price)*10/100)\n",
    "print('You got the discount =>',discount)\n",
    "print('After discount your payable net amount is =>',marked_price-discount,'/-')\n"
   ]
  },
  {
   "cell_type": "code",
   "execution_count": 39,
   "id": "fb9c73f9-3748-468b-be4f-af950d94d37d",
   "metadata": {},
   "outputs": [
    {
     "name": "stdout",
     "output_type": "stream",
     "text": [
      "Enter the Percentage => 70\n"
     ]
    },
    {
     "name": "stdout",
     "output_type": "stream",
     "text": [
      "Excellent\n"
     ]
    }
   ],
   "source": [
    "# Write a programm to accept percentage and display the Category according to the following criteria:\n",
    "#      Percentage                   Category\n",
    "#         <40                        Failed\n",
    "#      >=40 & <55                     Fair\n",
    "#      >=55 & <65                     Good\n",
    "#        >=65                         Excellent\n",
    "\n",
    "per = int(input('Enter the Percentage =>'))\n",
    "if (per<40):\n",
    "    print('Failed')\n",
    "elif (per>=40 and per<55):\n",
    "    print('Fair')\n",
    "elif (per>=55 and per<65):\n",
    "    print('Good')\n",
    "elif (per>=65):\n",
    "    print('Excellent')\n",
    "else:\n",
    "    print('Good Bye')\n"
   ]
  },
  {
   "cell_type": "code",
   "execution_count": 68,
   "id": "0f30d123-61cf-4253-b05c-75853230444a",
   "metadata": {},
   "outputs": [
    {
     "name": "stdout",
     "output_type": "stream",
     "text": [
      "Enter the first side => 4\n",
      "Enter the second side => 4\n",
      "Enter the third side => 1\n"
     ]
    },
    {
     "name": "stdout",
     "output_type": "stream",
     "text": [
      "Triangle is isoscalene\n"
     ]
    }
   ],
   "source": [
    "# Accept three sides of a triangle and check ehether it is an equilateral, isosceles or scalene triangle.\n",
    "# Note:- \n",
    "# (.) An equilateral triangle is a triangle in which all the three sides are equal.\n",
    "# (.) A scalene triangle is a triangle that has three unequal sides.\n",
    "\n",
    "side1 = float(input('Enter the first side =>'))\n",
    "side2 = float(input('Enter the second side =>'))\n",
    "side3 = float(input('Enter the third side =>'))\n",
    "if (side1==side2 and side1==side3 and side2==side1 and side2==side3 and side3==side1 and side3==side2):\n",
    "    print('Triangle is Equilateral')\n",
    "elif (side1!=side2 and side1!=side3 and side2!=side1 and side2!=side3 and side3!=side1 and side3!=side2):\n",
    "    print('Triangle is scalene')\n",
    "elif ((side1==side2 and side2!=side3) or (side2==side3 and side1!=side2) or (side1==side3 and side1!=side2)):\n",
    "    print('Triangle is isoscalene')    "
   ]
  },
  {
   "cell_type": "code",
   "execution_count": 73,
   "id": "b1b3a5b3-d43a-413e-87ca-28962a949a59",
   "metadata": {},
   "outputs": [
    {
     "name": "stdout",
     "output_type": "stream",
     "text": [
      "Enter the first number 4\n",
      "Enter the first number 5\n",
      "Enter the operator /*\n"
     ]
    },
    {
     "name": "stdout",
     "output_type": "stream",
     "text": [
      "Wrong Input Good Bye\n"
     ]
    }
   ],
   "source": [
    "# Write a program to accept two numbers and mathematical operators and perform operation accordingly.\n",
    "# Like:-\n",
    "# Enter First Number: 7\n",
    "# Enter second number: 9\n",
    "# Enter operator : +\n",
    "# Your Answer is: 16\n",
    "\n",
    "num1 = int(input('Enter the first number'))\n",
    "num2 = int(input('Enter the first number'))\n",
    "operator = input('Enter the operator')\n",
    "if (operator=='+'):\n",
    "    print('Addition is =>',num1+num2)\n",
    "elif(operator=='-'):\n",
    "    print('Substraction is =>',num2-num1)\n",
    "elif(operator=='/'):\n",
    "    print('Division is =>',num1/num2)\n",
    "elif(operator=='%'):\n",
    "    print('Your modulus =>',num1%num2)\n",
    "elif(operator=='//'):\n",
    "    print('Your Floor =>',num1//num2)\n",
    "elif(operator=='**'):\n",
    "    print('Your exponential =>',num1**num2)\n",
    "else:\n",
    "    print('Wrong Input Good Bye')\n"
   ]
  },
  {
   "cell_type": "code",
   "execution_count": 9,
   "id": "f5856a8f-877b-412c-bbbf-fa61d89710be",
   "metadata": {},
   "outputs": [
    {
     "name": "stdout",
     "output_type": "stream",
     "text": [
      "Enter the age => 20\n",
      "Enter number of days => 20\n",
      "Enter the sex => m\n"
     ]
    },
    {
     "name": "stdout",
     "output_type": "stream",
     "text": [
      "Total Wages is => 14000\n"
     ]
    }
   ],
   "source": [
    "# Accept the age, sex('M','F'), number of days and display the wages accordingly\n",
    "#         Age                   Sex              Wage/day\n",
    "#     >=18 and <30               M                 700\n",
    "#                                F                 750\n",
    "#     >=30 and <=40              M                 800\n",
    "#                                F                 850\n",
    "\n",
    "age = int(input(\"Enter the age =>\"))\n",
    "num_days = int(input(\"Enter number of days =>\"))\n",
    "sex = input(\"Enter the sex =>\")\n",
    "if age>=18 and age<30 and sex.upper()=='M':\n",
    "   amount=(num_days)*700\n",
    "elif age>=18 and age<30 and sex.upper()=='F':\n",
    "    amount=(num_days)*750\n",
    "elif age>=30 and age<=40 and sex.upper=='M':\n",
    "   amount=(num_days)*800\n",
    "elif age>=30 and age<=40 and sex.upper()=='F':\n",
    "    amount=(num_days)*850\n",
    "print('Total Wages is =>',amount)"
   ]
  },
  {
   "cell_type": "code",
   "execution_count": 34,
   "id": "30d6d882-01b3-4eda-93e9-9f493055e72c",
   "metadata": {},
   "outputs": [
    {
     "name": "stdout",
     "output_type": "stream",
     "text": [
      "Enter the First number => 11\n",
      "Enter the Second number => 22\n",
      "Enter the Third number => 33\n"
     ]
    },
    {
     "name": "stdout",
     "output_type": "stream",
     "text": [
      "Second largest number is => 22\n"
     ]
    }
   ],
   "source": [
    "# Accept three number from the user and display the second largest number.\n",
    "\n",
    "a = int(input('Enter the First number =>'))\n",
    "b = int(input('Enter the Second number =>'))\n",
    "c = int(input('Enter the Third number =>'))\n",
    "if (a>b and a<c) or (a<b and a>c):\n",
    "    print(\"Second largest number is =>\",a)\n",
    "elif (b>a and b<c) or (b<a and b>c):\n",
    "    print(\"Second largest number is =>\",b)\n",
    "else :\n",
    "    print(\"Second largest number is =>\",c)"
   ]
  },
  {
   "cell_type": "code",
   "execution_count": 4,
   "id": "3cfc6c79-2437-4c84-86c3-266e7f1d5d13",
   "metadata": {},
   "outputs": [
    {
     "name": "stdout",
     "output_type": "stream",
     "text": [
      "Enter the Side_1 => 20\n",
      "Enter the Side_2 => 10\n",
      "Enter the Side_3 => 11\n"
     ]
    },
    {
     "name": "stdout",
     "output_type": "stream",
     "text": [
      "Triangle is possible\n"
     ]
    }
   ],
   "source": [
    "# Accept Three sides of a triangle and check whether the triangle is possible or not\n",
    "# Note:- (triangle is possible only when sum of any two side is greater than 3rd side)\n",
    "\n",
    "side_1= int(input(\"Enter the Side_1 =>\"))\n",
    "side_2= int(input(\"Enter the Side_2 =>\"))\n",
    "side_3= int(input(\"Enter the Side_3 =>\"))\n",
    "if ((side_1+side_2>side_3) and (side_2+side_3>side_1) and (side_3+side_1>side_2)):\n",
    "    print(\"Triangle is possible\")\n",
    "else:\n",
    "    print(\"Triangle is not possible\")"
   ]
  },
  {
   "cell_type": "code",
   "execution_count": 5,
   "id": "e359b6a0-f22f-4df1-8e4d-d5b8b1ca8378",
   "metadata": {},
   "outputs": [
    {
     "name": "stdout",
     "output_type": "stream",
     "text": [
      "Enter the value of i => 3\n",
      "Enter the value of j => 5\n",
      "Enter the value of k => 7\n"
     ]
    },
    {
     "name": "stdout",
     "output_type": "stream",
     "text": [
      "value of i is => 5\n",
      "value of j is => 5\n",
      "value of k is => 7\n"
     ]
    }
   ],
   "source": [
    "# consider the following code\n",
    "# What will the code print if the variable i,j and k have the following values ?\n",
    "# (1) i=3, j=5 and k=7\n",
    "# (1) i=-2, j=-5 and k=9\n",
    "# (1) i=8, j=15 and k=12\n",
    "# (1) i=13, j=15 and k=13\n",
    "# (1) i=3, j=5 and k=17\n",
    "# (1) i=25, j=15 and k=17\n",
    "\n",
    "i=int(input('Enter the value of i =>'))\n",
    "j=int(input('Enter the value of j =>'))\n",
    "k=int(input('Enter the value of k =>'))\n",
    "if i<j:\n",
    "    if j<k:\n",
    "        i=j\n",
    "    else: \n",
    "        j=k\n",
    "else:\n",
    "    if j>k:\n",
    "        j=i\n",
    "    else:\n",
    "        i=k\n",
    "print('value of i is =>',i)\n",
    "print('value of j is =>',j)\n",
    "print('value of k is =>',k)\n",
    "        "
   ]
  },
  {
   "cell_type": "code",
   "execution_count": 4,
   "id": "e8cd21e1-3cd3-4287-b317-a3daf96ffc6d",
   "metadata": {},
   "outputs": [
    {
     "name": "stdout",
     "output_type": "stream",
     "text": [
      "Enter the units => 600\n"
     ]
    },
    {
     "name": "stdout",
     "output_type": "stream",
     "text": [
      "Total amount to pay is => 1900\n"
     ]
    }
   ],
   "source": [
    "# Accept the electric units from user and calculate the bill according to the following rates.\n",
    "# First 100 Units -------------- free\n",
    "# Next 200 Units ---------------Rs2 per day.\n",
    "# Above 300 Units --------------Rs5 per day.\n",
    "# if number of units is 500 then total bill =0 + 400 + 1000 = 1400\n",
    "\n",
    "units = int(input(\"Enter the units =>\"))\n",
    "if units<100:\n",
    "    print(\"Your Bill is Free\")\n",
    "elif units>100 and units<=200:\n",
    "    price=(units-100)*2\n",
    "    print(\"Your bill is =>\",price)\n",
    "else :\n",
    "    price=400+(units-300)*5\n",
    "print(\"Total amount to pay is =>\",price)"
   ]
  },
  {
   "cell_type": "code",
   "execution_count": 7,
   "id": "027a2411-2e98-47f5-969e-f4e2aa26b836",
   "metadata": {},
   "outputs": [
    {
     "name": "stdout",
     "output_type": "stream",
     "text": [
      "Enter the number of days => 11\n"
     ]
    },
    {
     "name": "stdout",
     "output_type": "stream",
     "text": [
      "Your total library charge is => 44\n"
     ]
    }
   ],
   "source": [
    "# Accept the number of days from the user and calculate the charge for library according to following:\n",
    "# Till five days :     Rs2/day.\n",
    "#Six to ten days :     Rs3/day.\n",
    "# 11 to 15 days :      Rs4/day.\n",
    "# After 15 days :      Rs5/day.\n",
    "\n",
    "num_days = int(input(\"Enter the number of days =>\"))\n",
    "if num_days<=5:\n",
    "    price=(num_days*2)\n",
    "elif num_days<=6 and num_days<=10:\n",
    "    price=(num_days*3)\n",
    "elif num_days<=11 and num_days<=15:\n",
    "    price=(num_days*4)\n",
    "else :\n",
    "    num_days>15\n",
    "    price=(num_days*5)\n",
    "print(\"Your total library charge is =>\",price)"
   ]
  },
  {
   "cell_type": "code",
   "execution_count": 16,
   "id": "319dc090-973c-4911-bee0-68cc89d61e59",
   "metadata": {},
   "outputs": [
    {
     "name": "stdout",
     "output_type": "stream",
     "text": [
      "Enter the Kilometer => 110\n"
     ]
    },
    {
     "name": "stdout",
     "output_type": "stream",
     "text": [
      "Your fair price is => 1100.0\n"
     ]
    }
   ],
   "source": [
    "# Accept the kilometers covered and calculated the bill according to the following criteria :\n",
    "# First 10 km -------------- Rs11/km\n",
    "# Next 90 km --------------- Rs10/km\n",
    "# After that --------------- Rs9/km\n",
    "\n",
    "km = float(input(\"Enter the Kilometer =>\"))\n",
    "if km<=10:\n",
    "    price=km*11\n",
    "elif km>10 and km<90:\n",
    "    price=110+(km-10)*10\n",
    "else :\n",
    "    km>90\n",
    "    price=1010++(km-100)*9\n",
    "print(\"Your fair price is =>\",price)\n"
   ]
  },
  {
   "cell_type": "code",
   "execution_count": 21,
   "id": "c1f636ca-550b-4dc4-b7e3-8b2d77160ad5",
   "metadata": {},
   "outputs": [
    {
     "name": "stdout",
     "output_type": "stream",
     "text": [
      "Enter the english marks => 80\n",
      "Enter the maths marks => 25\n",
      "Enter the science marks => 35\n",
      "Enter the social Studies marks => 16\n"
     ]
    },
    {
     "name": "stdout",
     "output_type": "stream",
     "text": [
      "Try again\n"
     ]
    }
   ],
   "source": [
    "# Accept the marks of English, Maths and Science, Social Studies Subject and display the stream alloted acording to following.\n",
    "# All Subjects more than 80 marks --------------- Science Stream\n",
    "# English>80 and Math, Science above 50---------- Commerce Stream\n",
    "# English>80 and Social Studies>80 -------------- Humanities\n",
    "\n",
    "English = int(input(\"Enter the english marks =>\"))\n",
    "Maths = int(input(\"Enter the maths marks =>\"))\n",
    "Science = int(input(\"Enter the science marks =>\"))\n",
    "Social_Studies = int(input(\"Enter the social Studies marks =>\")) \n",
    "if English>80 and Maths>50 and Science>50 and  Social_Studies<50:\n",
    "    print(\"You can take Commerce Stream\")\n",
    "elif English>80 and Social_Studies>80 and Maths<80 and Science<80:\n",
    "    print(\"You can take Humanities\")\n",
    "elif English>=80 and Maths>=80 and Science>=80 and Social_Science>=80:\n",
    "    print(\"You can take Science Stream\")\n",
    "else :\n",
    "    print(\"Try again\")"
   ]
  },
  {
   "cell_type": "code",
   "execution_count": 24,
   "id": "3b8f8bb9-bbe2-4f16-8ec0-ad7c86201ef1",
   "metadata": {},
   "outputs": [
    {
     "name": "stdout",
     "output_type": "stream",
     "text": [
      "Enter the Salary => 20000\n",
      "Enter the Year => 4\n"
     ]
    },
    {
     "name": "stdout",
     "output_type": "stream",
     "text": [
      "Good bye 👋👋 No bonus\n"
     ]
    }
   ],
   "source": [
    "# A company decided to give bonus of 5% to employee if his/her year of service is more than 5 years.\n",
    "# Ask user for their salary and year of service and print the net bonus amount.\n",
    "\n",
    "Salary = int(input(\"Enter the Salary =>\"))\n",
    "Year = int(input(\"Enter the Year =>\"))\n",
    "if Year>5:\n",
    "    Bonus=(Salary)*5/100\n",
    "    Total_salary=(Salary+Bonus)\n",
    "    print(\"Your Bonus is =>\",Bonus)\n",
    "    print(\"You get total salary including bonus is =>\",Total_salary)\n",
    "else:\n",
    "    print(\"Good bye 👋👋 No bonus\")\n"
   ]
  },
  {
   "cell_type": "code",
   "execution_count": 27,
   "id": "447ec169-e6f3-4a2a-9453-af0584228574",
   "metadata": {},
   "outputs": [
    {
     "name": "stdout",
     "output_type": "stream",
     "text": [
      "Enter the Length of a rectangle => 4\n",
      "Enter the breadth of a rectangle => 4\n"
     ]
    },
    {
     "name": "stdout",
     "output_type": "stream",
     "text": [
      "It is a square\n"
     ]
    }
   ],
   "source": [
    "# Take values of length and breadth of a rectangle from user and check if it is square or not.\n",
    "\n",
    "length = int(input(\"Enter the Length of a rectangle =>\"))\n",
    "breadth = int(input(\"Enter the breadth of a rectangle =>\"))\n",
    "if length!=breadth:\n",
    "    print(\"It is a rectangle\")\n",
    "else :\n",
    "    print(\"It is a square\")"
   ]
  },
  {
   "cell_type": "code",
   "execution_count": 32,
   "id": "6267f211-8460-4517-b89d-91a0c636c829",
   "metadata": {},
   "outputs": [
    {
     "name": "stdout",
     "output_type": "stream",
     "text": [
      "Enter the first number => 4\n",
      "Enter the second number => 5\n"
     ]
    },
    {
     "name": "stdout",
     "output_type": "stream",
     "text": [
      "Num2 is greater than Num1 => 5\n"
     ]
    }
   ],
   "source": [
    "# Take two int values from user and print greatest among them.\n",
    "\n",
    "num1 = int(input(\"Enter the first number =>\"))\n",
    "num2 = int(input(\"Enter the second number =>\"))\n",
    "if num1>num2:\n",
    "    print(\"Num1 is greater than Num2 =>\",num1)\n",
    "elif (num1==num2):\n",
    "    print(\"Num1 and Num2 both are equal\")\n",
    "else :\n",
    "    (num1<num2)\n",
    "    print(\"Num2 is greater than Num1 =>\",num2)"
   ]
  },
  {
   "cell_type": "code",
   "execution_count": 35,
   "id": "ae1340b3-57fd-45fd-ab23-bc7de8551481",
   "metadata": {},
   "outputs": [
    {
     "name": "stdout",
     "output_type": "stream",
     "text": [
      "Enter the quantity => 11\n"
     ]
    },
    {
     "name": "stdout",
     "output_type": "stream",
     "text": [
      "Your total cost is => 1100\n",
      "You got discount => 110.0\n",
      "Your net payable charges is => 990.0\n"
     ]
    }
   ],
   "source": [
    "# A shop will give discount of 10% if the cost of purchased quantity is more than 1000.\n",
    "# Ask user for quantity\n",
    "# Suppose, one unit will cost 100.\n",
    "# Judge and print total cost for user.\n",
    "\n",
    "quantity = int(input(\"Enter the quantity =>\"))\n",
    "if quantity*100>1000:\n",
    "    cost=(quantity*100)\n",
    "    discount=(cost)*10/100\n",
    "    print(\"Your total cost is =>\",cost)\n",
    "    print(\"You got discount =>\",discount)\n",
    "    print(\"Your net payable charges is =>\",cost-discount)\n",
    "else :\n",
    "    quantity<1000\n",
    "    print(\"Sorry no discount\")\n",
    "    "
   ]
  },
  {
   "cell_type": "code",
   "execution_count": 38,
   "id": "3f25aa81-bfe9-4235-b970-becf5b8dcc8d",
   "metadata": {},
   "outputs": [
    {
     "name": "stdout",
     "output_type": "stream",
     "text": [
      "Enter the marks => 70\n"
     ]
    },
    {
     "name": "stdout",
     "output_type": "stream",
     "text": [
      "Grade => B\n"
     ]
    }
   ],
   "source": [
    "# A school has following rules for grading system:\n",
    "# (a.) Below 25 - F\n",
    "# (b.) 25 to 45 - E\n",
    "# (c.) 45 to 50 - D\n",
    "# (d.) 50 to 60 - C\n",
    "# (e.) 60 to 80 - B\n",
    "# (f.) Above 80 - A\n",
    "# Ask user to enter marks and print the corresponding grade.\n",
    "\n",
    "marks = int(input(\"Enter the marks =>\"))\n",
    "if marks<25:\n",
    "    print(\"Grade => F\")\n",
    "elif marks>25 and marks<45:\n",
    "    print(\"Grade => E\")\n",
    "elif marks>45 and marks<50:\n",
    "    print(\"Grade => D\")\n",
    "elif marks>50 and marks<60:\n",
    "    print(\"Grade => C\")\n",
    "elif marks>60 and marks<80:\n",
    "    print(\"Grade => B\")\n",
    "else :\n",
    "    marks>80\n",
    "    print(\"Grade => A\")"
   ]
  },
  {
   "cell_type": "code",
   "execution_count": 15,
   "id": "674c5f02-849b-4a6b-854e-391c7105b147",
   "metadata": {},
   "outputs": [
    {
     "name": "stdout",
     "output_type": "stream",
     "text": [
      "Enter the age of person_1 => 5\n",
      "Enter the age of person_2 => 6\n",
      "Enter the age of person_3 => 4\n"
     ]
    },
    {
     "name": "stdout",
     "output_type": "stream",
     "text": [
      " \n",
      "Person_2 is oldest => 6\n",
      "Person_3 is youngest => 4\n"
     ]
    }
   ],
   "source": [
    "# Take input of age of 3 people by user and determine oldest and youngest among them.\n",
    "\n",
    "person_1 = int(input(\"Enter the age of person_1 =>\"))\n",
    "person_2 = int(input(\"Enter the age of person_2 =>\"))\n",
    "person_3 = int(input(\"Enter the age of person_3 =>\"))\n",
    "print(\" \")\n",
    "if person_1>person_2 and person_1>person_3:\n",
    "    print(\"Person_1 is oldest =>\",person_1)\n",
    "elif person_2>person_1 and person_2>person_3:\n",
    "    print(\"Person_2 is oldest =>\",person_2)\n",
    "else :\n",
    "    print(\"Person_3 is oldest =>\",person_3)\n",
    "if person_1<person_2 and person_1<person_3:\n",
    "    print(\"Person_1 is youngest =>\",person_1)\n",
    "elif person_2<person_1 and person_2<person_3:\n",
    "    print(\"Person_2 is youngest =>\",person_2)\n",
    "else :\n",
    "    print(\"Person_3 is youngest =>\",person_3)"
   ]
  },
  {
   "cell_type": "code",
   "execution_count": 26,
   "id": "da74f983-63a6-4837-8d5e-925d412dbebd",
   "metadata": {},
   "outputs": [
    {
     "name": "stdout",
     "output_type": "stream",
     "text": [
      "Enter the number => -1\n"
     ]
    },
    {
     "name": "stdout",
     "output_type": "stream",
     "text": [
      "num is => 1\n"
     ]
    }
   ],
   "source": [
    "# Write a program to print absolute vlaue of a number entered by user. E.g.-\n",
    "#    INPUT: 1        OUTPUT: 1\n",
    "#    INPUT: -1        OUTPUT: 1\n",
    "\n",
    "num = int(input(\"Enter the number =>\"))\n",
    "if num<0:\n",
    "    print(\"num is =>\",num*-1)\n",
    "else :\n",
    "    print(\"num is =>\",num)"
   ]
  },
  {
   "cell_type": "code",
   "execution_count": 28,
   "id": "f5d54963-20c6-43a9-9a79-f90f4ed4bdd7",
   "metadata": {},
   "outputs": [
    {
     "name": "stdout",
     "output_type": "stream",
     "text": [
      "Enter the total number of classes => 200\n",
      "Enter the number of classes attend => 140\n"
     ]
    },
    {
     "name": "stdout",
     "output_type": "stream",
     "text": [
      "The number of classes absent => 60\n",
      "Percentage of class attended => 70.0\n",
      "His/Her not sit in exam\n"
     ]
    }
   ],
   "source": [
    "# A student will not be allowed to sit in exam if his/her attendence is less than 75%.\n",
    "# Take following input from user\n",
    "# Number of classes held\n",
    "# Number of classes attended.\n",
    "# And print\n",
    "# percentage of class attended\n",
    "# Is student is allowed to sit in exam or not.\n",
    "\n",
    "total_classes = int(input(\"Enter the total number of classes =>\"))\n",
    "num_class_attend = int(input(\"Enter the number of classes attend =>\"))\n",
    "num_class_absent = total_classes - num_class_attend\n",
    "print(\"The number of classes absent =>\",num_class_absent)\n",
    "percentage = (num_class_attend/total_classes)*100\n",
    "print(\"Percentage of class attended =>\",percentage)\n",
    "if percentage<75:\n",
    "    print('His/Her not sit in exam')\n",
    "else:\n",
    "    print('His/Her sit in exam')"
   ]
  },
  {
   "cell_type": "code",
   "execution_count": 42,
   "id": "c9e060f3-6d64-4d2d-b757-1f3a83286cfc",
   "metadata": {},
   "outputs": [
    {
     "name": "stdout",
     "output_type": "stream",
     "text": [
      "Enter the total number of classes => 200\n",
      "Enter the number of classes attend => 140\n"
     ]
    },
    {
     "name": "stdout",
     "output_type": "stream",
     "text": [
      "The number of classes absent => 60\n",
      "Percentage of class attended => 70.0\n"
     ]
    },
    {
     "name": "stdout",
     "output_type": "stream",
     "text": [
      "Any medical cause => Y\n"
     ]
    },
    {
     "name": "stdout",
     "output_type": "stream",
     "text": [
      "You are allow\n"
     ]
    }
   ],
   "source": [
    "#Modify the above question to allow student to sit if he/she has medical cause. Ask user if he/she has medical cause or not ( 'Y' or 'N' ) and print accordingly.\n",
    "\n",
    "\n",
    "total_classes = int(input(\"Enter the total number of classes =>\"))\n",
    "num_class_attend = int(input(\"Enter the number of classes attend =>\"))\n",
    "num_class_absent = total_classes - num_class_attend\n",
    "print(\"The number of classes absent =>\",num_class_absent)\n",
    "percentage = (num_class_attend/total_classes)*100\n",
    "print(\"Percentage of class attended =>\",percentage)\n",
    "medical_cause = input('Any medical cause =>')\n",
    "medical_cause = medical_cause.upper()\n",
    "if medical_cause=='Y':\n",
    "    print('You are allow')\n",
    "elif percentage<75:\n",
    "    print('His/Her not sit in exam')\n",
    "else:\n",
    "    print('His/Her sit in exam')"
   ]
  },
  {
   "cell_type": "code",
   "execution_count": 49,
   "id": "421bb218-4176-4e08-862b-458e9a4cc63c",
   "metadata": {},
   "outputs": [
    {
     "name": "stdout",
     "output_type": "stream",
     "text": [
      "Enter the year => 2025\n"
     ]
    },
    {
     "name": "stdout",
     "output_type": "stream",
     "text": [
      "Year is not a leap year => 2025\n"
     ]
    }
   ],
   "source": [
    "#Write a program to check if a year is leap year or not.\n",
    "#If a year is divisible by 4 then it is leap year but if the year is century year like 2000, 1900, 2100 then it must be divisible by 400. \n",
    "\n",
    "year = int(input('Enter the year =>'))\n",
    "if year%4==0 and year%100!=0 or year%400==0:\n",
    "    print('Year is a leap year =>',year)\n",
    "else :\n",
    "    print('Year is not a leap year =>',year)"
   ]
  },
  {
   "cell_type": "code",
   "execution_count": 9,
   "id": "0b02aec3-40ec-45c0-ac97-d952a8d99f1f",
   "metadata": {},
   "outputs": [
    {
     "name": "stdout",
     "output_type": "stream",
     "text": [
      "Enter the employee sex => M\n",
      "Enter the age => 65\n"
     ]
    },
    {
     "name": "stdout",
     "output_type": "stream",
     "text": [
      "ERROR\n"
     ]
    }
   ],
   "source": [
    "# Ask user to enter age, sex ( M or F ), marital status ( Y or N ) and then using following rules print their place of service.\n",
    "# if employee is female, then she will work only in urban areas.\n",
    "# if employee is a male and age is in between 20 to 40 then he may work in anywhere\n",
    "# if employee is male and age is in between 40 t0 60 then he will work in urban areas only.\n",
    "# And any other input of age should print \"ERROR\". \n",
    "\n",
    "employee_sex = input('Enter the employee sex =>')\n",
    "age = int(input('Enter the age =>'))\n",
    "#marital_status = input('Enter the marital_status =>')\n",
    "if employee_sex=='M' and age>20 and age<40:\n",
    "    print('He may work in anywhere')\n",
    "elif employee_sex=='M' and age>40 and age<60:\n",
    "    print('He may work in urban areas only')\n",
    "elif employee_sex=='F':\n",
    "    print('She will work only in urban areas')\n",
    "else :\n",
    "    print('ERROR')"
   ]
  },
  {
   "cell_type": "code",
   "execution_count": 69,
   "id": "1fee8014-e291-4d56-ad45-e781d188179d",
   "metadata": {},
   "outputs": [
    {
     "name": "stdout",
     "output_type": "stream",
     "text": [
      "Enter the number => 123\n"
     ]
    },
    {
     "name": "stdout",
     "output_type": "stream",
     "text": [
      "Your reverser number is => 3 2 1\n"
     ]
    }
   ],
   "source": [
    "# A 4 digit number is entered through keyboard. Write a program to print a new number with digits reversed as of orignal one. E.g.-\n",
    "#      INPUT : 1234        OUTPUT : 4321\n",
    "#      INPUT : 5982        OUTPUT : 2895 \n",
    "\n",
    "num = int(input(\"Enter the number =>\"))\n",
    "'''rev = 0 \n",
    "while (num>0):\n",
    "    rev=(rev*10)+num%10\n",
    "    num=num//10\n",
    "print(\"Reverse =>\",rev)'''\n",
    "if num>0:\n",
    "    a=num%10\n",
    "    #print(a)   \n",
    "    b=num//10\n",
    "    b=b%10\n",
    "    #print(b)\n",
    "    c=num//10\n",
    "    c=c//10\n",
    "    #print(c)c\n",
    "print('Your reverser number is =>',a,b,c)"
   ]
  },
  {
   "cell_type": "code",
   "execution_count": null,
   "id": "7e84675c-dc20-4392-ba6e-9cef6ee13a41",
   "metadata": {},
   "outputs": [],
   "source": []
  }
 ],
 "metadata": {
  "kernelspec": {
   "display_name": "Python 3 (ipykernel)",
   "language": "python",
   "name": "python3"
  },
  "language_info": {
   "codemirror_mode": {
    "name": "ipython",
    "version": 3
   },
   "file_extension": ".py",
   "mimetype": "text/x-python",
   "name": "python",
   "nbconvert_exporter": "python",
   "pygments_lexer": "ipython3",
   "version": "3.11.4"
  }
 },
 "nbformat": 4,
 "nbformat_minor": 5
}
