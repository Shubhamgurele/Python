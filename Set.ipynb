{
 "cells": [
  {
   "cell_type": "markdown",
   "id": "2d2525d4-2cc6-4b87-918e-a4211ee373fa",
   "metadata": {},
   "source": [
    "### What is Sets\n",
    "Ans. Sets are used to store multiple items in a single variable. A set is a collection which is unordered, unchangeable*, and unindexed. \n",
    "Note: Set items are unchangeable, but you can remove items and add new items."
   ]
  },
  {
   "cell_type": "markdown",
   "id": "9376daad-a704-4dd9-9234-6309449a15fb",
   "metadata": {},
   "source": [
    "### Duplicates Not Allowed\n",
    "### Sets cannot have two items with the same value."
   ]
  },
  {
   "cell_type": "markdown",
   "id": "8bbaa7da-5f6a-4830-9d39-99f7025234c4",
   "metadata": {},
   "source": [
    "### Syntax of set\n",
    "### Ans. s = {}\n",
    "        or\n",
    "        s=set() "
   ]
  },
  {
   "cell_type": "code",
   "execution_count": 12,
   "id": "8054d030-a55e-4cdc-9797-79b1b446584a",
   "metadata": {},
   "outputs": [
    {
     "name": "stdout",
     "output_type": "stream",
     "text": [
      "{'apple', 'cherry', 'banana'}\n"
     ]
    }
   ],
   "source": [
    "s = set((\"apple\", \"banana\", \"cherry\")) # note the double round-brackets\n",
    "print(setetet) "
   ]
  },
  {
   "cell_type": "code",
   "execution_count": 2,
   "id": "1d974381-86e6-4f60-ba20-de0ae0d93687",
   "metadata": {},
   "outputs": [
    {
     "name": "stdout",
     "output_type": "stream",
     "text": [
      "{'apple', 'cherry', 'banana'}\n"
     ]
    }
   ],
   "source": [
    "s = {\"apple\", \"banana\", \"cherry\"}\n",
    "print(s) "
   ]
  },
  {
   "cell_type": "code",
   "execution_count": 8,
   "id": "4b519c9e-0cc1-4f6f-8737-b1b764f0c146",
   "metadata": {},
   "outputs": [
    {
     "name": "stdout",
     "output_type": "stream",
     "text": [
      "{'cherry', True, 2, 'apple', 'banana'}\n"
     ]
    }
   ],
   "source": [
    "s = {\"apple\", \"banana\", \"cherry\", True, 1, 2}\n",
    "print(s)"
   ]
  },
  {
   "cell_type": "markdown",
   "id": "6fbdb00c-c42e-4f93-be99-f2a427c781f7",
   "metadata": {},
   "source": [
    "## Get the Length of a Set.\n",
    "## \n",
    "To determine how many items a set has, use the len() function."
   ]
  },
  {
   "cell_type": "code",
   "execution_count": 9,
   "id": "ed9b1bdd-b9b3-4f0f-b9ab-0eef324fdc3c",
   "metadata": {},
   "outputs": [
    {
     "name": "stdout",
     "output_type": "stream",
     "text": [
      "6\n"
     ]
    }
   ],
   "source": [
    "s={\"Shubham\", \"Rajeev\", \"Kamal\", 1, 2, 3}\n",
    "print(len(s))"
   ]
  },
  {
   "cell_type": "code",
   "execution_count": 14,
   "id": "21c2dda3-9511-43fb-a241-8cfca08c63c1",
   "metadata": {},
   "outputs": [
    {
     "name": "stdout",
     "output_type": "stream",
     "text": [
      "<class 'set'>\n"
     ]
    }
   ],
   "source": [
    "s = {\"apple\", \"banana\", \"cherry\"}\n",
    "print(type(s))"
   ]
  },
  {
   "cell_type": "code",
   "execution_count": 22,
   "id": "ca73b786-7fed-4ba5-857a-b087b17a4fce",
   "metadata": {},
   "outputs": [
    {
     "name": "stdout",
     "output_type": "stream",
     "text": [
      "{'Green', 'Blue', 'Yellow', 'Orange', 'Red', 'Black'}\n"
     ]
    }
   ],
   "source": [
    "sample_set = {\"Yellow\", \"Orange\", \"Black\"}\n",
    "sample_list = [\"Blue\", \"Green\", \"Red\"]\n",
    "(sample_set.update(sample_list))\n",
    "print(sample_set)"
   ]
  },
  {
   "cell_type": "code",
   "execution_count": 25,
   "id": "e1017856-5bc7-493f-b4e0-11196379f30c",
   "metadata": {},
   "outputs": [
    {
     "name": "stdout",
     "output_type": "stream",
     "text": [
      "{50, 20, 40, 10, 30}\n"
     ]
    }
   ],
   "source": [
    "set1 = {10, 20, 30, 40, 50}\n",
    "set2 = {30, 40, 50, 60, 70}\n",
    "set1.intersection(set2)\n",
    "print(set1)"
   ]
  },
  {
   "cell_type": "code",
   "execution_count": 26,
   "id": "0c0d8f44-85b9-4882-892e-924f20a026dc",
   "metadata": {},
   "outputs": [
    {
     "name": "stdout",
     "output_type": "stream",
     "text": [
      "{70, 40, 10, 50, 20, 60, 30}\n"
     ]
    }
   ],
   "source": [
    "set1 = {10, 20, 30, 40, 50}\n",
    "set2 = {30, 40, 50, 60, 70}\n",
    "print(set1.union(set2))"
   ]
  },
  {
   "cell_type": "code",
   "execution_count": 35,
   "id": "631eb95a-d7ce-46ee-bb5d-9e692abdb3a1",
   "metadata": {},
   "outputs": [
    {
     "name": "stdout",
     "output_type": "stream",
     "text": [
      "{10, 30}\n"
     ]
    }
   ],
   "source": [
    "set1 = {10, 20, 30}\n",
    "set2 = {20, 40, 50}\n",
    "set1.difference_update(set2)\n",
    "print(set1)"
   ]
  },
  {
   "cell_type": "code",
   "execution_count": 43,
   "id": "15459033-548b-480f-a47d-fffd468d0dfa",
   "metadata": {},
   "outputs": [
    {
     "name": "stdout",
     "output_type": "stream",
     "text": [
      "{50, 40}\n"
     ]
    }
   ],
   "source": [
    "set1 = {10, 20, 30, 40, 50}\n",
    "set1.difference_update({10,20,30})\n",
    "print(set1)"
   ]
  },
  {
   "cell_type": "code",
   "execution_count": 47,
   "id": "1b3a825a-35de-4f7e-aa89-9c9c54f4436b",
   "metadata": {},
   "outputs": [
    {
     "name": "stdout",
     "output_type": "stream",
     "text": [
      "{20, 70, 10, 60}\n"
     ]
    }
   ],
   "source": [
    "set1 = {10, 20, 30, 40, 50}\n",
    "set2 = {30, 40, 50, 60, 70}\n",
    "set1.symmetric_difference_update(set2)\n",
    "print(set1)"
   ]
  },
  {
   "cell_type": "code",
   "execution_count": 50,
   "id": "fef22c32-cedd-4fcd-a626-7b15b630466f",
   "metadata": {},
   "outputs": [
    {
     "name": "stdout",
     "output_type": "stream",
     "text": [
      "{10}\n"
     ]
    }
   ],
   "source": [
    "set1 = {10, 20, 30, 40, 50}\n",
    "set2 = {60, 70, 80, 90, 10}\n",
    "set1.intersection_update(set2)\n",
    "print(set1)"
   ]
  },
  {
   "cell_type": "code",
   "execution_count": 54,
   "id": "7cd2a52c-8f56-4054-9edc-32041aabc613",
   "metadata": {},
   "outputs": [
    {
     "name": "stdout",
     "output_type": "stream",
     "text": [
      "{20, 70, 10, 60}\n"
     ]
    }
   ],
   "source": [
    "set1 = {10, 20, 30, 40, 50}\n",
    "set2 = {30, 40, 50, 60, 70}\n",
    "set2.symmetric_difference_update(set1)\n",
    "print(set2)"
   ]
  },
  {
   "cell_type": "code",
   "execution_count": 61,
   "id": "26376dfb-15e0-4c62-8997-ec5153805b47",
   "metadata": {},
   "outputs": [
    {
     "name": "stdout",
     "output_type": "stream",
     "text": [
      "{40, 50, 30}\n"
     ]
    }
   ],
   "source": [
    "set1 = {10, 20, 30, 40, 50}\n",
    "set2 = {30, 40, 50, 60, 70}\n",
    "set1.intersection_update(set2)\n",
    "print(set1)"
   ]
  },
  {
   "cell_type": "code",
   "execution_count": 62,
   "id": "3a51c6e5-09e1-486f-8525-00ad3a424391",
   "metadata": {},
   "outputs": [
    {
     "name": "stdout",
     "output_type": "stream",
     "text": [
      "{'Orange', 'Black', 'Yellow'}\n"
     ]
    }
   ],
   "source": [
    "sampleSet = {\"Yellow\", \"Orange\", \"Black\"}\n",
    "sampleSet.discard(\"Blue\")\n",
    "print(sampleSet)"
   ]
  },
  {
   "cell_type": "code",
   "execution_count": 63,
   "id": "ebaf11f0-2fbb-40fc-9ee8-e7e30d5cc158",
   "metadata": {},
   "outputs": [
    {
     "name": "stdout",
     "output_type": "stream",
     "text": [
      "{40, 10, 50, 20, '10', 60, 30}\n"
     ]
    }
   ],
   "source": [
    "set1 = {10, 20, 30, 40}\n",
    "set2 = {50, 20, \"10\", 60}\n",
    "\n",
    "set3 = set1.union(set2)\n",
    "print(set3)"
   ]
  },
  {
   "cell_type": "code",
   "execution_count": 77,
   "id": "2a52a7e0-a448-489f-bd18-44f95ba6c32e",
   "metadata": {},
   "outputs": [
    {
     "ename": "SyntaxError",
     "evalue": "invalid syntax (1931140009.py, line 17)",
     "output_type": "error",
     "traceback": [
      "\u001b[1;36m  Cell \u001b[1;32mIn[77], line 17\u001b[1;36m\u001b[0m\n\u001b[1;33m    set1.del(\"Orange\")\u001b[0m\n\u001b[1;37m         ^\u001b[0m\n\u001b[1;31mSyntaxError\u001b[0m\u001b[1;31m:\u001b[0m invalid syntax\n"
     ]
    }
   ],
   "source": [
    "set1 = {\"Yellow\", \"Orange\", \"Black\"}\n",
    "set2 = {\"Orange\", \"Blue\", \"Pink\"}\n",
    "# set1.add(\"Brown\")\n",
    "# set1.add(\"Skyblue\")\n",
    "# print(set1)\n",
    "# print(set1)\n",
    "\n",
    "\n",
    "# set2 = set1.copy()\n",
    "# print(set2)\n",
    "# set2 = set(set1)\n",
    "# print(set2)\n",
    "# set2.update(set1)\n",
    "# print(set2)\n",
    "# set1=set2\n",
    "# print(set2)\n",
    "set1.del(\"Orange\")\n",
    "print(set1)"
   ]
  },
  {
   "cell_type": "code",
   "execution_count": 69,
   "id": "811037ae-a5d2-41bb-821f-cf6c8a61d1d8",
   "metadata": {},
   "outputs": [
    {
     "name": "stdout",
     "output_type": "stream",
     "text": [
      "{1, ('abc', 'xyz'), 'PYnative'}\n"
     ]
    }
   ],
   "source": [
    "aSet = {1, 'PYnative', ('abc', 'xyz'), True}\n",
    "print(aSet)"
   ]
  },
  {
   "cell_type": "code",
   "execution_count": 70,
   "id": "8533a835-8feb-4852-aef5-c4e0f282b147",
   "metadata": {},
   "outputs": [
    {
     "name": "stdout",
     "output_type": "stream",
     "text": [
      "{'Green', 'Blue', 'Yellow', 'Orange', 'Red', 'Black'}\n"
     ]
    }
   ],
   "source": [
    "sampleSet = {\"Yellow\", \"Orange\", \"Black\"}\n",
    "sampleSet.update([\"Blue\", \"Green\", \"Red\"])\n",
    "print(sampleSet)"
   ]
  },
  {
   "cell_type": "code",
   "execution_count": 74,
   "id": "0355212b-6f2b-4bea-9bff-b7e3645cbb37",
   "metadata": {},
   "outputs": [
    {
     "ename": "TypeError",
     "evalue": "'set' object is not subscriptable",
     "output_type": "error",
     "traceback": [
      "\u001b[1;31m---------------------------------------------------------------------------\u001b[0m",
      "\u001b[1;31mTypeError\u001b[0m                                 Traceback (most recent call last)",
      "Cell \u001b[1;32mIn[74], line 2\u001b[0m\n\u001b[0;32m      1\u001b[0m sampleSet \u001b[38;5;241m=\u001b[39m {\u001b[38;5;124m\"\u001b[39m\u001b[38;5;124mYellow\u001b[39m\u001b[38;5;124m\"\u001b[39m, \u001b[38;5;124m\"\u001b[39m\u001b[38;5;124mOrange\u001b[39m\u001b[38;5;124m\"\u001b[39m, \u001b[38;5;124m\"\u001b[39m\u001b[38;5;124mBlack\u001b[39m\u001b[38;5;124m\"\u001b[39m}\n\u001b[1;32m----> 2\u001b[0m \u001b[38;5;28mprint\u001b[39m(\u001b[43msampleSet\u001b[49m\u001b[43m[\u001b[49m\u001b[38;5;241;43m1\u001b[39;49m\u001b[43m]\u001b[49m)\n",
      "\u001b[1;31mTypeError\u001b[0m: 'set' object is not subscriptable"
     ]
    }
   ],
   "source": []
  },
  {
   "cell_type": "code",
   "execution_count": 78,
   "id": "47272c83-4b21-4580-b66d-526e9e43c083",
   "metadata": {},
   "outputs": [
    {
     "ename": "TypeError",
     "evalue": "unhashable type: 'list'",
     "output_type": "error",
     "traceback": [
      "\u001b[1;31m---------------------------------------------------------------------------\u001b[0m",
      "\u001b[1;31mTypeError\u001b[0m                                 Traceback (most recent call last)",
      "Cell \u001b[1;32mIn[78], line 1\u001b[0m\n\u001b[1;32m----> 1\u001b[0m aSet \u001b[38;5;241m=\u001b[39m {\u001b[38;5;241m1\u001b[39m, \u001b[38;5;124m'\u001b[39m\u001b[38;5;124mPYnative\u001b[39m\u001b[38;5;124m'\u001b[39m, [\u001b[38;5;124m'\u001b[39m\u001b[38;5;124mabc\u001b[39m\u001b[38;5;124m'\u001b[39m, \u001b[38;5;124m'\u001b[39m\u001b[38;5;124mxyz\u001b[39m\u001b[38;5;124m'\u001b[39m], \u001b[38;5;28;01mTrue\u001b[39;00m}\n\u001b[0;32m      2\u001b[0m \u001b[38;5;28mprint\u001b[39m(aSet)\n",
      "\u001b[1;31mTypeError\u001b[0m: unhashable type: 'list'"
     ]
    }
   ],
   "source": [
    "aSet = {1, 'PYnative', ['abc', 'xyz'], True}\n",
    "print(aSet)"
   ]
  },
  {
   "cell_type": "code",
   "execution_count": null,
   "id": "d39951a6-c17a-4634-8d6a-b4d3057655a4",
   "metadata": {},
   "outputs": [],
   "source": []
  }
 ],
 "metadata": {
  "kernelspec": {
   "display_name": "Python 3 (ipykernel)",
   "language": "python",
   "name": "python3"
  },
  "language_info": {
   "codemirror_mode": {
    "name": "ipython",
    "version": 3
   },
   "file_extension": ".py",
   "mimetype": "text/x-python",
   "name": "python",
   "nbconvert_exporter": "python",
   "pygments_lexer": "ipython3",
   "version": "3.11.4"
  }
 },
 "nbformat": 4,
 "nbformat_minor": 5
}
