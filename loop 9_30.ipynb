{
 "cells": [
  {
   "cell_type": "raw",
   "id": "5580cde3-0de9-4e4f-aa40-9bfba9665d31",
   "metadata": {},
   "source": [
    "a = int(input(\"Enter the start point =>\")) \n",
    "b = int(input(\"Enter the ending point =>\"))\n",
    "for i in range(a,b):\n",
    "    print(i,end=' ',)\n",
    "c = input(\"Enter Yes/No =>\")\n",
    "if (c=='Yes' or c=='yes'):\n",
    "    while a<b:\n",
    "        square=a*a\n",
    "        print('Your square root is',square)\n",
    "        a=a+1\n",
    "        #d=int(input(\"you want continue =>\"))\n",
    "elif (c=='No' or c=='no'):\n",
    "    sum=0\n",
    "    while a<b:\n",
    "        sum=sum+a\n",
    "        a=a+1\n",
    "    print(\"Your Sum is =>\",sum)\n",
    "else :\n",
    "    print(\"Error\")"
   ]
  },
  {
   "cell_type": "code",
   "execution_count": null,
   "id": "daad8cfb-eb89-4452-a085-d16549ff16c5",
   "metadata": {},
   "outputs": [],
   "source": [
    "#prime number:-(Method-1)\n",
    "\n",
    "b = int(input(\"enter the number =>\")) \n",
    "if b==1:\n",
    "    print('Not a prime number')\n",
    "else:\n",
    "    for i in range(2,b):\n",
    "        if b%i==0:\n",
    "            print(\"It is not a prime number\",b)\n",
    "            break\n",
    "    else :\n",
    "        print(\"It is a prime number\",b)"
   ]
  },
  {
   "cell_type": "code",
   "execution_count": null,
   "id": "d5c7cdab-4ef2-476c-bf48-6e6693846e85",
   "metadata": {},
   "outputs": [],
   "source": [
    "# prime number:-(Method-2)\n",
    "\n",
    "s=int(input('Enter the starting number =>'))\n",
    "e=int(input('Enter the ending number =>'))\n",
    "for n in range(s,e+1):\n",
    "    if (n==0 or n==1):\n",
    "        print(n,'is not prime no')\n",
    "    else:\n",
    "         for i in range(2,n):\n",
    "              if(n%i==0):\n",
    "                  print(n,'is not prime no')\n",
    "                  break\n",
    "         else:\n",
    "             print(n,'is prime no')"
   ]
  },
  {
   "cell_type": "code",
   "execution_count": null,
   "id": "42f2aa6b-45d2-47d8-82bf-229b4dcf3095",
   "metadata": {},
   "outputs": [],
   "source": [
    "num = int(input(\"Enter the number =>\"))\n",
    "a=0\n",
    "while num>0:\n",
    "    r=num%10\n",
    "    num=num//10\n",
    "    a=a+r\n",
    "print(\"Total sum =>\",a)\n",
    "b=0 \n",
    "while a>0:\n",
    "    s=a%10\n",
    "    b=b+s\n",
    "    a=a//10\n",
    "print(\"Sum in single digit =>\",b)\n"
   ]
  },
  {
   "cell_type": "code",
   "execution_count": 23,
   "id": "35143114-e306-42ff-b085-343cbe199c13",
   "metadata": {},
   "outputs": [
    {
     "name": "stdin",
     "output_type": "stream",
     "text": [
      "Enter the starting point => 12\n",
      "Enter the starting point => 4\n"
     ]
    },
    {
     "name": "stdout",
     "output_type": "stream",
     "text": [
      "HCF of 12 and 4 is => 4\n"
     ]
    }
   ],
   "source": [
    "#find HCF/GCF\n",
    "\n",
    "a=int(input(\"Enter the starting point =>\"))\n",
    "b=int(input(\"Enter the starting point =>\"))\n",
    "HCF=1\n",
    "if a==0 or b==0:\n",
    "    print(\"Not define\")\n",
    "else:\n",
    "    if a>b:\n",
    "        min=b\n",
    "    elif b>a:\n",
    "        min=a\n",
    "    for i in range(1,min+1):\n",
    "            if(a%i==0 and b%i==0):\n",
    "                HCF=i\n",
    "    print(\"HCF of\",a,\"and\",b,\"is =>\",HCF)"
   ]
  },
  {
   "cell_type": "markdown",
   "id": "02699379-b209-4110-94cf-f19d9bc99eb3",
   "metadata": {},
   "source": [
    "# find HCF/GCF\n",
    "\n",
    "a=int(input(\"Enter the starting point =>\"))\n",
    "b=int(input(\"Enter the starting point =>\"))\n",
    "\n",
    "#HCF=1\n",
    "if a>b:\n",
    "    min=b\n",
    "elif a<b:\n",
    "    min=a\n",
    "for i in range(1,min+1):\n",
    "    if(a%i==0 and b%i==0):\n",
    "        HCF=i\n",
    "print(\"HCF of\",a,\"and\",b,\"is =>\",HCF)"
   ]
  },
  {
   "cell_type": "code",
   "execution_count": null,
   "id": "507c155a-1585-40e3-aad5-402ce863dbc8",
   "metadata": {},
   "outputs": [],
   "source": [
    "a=[[10,20,30],[40,50,60],70,80,90]\n",
    "s=0\n",
    "for i in a:\n",
    "    for j in range i:\n",
    "    s=s+i\n",
    "print(s)\n",
    "    \n",
    "     "
   ]
  },
  {
   "cell_type": "code",
   "execution_count": 19,
   "id": "3a5d52f6-1b97-4a70-b296-d46b607cd70c",
   "metadata": {},
   "outputs": [
    {
     "ename": "SyntaxError",
     "evalue": "invalid syntax. Maybe you meant '==' or ':=' instead of '='? (1322637256.py, line 6)",
     "output_type": "error",
     "traceback": [
      "\u001b[1;36m  Cell \u001b[1;32mIn[19], line 6\u001b[1;36m\u001b[0m\n\u001b[1;33m    b=2 or b=3\u001b[0m\n\u001b[1;37m    ^\u001b[0m\n\u001b[1;31mSyntaxError\u001b[0m\u001b[1;31m:\u001b[0m invalid syntax. Maybe you meant '==' or ':=' instead of '='?\n"
     ]
    }
   ],
   "source": [
    "import math\n",
    "n=int(input(\"Enter a number:\"))\n",
    "sq=math.sqrt(n)\n",
    "a=int(sq)\n",
    "print(\"Square root is =>\",a)\n",
    "b=2 or b=3\n",
    "while b<n:\n",
    "    if n%b==0:\n",
    "        print(\"not prime\")\n",
    "        break\n",
    "    else :\n",
    "        print(\"prime\")\n",
    "        break\n",
    "    a=a+1"
   ]
  },
  {
   "cell_type": "markdown",
   "id": "122b7eee-8423-4e85-8d01-374474f6a965",
   "metadata": {},
   "source": [
    "## "
   ]
  },
  {
   "cell_type": "markdown",
   "id": "6b790ba9-2177-48eb-a73b-92f9442600e6",
   "metadata": {},
   "source": [
    "# Fibonacci series\n",
    "\n",
    "a=int(input(\"Enter the number =>\"))\n",
    "b=int(input(\"Enter the number =>\"))\n",
    "print(c=a+b)"
   ]
  },
  {
   "cell_type": "code",
   "execution_count": null,
   "id": "c088c06d-335d-4fbf-aa16-891728165eed",
   "metadata": {},
   "outputs": [],
   "source": [
    "i=0\n",
    "while (i<=10):\n",
    "    i=i+1\n",
    "    if i==5:\n",
    "        continue\n",
    "    print(i)"
   ]
  },
  {
   "cell_type": "code",
   "execution_count": 11,
   "id": "626bd764-66c6-48bc-bfea-894dda51c430",
   "metadata": {},
   "outputs": [
    {
     "name": "stdout",
     "output_type": "stream",
     "text": [
      "*   \n",
      "*   *   \n",
      "*   *   *   \n",
      "*   *   *   *   \n"
     ]
    }
   ],
   "source": [
    "for row in range (1,5):\n",
    "    for col in range (1,row+1):\n",
    "        print(\"*\", end=\"   \")\n",
    "    print(\"\")"
   ]
  },
  {
   "cell_type": "code",
   "execution_count": null,
   "id": "562a6cad-153f-4993-a047-d4e3a2e5db49",
   "metadata": {},
   "outputs": [],
   "source": []
  }
 ],
 "metadata": {
  "kernelspec": {
   "display_name": "Python 3 (ipykernel)",
   "language": "python",
   "name": "python3"
  },
  "language_info": {
   "codemirror_mode": {
    "name": "ipython",
    "version": 3
   },
   "file_extension": ".py",
   "mimetype": "text/x-python",
   "name": "python",
   "nbconvert_exporter": "python",
   "pygments_lexer": "ipython3",
   "version": "3.11.4"
  }
 },
 "nbformat": 4,
 "nbformat_minor": 5
}
