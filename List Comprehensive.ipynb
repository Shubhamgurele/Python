{
 "cells": [
  {
   "cell_type": "code",
   "execution_count": null,
   "id": "dc0f43bf-e08f-4924-b46d-0ac51f5f59ba",
   "metadata": {},
   "outputs": [],
   "source": [
    "#(Q1) find smallest number without built in function.\n",
    "\n",
    "list = [10,20,3,50,40]\n",
    "smallest_number = 0 \n",
    "for i in list:\n",
    "    if smallest_number==0 or smallest_number>i :\n",
    "        smallest_number = i\n",
    "print('Smallest number from the list is =>',smallest_number)\n",
    "print('Index of smallest number is =>',list.index(smallest_number))\n"
   ]
  },
  {
   "cell_type": "code",
   "execution_count": null,
   "id": "6c29ca63-478a-4e65-900a-e5fc8723d37a",
   "metadata": {},
   "outputs": [],
   "source": [
    "#(Q2) find largest number without built in function.\n",
    "\n",
    "list = [10,20,3,50,40]\n",
    "lagest_number = 0 \n",
    "for i in list:\n",
    "     if largest_number==0 or largest_number<i :\n",
    "        largest_number = i\n",
    "print('Largest number from the list is =>',smallest_number)\n",
    "print('Index of largest number is =>',list.index(smallest_number))"
   ]
  },
  {
   "cell_type": "code",
   "execution_count": null,
   "id": "15566b99-e995-457a-8d2d-1d97110d89a0",
   "metadata": {},
   "outputs": [],
   "source": [
    "# find largest number without built in function using list comprehension.\n",
    "\n",
    "list = [10,20,3,50,40]\n",
    "largest_number = 0 \n",
    "a=[i for i in list if largest_number==0 or largest_number<i largest_number = i]\n",
    "print(a)"
   ]
  },
  {
   "cell_type": "code",
   "execution_count": null,
   "id": "09a19c65-e41c-4f03-9386-05085f378880",
   "metadata": {},
   "outputs": [],
   "source": [
    "#(Q3) find even or odd number from the list.\n",
    "\n",
    "list = [10,20,3,50,40,5,9,7]\n",
    "even=[i for i in list if i%2==0]\n",
    "odd=[i for i in list if i%2!=0]\n",
    "print('even number is =>',even)\n",
    "print('odd number is =>',odd)"
   ]
  },
  {
   "cell_type": "code",
   "execution_count": null,
   "id": "33ff807f-49da-40bb-b016-ea755aa7c14c",
   "metadata": {},
   "outputs": [],
   "source": [
    "#(Q4) Count program \n",
    "\n",
    "list=[0,1,4,2,3,8,9,7]\n",
    "c=0\n",
    "for i in list:\n",
    "    c+=1\n",
    "print('Total number in the list is =>',c)\n"
   ]
  },
  {
   "cell_type": "code",
   "execution_count": null,
   "id": "67f8145a-9751-4310-bd5d-7d1f9f729e7f",
   "metadata": {},
   "outputs": [],
   "source": [
    "#Q5 take a list and remove all odd values and show them into the another list.\n",
    "\n",
    "# Take a list\n",
    "list = [10,20,3,50,40,5,7,9]\n",
    "print('original list => ',list)\n",
    "# find odd numbers\n",
    "odd=[i for i in list if i%2!=0]\n",
    "print('odd number is =>',odd)\n",
    "# remove odd elements from the list\n",
    "new_list = [i for i in list if i not in odd]\n",
    "print(\"New Updated list is =>\",new_list)"
   ]
  },
  {
   "cell_type": "code",
   "execution_count": null,
   "id": "02ef8c24-79d2-4b29-a667-1caff693bf2a",
   "metadata": {},
   "outputs": [],
   "source": [
    "#Q5 take a list and remove all odd values and show them into the another list.(By taking input from the user)\n",
    "\n",
    "list = []\n",
    "n = int(input(\"Enter number of elements : \"))\n",
    "for i in range(0, n):\n",
    "    elements = int(input())\n",
    "    list.append(elements) \n",
    "print(\"List is =>\",list)\n",
    "odd=[i for i in list if i%2!=0]\n",
    "print('odd number is =>',odd)\n",
    "# remove odd elements from the list\n",
    "new_list = [i for i in list if i not in odd]\n",
    "print(\"New Updated list is =>\",new_list)"
   ]
  },
  {
   "cell_type": "code",
   "execution_count": null,
   "id": "ba6e41fc-2db4-464e-b7bd-03e723a96754",
   "metadata": {},
   "outputs": [],
   "source": [
    "from math import sqrt\n",
    "initial_poaition = int(input('Enter initial position =>'))\n",
    "final_poaition = int(input('Enter final position =>'))\n",
    "x=0\n",
    "y=0\n"
   ]
  },
  {
   "cell_type": "code",
   "execution_count": null,
   "id": "c785949e-df59-48e2-805c-b25503111625",
   "metadata": {},
   "outputs": [],
   "source": [
    "from math import sqrt\n",
    "x1, y1 = 0, 0\n",
    "x, y = 0, 0\n",
    "no_direction=int(input(\"Enter number of direction =>\"))\n",
    "while no_direction>0:\n",
    "    step=input(\"Type in UP/DOWN/LEFT/RIGHT and Steps by , separate\")\n",
    "    step=step.split(\" \")\n",
    "    print(step)\n",
    "    if step[0]=='UP':\n",
    "        y=y+int(step[1])\n",
    "        print(y)\n",
    "    elif step[0]=='DOWN':\n",
    "        y=y-int(step[1])\n",
    "        print(y)\n",
    "    elif step[0]=='LEFT':\n",
    "        x=x-int(step[1])\n",
    "        print(x)\n",
    "    elif step[0]=='RIGHT':\n",
    "        x=x+int(step[1])\n",
    "        print(x)\n",
    "    no_direction-=1\n",
    "print(x,y)\n",
    "print(x1,y1)\n",
    "distance = sqrt((x-x1)**2 + (y-y1)**2)\n",
    "print(\"Distance:\", round(distance))"
   ]
  },
  {
   "cell_type": "code",
   "execution_count": null,
   "id": "1b104cd4-e119-4f85-b3a3-da23d7a66113",
   "metadata": {},
   "outputs": [],
   "source": [
    "from math import sqrt\n",
    "\n",
    "x1, y1 = 0, 0 \n",
    "x, y = 0, 0   # k eep the track record of robot movement\n",
    "no_directions=int(input(\"Enter Number of Directions\"))\n",
    "while no_directions>0:\n",
    "    step = input(\"Type in UP/DOWN/LEFT/RIGHT and Steps by , separate\")\n",
    "    step=step.split(\" \")\n",
    "    print(step)\n",
    "    if step[0] == \"UP\":          #[UP , 5]\n",
    "        y += int(step[1])\n",
    "        print(y)\n",
    "    elif step[0] == \"DOWN\":\n",
    "        y -= int(step[1])\n",
    "        print(y)\n",
    "    elif step[0] == \"LEFT\":\n",
    "        x -= int(step[1])\n",
    "        print(x)\n",
    "    elif step[0] == \"RIGHT\":\n",
    "        x += int(step[1])\n",
    "        print(x)\n",
    "    no_directions -=1\n",
    "print(x,y)\n",
    "print(x1,y1)\n",
    "distance = sqrt((x-x1)**2 + (y-y1)**2)\n",
    "print(\"Distance:\", round(distance))"
   ]
  },
  {
   "cell_type": "code",
   "execution_count": null,
   "id": "bbcf39e8-668e-440d-baaf-f574e60c6a4c",
   "metadata": {},
   "outputs": [],
   "source": [
    "tup=int(input('Enter the number =>'))\n",
    "for i in range(1,tup+1):\n",
    "    for j in (1,(tup+1)-i):\n",
    "        print(end=\"\")\n",
    "    print(i,\"\",j)"
   ]
  },
  {
   "cell_type": "code",
   "execution_count": null,
   "id": "60aba4a8-86aa-402e-bdfa-cac5481be4c5",
   "metadata": {},
   "outputs": [],
   "source": [
    "tup=(1,2,3,4,5,6)\n",
    "while tup>=i:\n",
    "    tup=tup+1\n",
    "    print(tup)\n",
    "    "
   ]
  },
  {
   "cell_type": "code",
   "execution_count": null,
   "id": "72dfdd3f-cfcb-430c-b2ab-b18d9148df3f",
   "metadata": {},
   "outputs": [],
   "source": []
  }
 ],
 "metadata": {
  "kernelspec": {
   "display_name": "Python 3 (ipykernel)",
   "language": "python",
   "name": "python3"
  },
  "language_info": {
   "codemirror_mode": {
    "name": "ipython",
    "version": 3
   },
   "file_extension": ".py",
   "mimetype": "text/x-python",
   "name": "python",
   "nbconvert_exporter": "python",
   "pygments_lexer": "ipython3",
   "version": "3.11.4"
  }
 },
 "nbformat": 4,
 "nbformat_minor": 5
}
