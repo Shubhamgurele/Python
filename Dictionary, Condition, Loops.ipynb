{
 "cells": [
  {
   "cell_type": "code",
   "execution_count": 1,
   "id": "b1999c7e-e79c-48bb-8eb7-8c307f4d7b4d",
   "metadata": {},
   "outputs": [],
   "source": [
    "d = {'key' :\"Shubham\"}"
   ]
  },
  {
   "cell_type": "code",
   "execution_count": 2,
   "id": "d38e19a1-4d90-4ed2-bb0c-aa83a534f726",
   "metadata": {},
   "outputs": [
    {
     "data": {
      "text/plain": [
       "{'key': 'Shubham'}"
      ]
     },
     "execution_count": 2,
     "metadata": {},
     "output_type": "execute_result"
    }
   ],
   "source": [
    "d"
   ]
  },
  {
   "cell_type": "code",
   "execution_count": 2,
   "id": "e1daf1e2-e13c-4d81-8df2-23b1d0cda06d",
   "metadata": {},
   "outputs": [],
   "source": [
    "d1 = {'name' : \"shubham\", 'mail' : \"shubham@gmail.com\", 'phone' : 7869036519}"
   ]
  },
  {
   "cell_type": "code",
   "execution_count": 3,
   "id": "9992acb1-3862-4b0b-ba4c-78af4fc38dc8",
   "metadata": {},
   "outputs": [
    {
     "data": {
      "text/plain": [
       "{'name': 'shubham', 'mail': 'shubham@gmail.com', 'phone': 7869036519}"
      ]
     },
     "execution_count": 3,
     "metadata": {},
     "output_type": "execute_result"
    }
   ],
   "source": [
    "d1"
   ]
  },
  {
   "cell_type": "code",
   "execution_count": 4,
   "id": "ce0d4249-e87b-419e-9927-e1a386b32416",
   "metadata": {},
   "outputs": [
    {
     "ename": "KeyError",
     "evalue": "'nmae'",
     "output_type": "error",
     "traceback": [
      "\u001b[0;31m---------------------------------------------------------------------------\u001b[0m",
      "\u001b[0;31mKeyError\u001b[0m                                  Traceback (most recent call last)",
      "Cell \u001b[0;32mIn[4], line 1\u001b[0m\n\u001b[0;32m----> 1\u001b[0m \u001b[43md1\u001b[49m\u001b[43m[\u001b[49m\u001b[38;5;124;43m'\u001b[39;49m\u001b[38;5;124;43mnmae\u001b[39;49m\u001b[38;5;124;43m'\u001b[39;49m\u001b[43m]\u001b[49m\n",
      "\u001b[0;31mKeyError\u001b[0m: 'nmae'"
     ]
    }
   ],
   "source": [
    "d1['nmae']"
   ]
  },
  {
   "cell_type": "code",
   "execution_count": 6,
   "id": "d21719b5-92de-416d-884d-a16b3b068ae4",
   "metadata": {},
   "outputs": [
    {
     "data": {
      "text/plain": [
       "'shubham'"
      ]
     },
     "execution_count": 6,
     "metadata": {},
     "output_type": "execute_result"
    }
   ],
   "source": [
    "d1['name']"
   ]
  },
  {
   "cell_type": "code",
   "execution_count": 16,
   "id": "76ef8943-b82a-4ca6-852f-8fabe22ef367",
   "metadata": {},
   "outputs": [],
   "source": [
    "d2 = {\"number\" : [2,22,34,21,30], \"assignment\" : (1,2,3,4,5,6), \"launch_date\" : {15,5,23}, \"class_time\" : {\"web_dev\" : 8, \"DSM\" : 9, \"java with dsa\" : 4}}"
   ]
  },
  {
   "cell_type": "code",
   "execution_count": 9,
   "id": "08c15793-bda8-44df-867b-d3e978b57c32",
   "metadata": {},
   "outputs": [
    {
     "data": {
      "text/plain": [
       "{'number': [2, 22, 34, 21, 30],\n",
       " 'assignment': (1, 2, 3, 4, 5, 6),\n",
       " 'launch_date': {0.13043478260869565},\n",
       " 'class_time': {'web_dev': 8, 'DSM': 9, 'java with dsa': 4}}"
      ]
     },
     "execution_count": 9,
     "metadata": {},
     "output_type": "execute_result"
    }
   ],
   "source": [
    "d2"
   ]
  },
  {
   "cell_type": "code",
   "execution_count": 10,
   "id": "01b7031d-418d-40bc-a70c-bf89d67f9334",
   "metadata": {},
   "outputs": [
    {
     "data": {
      "text/plain": [
       "{'number': [2, 22, 34, 21, 30],\n",
       " 'assignment': (1, 2, 3, 4, 5, 6),\n",
       " 'launch_date': {0.13043478260869565},\n",
       " 'class_time': {'web_dev': 8, 'DSM': 9, 'java with dsa': 4}}"
      ]
     },
     "execution_count": 10,
     "metadata": {},
     "output_type": "execute_result"
    }
   ],
   "source": [
    "d2"
   ]
  },
  {
   "cell_type": "code",
   "execution_count": 13,
   "id": "40a1e57d-3ef8-4d29-8654-9647e3abe77c",
   "metadata": {},
   "outputs": [
    {
     "data": {
      "text/plain": [
       "{'number': [2, 22, 34, 21, 30],\n",
       " 'assignment': (1, 2, 3, 4, 5, 6),\n",
       " 'launch_date': {5, 15, 23},\n",
       " 'class_time': {'web_dev': 8, 'DSM': 9, 'java with dsa': 4}}"
      ]
     },
     "execution_count": 13,
     "metadata": {},
     "output_type": "execute_result"
    }
   ],
   "source": [
    "d2"
   ]
  },
  {
   "cell_type": "code",
   "execution_count": null,
   "id": "90e28605-5125-4961-8fb0-1b3225426c56",
   "metadata": {},
   "outputs": [],
   "source": []
  },
  {
   "cell_type": "code",
   "execution_count": 17,
   "id": "83a97c15-40c2-4b47-8b28-b2b7a035f8ea",
   "metadata": {},
   "outputs": [
    {
     "data": {
      "text/plain": [
       "{'number': [2, 22, 34, 21, 30],\n",
       " 'assignment': (1, 2, 3, 4, 5, 6),\n",
       " 'launch_date': {5, 15, 23},\n",
       " 'class_time': {'web_dev': 8, 'DSM': 9, 'java with dsa': 4}}"
      ]
     },
     "execution_count": 17,
     "metadata": {},
     "output_type": "execute_result"
    }
   ],
   "source": [
    "d2"
   ]
  },
  {
   "cell_type": "code",
   "execution_count": 18,
   "id": "4d9f6c72-600f-4de2-87ac-716c3d4ff0e5",
   "metadata": {},
   "outputs": [
    {
     "data": {
      "text/plain": [
       "{'web_dev': 8, 'DSM': 9, 'java with dsa': 4}"
      ]
     },
     "execution_count": 18,
     "metadata": {},
     "output_type": "execute_result"
    }
   ],
   "source": [
    "d2['class_time']"
   ]
  },
  {
   "cell_type": "code",
   "execution_count": 19,
   "id": "74d16b06-857b-4db5-8f06-f4e9f9378585",
   "metadata": {},
   "outputs": [
    {
     "data": {
      "text/plain": [
       "4"
      ]
     },
     "execution_count": 19,
     "metadata": {},
     "output_type": "execute_result"
    }
   ],
   "source": [
    "d2['class_time']['java with dsa']"
   ]
  },
  {
   "cell_type": "code",
   "execution_count": 20,
   "id": "aafe4301-b6b3-4850-8490-b533c20bcf08",
   "metadata": {},
   "outputs": [
    {
     "data": {
      "text/plain": [
       "{'number': [2, 22, 34, 21, 30],\n",
       " 'assignment': (1, 2, 3, 4, 5, 6),\n",
       " 'launch_date': {5, 15, 23},\n",
       " 'class_time': {'web_dev': 8, 'DSM': 9, 'java with dsa': 4}}"
      ]
     },
     "execution_count": 20,
     "metadata": {},
     "output_type": "execute_result"
    }
   ],
   "source": [
    "d2"
   ]
  },
  {
   "cell_type": "code",
   "execution_count": 21,
   "id": "d57132a2-baaa-481a-9dea-7041fd5013f8",
   "metadata": {},
   "outputs": [],
   "source": [
    "d2['mentor']=[\"vivek\",\"ujjawal\",\"shubham\"]"
   ]
  },
  {
   "cell_type": "code",
   "execution_count": 22,
   "id": "2dfb7ecd-e3d9-4100-9175-3c5e174f4691",
   "metadata": {},
   "outputs": [
    {
     "data": {
      "text/plain": [
       "{'number': [2, 22, 34, 21, 30],\n",
       " 'assignment': (1, 2, 3, 4, 5, 6),\n",
       " 'launch_date': {5, 15, 23},\n",
       " 'class_time': {'web_dev': 8, 'DSM': 9, 'java with dsa': 4},\n",
       " 'mentor': ['vivek', 'ujjawal', 'shubham']}"
      ]
     },
     "execution_count": 22,
     "metadata": {},
     "output_type": "execute_result"
    }
   ],
   "source": [
    "d2"
   ]
  },
  {
   "cell_type": "code",
   "execution_count": 23,
   "id": "91635294-17ac-4d58-a585-5e5f5501eeb5",
   "metadata": {},
   "outputs": [
    {
     "data": {
      "text/plain": [
       "<function dict.keys>"
      ]
     },
     "execution_count": 23,
     "metadata": {},
     "output_type": "execute_result"
    }
   ],
   "source": [
    "d2.keys"
   ]
  },
  {
   "cell_type": "code",
   "execution_count": 25,
   "id": "9c1e61d6-bfc9-41fe-9634-21b2258f874e",
   "metadata": {},
   "outputs": [
    {
     "data": {
      "text/plain": [
       "['number', 'assignment', 'launch_date', 'class_time', 'mentor']"
      ]
     },
     "execution_count": 25,
     "metadata": {},
     "output_type": "execute_result"
    }
   ],
   "source": [
    "list(d2.keys())"
   ]
  },
  {
   "cell_type": "code",
   "execution_count": 26,
   "id": "873f4e98-c3c6-4c67-9bfd-c1d969f6e98b",
   "metadata": {},
   "outputs": [
    {
     "data": {
      "text/plain": [
       "[[2, 22, 34, 21, 30],\n",
       " (1, 2, 3, 4, 5, 6),\n",
       " {5, 15, 23},\n",
       " {'web_dev': 8, 'DSM': 9, 'java with dsa': 4},\n",
       " ['vivek', 'ujjawal', 'shubham']]"
      ]
     },
     "execution_count": 26,
     "metadata": {},
     "output_type": "execute_result"
    }
   ],
   "source": [
    "list(d2.values())"
   ]
  },
  {
   "cell_type": "code",
   "execution_count": 27,
   "id": "641cd8cb-9367-473c-954e-a0f09dbc73ff",
   "metadata": {},
   "outputs": [
    {
     "ename": "AttributeError",
     "evalue": "'dict' object has no attribute 'item'",
     "output_type": "error",
     "traceback": [
      "\u001b[0;31m---------------------------------------------------------------------------\u001b[0m",
      "\u001b[0;31mAttributeError\u001b[0m                            Traceback (most recent call last)",
      "Cell \u001b[0;32mIn[27], line 1\u001b[0m\n\u001b[0;32m----> 1\u001b[0m \u001b[43md2\u001b[49m\u001b[38;5;241;43m.\u001b[39;49m\u001b[43mitem\u001b[49m()\n",
      "\u001b[0;31mAttributeError\u001b[0m: 'dict' object has no attribute 'item'"
     ]
    }
   ],
   "source": [
    "d2.item()"
   ]
  },
  {
   "cell_type": "code",
   "execution_count": 28,
   "id": "39cff9c3-4048-48fc-a2bb-7ed8f94779f5",
   "metadata": {},
   "outputs": [
    {
     "data": {
      "text/plain": [
       "{'number': [2, 22, 34, 21, 30],\n",
       " 'assignment': (1, 2, 3, 4, 5, 6),\n",
       " 'launch_date': {5, 15, 23},\n",
       " 'class_time': {'web_dev': 8, 'DSM': 9, 'java with dsa': 4},\n",
       " 'mentor': ['vivek', 'ujjawal', 'shubham']}"
      ]
     },
     "execution_count": 28,
     "metadata": {},
     "output_type": "execute_result"
    }
   ],
   "source": [
    "d2"
   ]
  },
  {
   "cell_type": "code",
   "execution_count": 29,
   "id": "eb13c38a-0941-4d45-b6c9-6f02bb50db54",
   "metadata": {},
   "outputs": [
    {
     "data": {
      "text/plain": [
       "[('number', [2, 22, 34, 21, 30]),\n",
       " ('assignment', (1, 2, 3, 4, 5, 6)),\n",
       " ('launch_date', {5, 15, 23}),\n",
       " ('class_time', {'web_dev': 8, 'DSM': 9, 'java with dsa': 4}),\n",
       " ('mentor', ['vivek', 'ujjawal', 'shubham'])]"
      ]
     },
     "execution_count": 29,
     "metadata": {},
     "output_type": "execute_result"
    }
   ],
   "source": [
    "list(d2.items())"
   ]
  },
  {
   "cell_type": "code",
   "execution_count": 31,
   "id": "9fa3bcc2-f709-4bd2-870c-d7ac73812bf8",
   "metadata": {},
   "outputs": [
    {
     "data": {
      "text/plain": [
       "['vivek', 'ujjawal', 'shubham']"
      ]
     },
     "execution_count": 31,
     "metadata": {},
     "output_type": "execute_result"
    }
   ],
   "source": [
    "d2.pop('mentor')"
   ]
  },
  {
   "cell_type": "code",
   "execution_count": 32,
   "id": "9729c095-cf45-4441-b121-b150ada7a2bd",
   "metadata": {},
   "outputs": [
    {
     "data": {
      "text/plain": [
       "{'number': [2, 22, 34, 21, 30],\n",
       " 'assignment': (1, 2, 3, 4, 5, 6),\n",
       " 'launch_date': {5, 15, 23},\n",
       " 'class_time': {'web_dev': 8, 'DSM': 9, 'java with dsa': 4}}"
      ]
     },
     "execution_count": 32,
     "metadata": {},
     "output_type": "execute_result"
    }
   ],
   "source": [
    "d2"
   ]
  },
  {
   "cell_type": "code",
   "execution_count": 33,
   "id": "7537f8ea-82a1-4d4b-999f-84ac81f515d6",
   "metadata": {},
   "outputs": [
    {
     "ename": "SyntaxError",
     "evalue": "incomplete input (1562350975.py, line 1)",
     "output_type": "error",
     "traceback": [
      "\u001b[0;36m  Cell \u001b[0;32mIn[33], line 1\u001b[0;36m\u001b[0m\n\u001b[0;31m    if marks >= 80 :\u001b[0m\n\u001b[0m                    ^\u001b[0m\n\u001b[0;31mSyntaxError\u001b[0m\u001b[0;31m:\u001b[0m incomplete input\n"
     ]
    }
   ],
   "source": [
    "if marks >= 80 :"
   ]
  },
  {
   "cell_type": "code",
   "execution_count": 39,
   "id": "abff3c64-67e9-4890-a5b5-6290051de54b",
   "metadata": {},
   "outputs": [
    {
     "name": "stdin",
     "output_type": "stream",
     "text": [
      "Enter your marks :- 45\n"
     ]
    },
    {
     "name": "stdout",
     "output_type": "stream",
     "text": [
      "you will be a part of A2 batch\n"
     ]
    }
   ],
   "source": [
    "marks = int(input(\"Enter your marks :-\"))\n",
    "if marks >= 80 :\n",
    "    print(\"you will be a part of A0 batch\")\n",
    "elif marks >= 60 and marks< 80 :\n",
    "    print(\"you will be a part of A1 batch\")\n",
    "elif marks >= 40 and marks< 60 :\n",
    "    print(\"you will be a part of A2 batch\")\n",
    "else :\n",
    "    print(\"you will be a part of A3 batch\")"
   ]
  },
  {
   "cell_type": "code",
   "execution_count": 44,
   "id": "45c53585-11d5-41f8-9b67-c8d3561c4719",
   "metadata": {},
   "outputs": [
    {
     "name": "stdin",
     "output_type": "stream",
     "text": [
      "Enter Your Price :- 200\n"
     ]
    },
    {
     "name": "stdout",
     "output_type": "stream",
     "text": [
      "I will purchase\n"
     ]
    }
   ],
   "source": [
    "price = int(input(\"Enter Your Price :-\"))\n",
    "if price > 1000 :\n",
    "    print(\"I will not purchase\")\n",
    "else :\n",
    "    print(\"I will purchase\")"
   ]
  },
  {
   "cell_type": "code",
   "execution_count": 45,
   "id": "ad609e47-1125-46af-89f6-641b3537354b",
   "metadata": {},
   "outputs": [],
   "source": [
    "l = [1,2,3,4,5,6,7,8]"
   ]
  },
  {
   "cell_type": "code",
   "execution_count": 46,
   "id": "faf20d5a-fd35-4deb-a7cb-d59a0b4545df",
   "metadata": {},
   "outputs": [
    {
     "name": "stdout",
     "output_type": "stream",
     "text": [
      "1\n",
      "2\n",
      "3\n",
      "4\n",
      "5\n",
      "6\n",
      "7\n",
      "8\n"
     ]
    }
   ],
   "source": [
    "for i in l :\n",
    "    print(i)"
   ]
  },
  {
   "cell_type": "code",
   "execution_count": null,
   "id": "66bcebba-a292-4553-b17e-9f93a97e2fba",
   "metadata": {},
   "outputs": [],
   "source": [
    "l1 = []\n",
    "for shubham in l :\n",
    "    print(shubham+1)\n",
    "    l1.append(shubham+1)\n",
    "l1"
   ]
  },
  {
   "cell_type": "code",
   "execution_count": 13,
   "id": "7e7b9a48-3d1a-490f-bef3-8c47e9ecff2a",
   "metadata": {},
   "outputs": [],
   "source": [
    "l = [\"givek\", \"Ajay\", \"aikas\", \"Akash\"]"
   ]
  },
  {
   "cell_type": "code",
   "execution_count": 18,
   "id": "1ccf486c-9309-4737-9ba5-efd321d2cdac",
   "metadata": {},
   "outputs": [
    {
     "name": "stdout",
     "output_type": "stream",
     "text": [
      "givek\n",
      "Ajay\n",
      "aikas\n",
      "Akash\n"
     ]
    }
   ],
   "source": [
    "l = [\"givek\", \"Ajay\", \"aikas\", \"Akash\"]\n",
    "l1 = []\n",
    "for i in l :\n",
    "    print(i)\n",
    "    l1.append(i.upper())"
   ]
  },
  {
   "cell_type": "code",
   "execution_count": 19,
   "id": "4a8e85d3-c889-46ca-ac7f-1f24e065d1cb",
   "metadata": {},
   "outputs": [
    {
     "data": {
      "text/plain": [
       "['GIVEK', 'AJAY', 'AIKAS', 'AKASH']"
      ]
     },
     "execution_count": 19,
     "metadata": {},
     "output_type": "execute_result"
    }
   ],
   "source": [
    "l1"
   ]
  },
  {
   "cell_type": "code",
   "execution_count": 17,
   "id": "137c3a75-8a61-4e41-b2d3-72e0085b6745",
   "metadata": {},
   "outputs": [
    {
     "data": {
      "text/plain": [
       "['GIVEK', 'AJAY', 'AIKAS', 'AKASH']"
      ]
     },
     "execution_count": 17,
     "metadata": {},
     "output_type": "execute_result"
    }
   ],
   "source": [
    "l1"
   ]
  },
  {
   "cell_type": "code",
   "execution_count": 15,
   "id": "ac60d5bc-b019-4561-b40a-4c135819eeb6",
   "metadata": {},
   "outputs": [
    {
     "data": {
      "text/plain": [
       "['GIVEK', 'AJAY', 'AIKAS', 'AKASH']"
      ]
     },
     "execution_count": 15,
     "metadata": {},
     "output_type": "execute_result"
    }
   ],
   "source": [
    "l1"
   ]
  },
  {
   "cell_type": "code",
   "execution_count": 9,
   "id": "d8ecef9a-3340-40c2-898d-d6d30b8e33cc",
   "metadata": {},
   "outputs": [],
   "source": [
    "l1 = [\"sudh\", \"kumar\", \"pwskills\", \"Couse\"]"
   ]
  },
  {
   "cell_type": "code",
   "execution_count": 10,
   "id": "7dc4eb0f-0df8-45a9-a6d1-cd34e7192049",
   "metadata": {},
   "outputs": [
    {
     "name": "stdout",
     "output_type": "stream",
     "text": [
      "sudh\n",
      "kumar\n",
      "pwskills\n",
      "Couse\n"
     ]
    }
   ],
   "source": [
    "l2 = []\n",
    "for p in l1 :\n",
    "    print(p)\n",
    "    l2.append(p.upper())"
   ]
  },
  {
   "cell_type": "code",
   "execution_count": 11,
   "id": "c5043df8-9f46-4323-acef-ebbe9f50c35d",
   "metadata": {},
   "outputs": [
    {
     "data": {
      "text/plain": [
       "['SUDH', 'KUMAR', 'PWSKILLS', 'COUSE']"
      ]
     },
     "execution_count": 11,
     "metadata": {},
     "output_type": "execute_result"
    }
   ],
   "source": [
    "l2"
   ]
  },
  {
   "cell_type": "code",
   "execution_count": 20,
   "id": "c31a4285-e630-4151-bb2f-d150a5d5ebe9",
   "metadata": {},
   "outputs": [
    {
     "name": "stdout",
     "output_type": "stream",
     "text": [
      "SUDH\n",
      "KUMAR\n",
      "PWSKILLS\n",
      "COUSE\n"
     ]
    }
   ],
   "source": [
    "l3 = []\n",
    "for q in l2 :\n",
    "    print(q)\n",
    "    l3.append(q.lower())\n"
   ]
  },
  {
   "cell_type": "code",
   "execution_count": 21,
   "id": "054e4e05-62e8-445e-8c20-4ea986c9f584",
   "metadata": {},
   "outputs": [
    {
     "data": {
      "text/plain": [
       "['sudh', 'kumar', 'pwskills', 'couse']"
      ]
     },
     "execution_count": 21,
     "metadata": {},
     "output_type": "execute_result"
    }
   ],
   "source": [
    "l3"
   ]
  },
  {
   "cell_type": "code",
   "execution_count": 2,
   "id": "cc33f1ff-cacb-47fa-8702-f6968677f4f4",
   "metadata": {},
   "outputs": [],
   "source": [
    "l4 = [1,2,3,4,4, 'Shubham', \"Gurele\", 324,254, \"abc\"]"
   ]
  },
  {
   "cell_type": "code",
   "execution_count": 10,
   "id": "7cefdddc-32d7-4733-ae0d-cf4e3cb0de53",
   "metadata": {},
   "outputs": [],
   "source": [
    "l5_num = []\n",
    "l6_str = []\n",
    "for i in l4 :\n",
    "    if type(i) == int or type(i) == float :\n",
    "        l5_num.append(i)\n",
    "    else :\n",
    "        l6_str.append(i.upper())"
   ]
  },
  {
   "cell_type": "code",
   "execution_count": 8,
   "id": "41abd36d-20b8-479f-b3d6-bf362a3f6d59",
   "metadata": {},
   "outputs": [
    {
     "data": {
      "text/plain": [
       "[1, 2, 3, 4, 4, 324, 254]"
      ]
     },
     "execution_count": 8,
     "metadata": {},
     "output_type": "execute_result"
    }
   ],
   "source": [
    "l5_num"
   ]
  },
  {
   "cell_type": "code",
   "execution_count": 11,
   "id": "8e105283-c64d-4520-937d-925734189f42",
   "metadata": {},
   "outputs": [
    {
     "data": {
      "text/plain": [
       "['SHUBHAM', 'GURELE', 'ABC']"
      ]
     },
     "execution_count": 11,
     "metadata": {},
     "output_type": "execute_result"
    }
   ],
   "source": [
    " l6_str"
   ]
  },
  {
   "cell_type": "code",
   "execution_count": null,
   "id": "f7a28bbb-b9e7-4714-b907-a3d15e198ba8",
   "metadata": {},
   "outputs": [],
   "source": []
  }
 ],
 "metadata": {
  "kernelspec": {
   "display_name": "Python 3 (ipykernel)",
   "language": "python",
   "name": "python3"
  },
  "language_info": {
   "codemirror_mode": {
    "name": "ipython",
    "version": 3
   },
   "file_extension": ".py",
   "mimetype": "text/x-python",
   "name": "python",
   "nbconvert_exporter": "python",
   "pygments_lexer": "ipython3",
   "version": "3.10.8"
  }
 },
 "nbformat": 4,
 "nbformat_minor": 5
}
