{
 "cells": [
  {
   "cell_type": "code",
   "execution_count": 1,
   "id": "33bf74cb-b3bb-4880-b190-772371311927",
   "metadata": {},
   "outputs": [
    {
     "ename": "SyntaxError",
     "evalue": "invalid syntax (3502547290.py, line 1)",
     "output_type": "error",
     "traceback": [
      "\u001b[0;36m  Cell \u001b[0;32mIn[1], line 1\u001b[0;36m\u001b[0m\n\u001b[0;31m    l=[1,5,4,,2,3,9,40]\u001b[0m\n\u001b[0m             ^\u001b[0m\n\u001b[0;31mSyntaxError\u001b[0m\u001b[0;31m:\u001b[0m invalid syntax\n"
     ]
    }
   ],
   "source": [
    "l=[1,5,4,,2,3,9,40]"
   ]
  },
  {
   "cell_type": "code",
   "execution_count": 2,
   "id": "fe085faa-9de0-4a06-886d-e2a60edacd53",
   "metadata": {},
   "outputs": [],
   "source": [
    "l=[1,5,4,'shubh',2,True,5+4j,55.55,3,9,40]"
   ]
  },
  {
   "cell_type": "code",
   "execution_count": 3,
   "id": "7a07d43e-79d7-40e8-93be-15d0c236915d",
   "metadata": {},
   "outputs": [
    {
     "data": {
      "text/plain": [
       "list"
      ]
     },
     "execution_count": 3,
     "metadata": {},
     "output_type": "execute_result"
    }
   ],
   "source": [
    "type(l)"
   ]
  },
  {
   "cell_type": "code",
   "execution_count": 4,
   "id": "56c102e5-9bef-4b90-aca1-52ea2eab1829",
   "metadata": {},
   "outputs": [
    {
     "data": {
      "text/plain": [
       "1"
      ]
     },
     "execution_count": 4,
     "metadata": {},
     "output_type": "execute_result"
    }
   ],
   "source": [
    "l[0]"
   ]
  },
  {
   "cell_type": "code",
   "execution_count": 5,
   "id": "8a5aaf2a-d570-4845-8650-fec9cc0602f6",
   "metadata": {},
   "outputs": [
    {
     "data": {
      "text/plain": [
       "55.55"
      ]
     },
     "execution_count": 5,
     "metadata": {},
     "output_type": "execute_result"
    }
   ],
   "source": [
    "l[7]"
   ]
  },
  {
   "cell_type": "code",
   "execution_count": 6,
   "id": "59916463-2d4c-418c-8e66-ef076feec26c",
   "metadata": {},
   "outputs": [
    {
     "data": {
      "text/plain": [
       "[1, 5, 4]"
      ]
     },
     "execution_count": 6,
     "metadata": {},
     "output_type": "execute_result"
    }
   ],
   "source": [
    "l[0:3]"
   ]
  },
  {
   "cell_type": "code",
   "execution_count": 7,
   "id": "c8d31220-ffcb-4f1a-9b51-191242a39aa8",
   "metadata": {},
   "outputs": [
    {
     "data": {
      "text/plain": [
       "40"
      ]
     },
     "execution_count": 7,
     "metadata": {},
     "output_type": "execute_result"
    }
   ],
   "source": [
    "l[-1]"
   ]
  },
  {
   "cell_type": "code",
   "execution_count": 8,
   "id": "19b6ba8e-1789-4bfe-894b-85962f15b561",
   "metadata": {},
   "outputs": [
    {
     "data": {
      "text/plain": [
       "9"
      ]
     },
     "execution_count": 8,
     "metadata": {},
     "output_type": "execute_result"
    }
   ],
   "source": [
    "l[-2]"
   ]
  },
  {
   "cell_type": "code",
   "execution_count": 9,
   "id": "8efba90f-bf34-4c6b-a4ba-45ef5e4cf4c6",
   "metadata": {},
   "outputs": [
    {
     "data": {
      "text/plain": [
       "[40, 9, 3, 55.55, (5+4j), True, 2, 'shubh', 4, 5, 1]"
      ]
     },
     "execution_count": 9,
     "metadata": {},
     "output_type": "execute_result"
    }
   ],
   "source": [
    "l[::-1]"
   ]
  },
  {
   "cell_type": "code",
   "execution_count": 10,
   "id": "13dfbdc6-bf48-4c4d-a4e9-f3e75044911e",
   "metadata": {},
   "outputs": [
    {
     "data": {
      "text/plain": [
       "[1, 5, 4, 'shubh', 2, True, (5+4j), 55.55, 3, 9, 40]"
      ]
     },
     "execution_count": 10,
     "metadata": {},
     "output_type": "execute_result"
    }
   ],
   "source": [
    "l"
   ]
  },
  {
   "cell_type": "code",
   "execution_count": 11,
   "id": "e3fbf212-1c50-4119-9624-35924785882d",
   "metadata": {},
   "outputs": [
    {
     "data": {
      "text/plain": [
       "[1, 4, 2, (5+4j), 3, 40]"
      ]
     },
     "execution_count": 11,
     "metadata": {},
     "output_type": "execute_result"
    }
   ],
   "source": [
    "l[::2]"
   ]
  },
  {
   "cell_type": "code",
   "execution_count": 12,
   "id": "e9f6e3a8-f8b9-44fc-ab44-4952558a8b56",
   "metadata": {},
   "outputs": [
    {
     "data": {
      "text/plain": [
       "[1, 5, 4, 'shubh', 2, True, (5+4j), 55.55, 3, 9, 40]"
      ]
     },
     "execution_count": 12,
     "metadata": {},
     "output_type": "execute_result"
    }
   ],
   "source": [
    "l[::1]"
   ]
  },
  {
   "cell_type": "code",
   "execution_count": 13,
   "id": "db1c9126-7c49-4430-8d3a-636144d734f5",
   "metadata": {},
   "outputs": [
    {
     "data": {
      "text/plain": [
       "[1, 5, 4, 'shubh', 2, True, (5+4j), 55.55, 3, 9, 40]"
      ]
     },
     "execution_count": 13,
     "metadata": {},
     "output_type": "execute_result"
    }
   ],
   "source": [
    "l"
   ]
  },
  {
   "cell_type": "code",
   "execution_count": 14,
   "id": "b503e340-84c8-4dfd-9f04-1189cd589fb2",
   "metadata": {},
   "outputs": [],
   "source": [
    "s = \"pwskilla\" "
   ]
  },
  {
   "cell_type": "code",
   "execution_count": 15,
   "id": "f2a53eaa-082d-41fd-9150-ee86ef49bb32",
   "metadata": {},
   "outputs": [
    {
     "data": {
      "text/plain": [
       "['p',\n",
       " 'w',\n",
       " 's',\n",
       " 'k',\n",
       " 'i',\n",
       " 'l',\n",
       " 'l',\n",
       " 'a',\n",
       " 1,\n",
       " 5,\n",
       " 4,\n",
       " 'shubh',\n",
       " 2,\n",
       " True,\n",
       " (5+4j),\n",
       " 55.55,\n",
       " 3,\n",
       " 9,\n",
       " 40]"
      ]
     },
     "execution_count": 15,
     "metadata": {},
     "output_type": "execute_result"
    }
   ],
   "source": [
    "list(s)+l"
   ]
  },
  {
   "cell_type": "code",
   "execution_count": 16,
   "id": "98c34bc2-c471-4614-be38-1f69c1a62f4b",
   "metadata": {},
   "outputs": [
    {
     "data": {
      "text/plain": [
       "[1, 5, 4, 'shubh', 2, True, (5+4j), 55.55, 3, 9, 40]"
      ]
     },
     "execution_count": 16,
     "metadata": {},
     "output_type": "execute_result"
    }
   ],
   "source": [
    "l"
   ]
  },
  {
   "cell_type": "code",
   "execution_count": 19,
   "id": "18501773-a0ee-4f14-884f-9bb73cce9e35",
   "metadata": {},
   "outputs": [
    {
     "data": {
      "text/plain": [
       "'shu'"
      ]
     },
     "execution_count": 19,
     "metadata": {},
     "output_type": "execute_result"
    }
   ],
   "source": [
    "l[3][0:3]"
   ]
  },
  {
   "cell_type": "code",
   "execution_count": 20,
   "id": "da3a1c39-fc16-497c-8c22-83a0783c4e72",
   "metadata": {},
   "outputs": [
    {
     "data": {
      "text/plain": [
       "True"
      ]
     },
     "execution_count": 20,
     "metadata": {},
     "output_type": "execute_result"
    }
   ],
   "source": [
    "l[5]"
   ]
  },
  {
   "cell_type": "code",
   "execution_count": 22,
   "id": "7c83ea1d-0415-4a9a-b1dc-e22589c71028",
   "metadata": {},
   "outputs": [
    {
     "data": {
      "text/plain": [
       "'Tr'"
      ]
     },
     "execution_count": 22,
     "metadata": {},
     "output_type": "execute_result"
    }
   ],
   "source": [
    "str(l[5])[0:2]"
   ]
  },
  {
   "cell_type": "code",
   "execution_count": 23,
   "id": "7d5ed8a3-3cba-411d-a4be-5b9488839ddb",
   "metadata": {},
   "outputs": [
    {
     "data": {
      "text/plain": [
       "[1, 5, 4, 'shubh', 2, True, (5+4j), 55.55, 3, 9, 40]"
      ]
     },
     "execution_count": 23,
     "metadata": {},
     "output_type": "execute_result"
    }
   ],
   "source": [
    "l"
   ]
  },
  {
   "cell_type": "code",
   "execution_count": 24,
   "id": "e13bdc7d-f170-4b44-bedf-e59d82d0fd5b",
   "metadata": {},
   "outputs": [
    {
     "ename": "TypeError",
     "evalue": "can only concatenate list (not \"int\") to list",
     "output_type": "error",
     "traceback": [
      "\u001b[0;31m---------------------------------------------------------------------------\u001b[0m",
      "\u001b[0;31mTypeError\u001b[0m                                 Traceback (most recent call last)",
      "Cell \u001b[0;32mIn[24], line 1\u001b[0m\n\u001b[0;32m----> 1\u001b[0m \u001b[43ml\u001b[49m\u001b[38;5;241;43m+\u001b[39;49m\u001b[38;5;241;43m2\u001b[39;49m\n",
      "\u001b[0;31mTypeError\u001b[0m: can only concatenate list (not \"int\") to list"
     ]
    }
   ],
   "source": [
    "l+2"
   ]
  },
  {
   "cell_type": "code",
   "execution_count": 25,
   "id": "ddec1198-1eb7-4663-a637-87afacb7d547",
   "metadata": {},
   "outputs": [
    {
     "ename": "TypeError",
     "evalue": "can only concatenate list (not \"int\") to list",
     "output_type": "error",
     "traceback": [
      "\u001b[0;31m---------------------------------------------------------------------------\u001b[0m",
      "\u001b[0;31mTypeError\u001b[0m                                 Traceback (most recent call last)",
      "Cell \u001b[0;32mIn[25], line 1\u001b[0m\n\u001b[0;32m----> 1\u001b[0m \u001b[43ml\u001b[49m\u001b[38;5;241;43m+\u001b[39;49m\u001b[43ml\u001b[49m\u001b[43m[\u001b[49m\u001b[38;5;241;43m2\u001b[39;49m\u001b[43m]\u001b[49m\n",
      "\u001b[0;31mTypeError\u001b[0m: can only concatenate list (not \"int\") to list"
     ]
    }
   ],
   "source": [
    "l+l[2]"
   ]
  },
  {
   "cell_type": "code",
   "execution_count": 26,
   "id": "4cec7e83-002f-417a-9ee9-68e6e9914934",
   "metadata": {},
   "outputs": [],
   "source": [
    "l1 = [3,1,2] "
   ]
  },
  {
   "cell_type": "code",
   "execution_count": 27,
   "id": "757a8479-290b-404b-8e0b-c77d655208e6",
   "metadata": {},
   "outputs": [
    {
     "data": {
      "text/plain": [
       "[1, 5, 4, 'shubh', 2, True, (5+4j), 55.55, 3, 9, 40, 3, 1, 2]"
      ]
     },
     "execution_count": 27,
     "metadata": {},
     "output_type": "execute_result"
    }
   ],
   "source": [
    "l+l1"
   ]
  },
  {
   "cell_type": "code",
   "execution_count": 28,
   "id": "953cc897-2d0e-4938-a18f-81ecdc5fe599",
   "metadata": {},
   "outputs": [
    {
     "data": {
      "text/plain": [
       "[3, 1, 2]"
      ]
     },
     "execution_count": 28,
     "metadata": {},
     "output_type": "execute_result"
    }
   ],
   "source": [
    "l1"
   ]
  },
  {
   "cell_type": "code",
   "execution_count": 29,
   "id": "c0e9e89c-2ef6-43e0-a28e-eb5a4da3ecd2",
   "metadata": {},
   "outputs": [
    {
     "data": {
      "text/plain": [
       "[3, 1, 2, 3, 1, 2, 3, 1, 2]"
      ]
     },
     "execution_count": 29,
     "metadata": {},
     "output_type": "execute_result"
    }
   ],
   "source": [
    "l1 * 3"
   ]
  },
  {
   "cell_type": "code",
   "execution_count": 30,
   "id": "ab3b838b-034a-4745-9d6f-c8efc057ce7c",
   "metadata": {},
   "outputs": [
    {
     "ename": "TypeError",
     "evalue": "unsupported operand type(s) for /: 'list' and 'int'",
     "output_type": "error",
     "traceback": [
      "\u001b[0;31m---------------------------------------------------------------------------\u001b[0m",
      "\u001b[0;31mTypeError\u001b[0m                                 Traceback (most recent call last)",
      "Cell \u001b[0;32mIn[30], line 1\u001b[0m\n\u001b[0;32m----> 1\u001b[0m \u001b[43ml1\u001b[49m\u001b[38;5;241;43m/\u001b[39;49m\u001b[38;5;241;43m3\u001b[39;49m\n",
      "\u001b[0;31mTypeError\u001b[0m: unsupported operand type(s) for /: 'list' and 'int'"
     ]
    }
   ],
   "source": [
    "l1/3"
   ]
  },
  {
   "cell_type": "code",
   "execution_count": 31,
   "id": "45784549-ec59-41d7-b2f5-61ca82c97ae7",
   "metadata": {},
   "outputs": [
    {
     "data": {
      "text/plain": [
       "11"
      ]
     },
     "execution_count": 31,
     "metadata": {},
     "output_type": "execute_result"
    }
   ],
   "source": [
    "len(l)"
   ]
  },
  {
   "cell_type": "code",
   "execution_count": 32,
   "id": "dfab7f2f-62b6-47e1-b126-006a412b47b0",
   "metadata": {},
   "outputs": [
    {
     "data": {
      "text/plain": [
       "[1, 5, 4, 'shubh', 2, True, (5+4j), 55.55, 3, 9, 40]"
      ]
     },
     "execution_count": 32,
     "metadata": {},
     "output_type": "execute_result"
    }
   ],
   "source": [
    "l"
   ]
  },
  {
   "cell_type": "code",
   "execution_count": 33,
   "id": "16bdfe3b-646c-4518-bbab-a99240389171",
   "metadata": {},
   "outputs": [],
   "source": [
    "l.append(5)"
   ]
  },
  {
   "cell_type": "code",
   "execution_count": 34,
   "id": "827e9ce4-3259-41da-9b82-dd2b26f75918",
   "metadata": {},
   "outputs": [
    {
     "data": {
      "text/plain": [
       "[1, 5, 4, 'shubh', 2, True, (5+4j), 55.55, 3, 9, 40, 5]"
      ]
     },
     "execution_count": 34,
     "metadata": {},
     "output_type": "execute_result"
    }
   ],
   "source": [
    "l"
   ]
  },
  {
   "cell_type": "code",
   "execution_count": 35,
   "id": "7710eb33-b260-4cb9-a799-fb93f4681c1f",
   "metadata": {},
   "outputs": [
    {
     "ename": "TypeError",
     "evalue": "'NoneType' object is not subscriptable",
     "output_type": "error",
     "traceback": [
      "\u001b[0;31m---------------------------------------------------------------------------\u001b[0m",
      "\u001b[0;31mTypeError\u001b[0m                                 Traceback (most recent call last)",
      "Cell \u001b[0;32mIn[35], line 1\u001b[0m\n\u001b[0;32m----> 1\u001b[0m \u001b[43ml\u001b[49m\u001b[38;5;241;43m.\u001b[39;49m\u001b[43mappend\u001b[49m\u001b[43m(\u001b[49m\u001b[38;5;241;43m5\u001b[39;49m\u001b[43m)\u001b[49m\u001b[43m[\u001b[49m\u001b[38;5;241;43m-\u001b[39;49m\u001b[38;5;241;43m1\u001b[39;49m\u001b[43m]\u001b[49m\n",
      "\u001b[0;31mTypeError\u001b[0m: 'NoneType' object is not subscriptable"
     ]
    }
   ],
   "source": [
    "l.append(5)[-1]"
   ]
  },
  {
   "cell_type": "code",
   "execution_count": 36,
   "id": "d5aa86e3-e4fa-4dbf-b1e5-c81e97dccf1f",
   "metadata": {},
   "outputs": [
    {
     "data": {
      "text/plain": [
       "'pwskilla'"
      ]
     },
     "execution_count": 36,
     "metadata": {},
     "output_type": "execute_result"
    }
   ],
   "source": [
    "s"
   ]
  },
  {
   "cell_type": "code",
   "execution_count": 37,
   "id": "ba60f198-d229-43f5-b55f-5d0620763d1b",
   "metadata": {},
   "outputs": [],
   "source": [
    "l.append(s)"
   ]
  },
  {
   "cell_type": "code",
   "execution_count": 38,
   "id": "2d906c7e-bd61-4ea8-b621-c123abf161cb",
   "metadata": {},
   "outputs": [
    {
     "data": {
      "text/plain": [
       "[1, 5, 4, 'shubh', 2, True, (5+4j), 55.55, 3, 9, 40, 5, 5, 'pwskilla']"
      ]
     },
     "execution_count": 38,
     "metadata": {},
     "output_type": "execute_result"
    }
   ],
   "source": [
    "l"
   ]
  },
  {
   "cell_type": "code",
   "execution_count": 39,
   "id": "f17f24e5-98df-4a58-b823-4e59457c8ed0",
   "metadata": {},
   "outputs": [],
   "source": [
    "l.append(l1)"
   ]
  },
  {
   "cell_type": "code",
   "execution_count": 40,
   "id": "2ad42ac6-3758-46b5-a31d-74bce6d0e8fe",
   "metadata": {},
   "outputs": [
    {
     "data": {
      "text/plain": [
       "[1,\n",
       " 5,\n",
       " 4,\n",
       " 'shubh',\n",
       " 2,\n",
       " True,\n",
       " (5+4j),\n",
       " 55.55,\n",
       " 3,\n",
       " 9,\n",
       " 40,\n",
       " 5,\n",
       " 5,\n",
       " 'pwskilla',\n",
       " [3, 1, 2]]"
      ]
     },
     "execution_count": 40,
     "metadata": {},
     "output_type": "execute_result"
    }
   ],
   "source": [
    "l"
   ]
  },
  {
   "cell_type": "code",
   "execution_count": 41,
   "id": "a72842d8-eefa-4676-9f97-94c055c1dc60",
   "metadata": {},
   "outputs": [
    {
     "ename": "SyntaxError",
     "evalue": "invalid syntax (3931795330.py, line 1)",
     "output_type": "error",
     "traceback": [
      "\u001b[0;36m  Cell \u001b[0;32mIn[41], line 1\u001b[0;36m\u001b[0m\n\u001b[0;31m    l[]-1\u001b[0m\n\u001b[0m      ^\u001b[0m\n\u001b[0;31mSyntaxError\u001b[0m\u001b[0;31m:\u001b[0m invalid syntax\n"
     ]
    }
   ],
   "source": [
    "l[]-1"
   ]
  },
  {
   "cell_type": "code",
   "execution_count": 43,
   "id": "88a3f233-90a0-4b01-ba61-849580a22272",
   "metadata": {},
   "outputs": [
    {
     "data": {
      "text/plain": [
       "1"
      ]
     },
     "execution_count": 43,
     "metadata": {},
     "output_type": "execute_result"
    }
   ],
   "source": [
    "l[-1][-2]"
   ]
  },
  {
   "cell_type": "code",
   "execution_count": 45,
   "id": "f12808cc-88ae-4b68-8c79-ad195677654e",
   "metadata": {},
   "outputs": [
    {
     "data": {
      "text/plain": [
       "'pws'"
      ]
     },
     "execution_count": 45,
     "metadata": {},
     "output_type": "execute_result"
    }
   ],
   "source": [
    "l[-2][0:3]"
   ]
  },
  {
   "cell_type": "code",
   "execution_count": 46,
   "id": "4d206048-1ec3-4002-8765-af66630d0cd5",
   "metadata": {},
   "outputs": [
    {
     "data": {
      "text/plain": [
       "[1,\n",
       " 5,\n",
       " 4,\n",
       " 'shubh',\n",
       " 2,\n",
       " True,\n",
       " (5+4j),\n",
       " 55.55,\n",
       " 3,\n",
       " 9,\n",
       " 40,\n",
       " 5,\n",
       " 5,\n",
       " 'pwskilla',\n",
       " [3, 1, 2]]"
      ]
     },
     "execution_count": 46,
     "metadata": {},
     "output_type": "execute_result"
    }
   ],
   "source": [
    "l"
   ]
  },
  {
   "cell_type": "code",
   "execution_count": 47,
   "id": "99c96eb3-8870-496a-bc0f-d5f697677c37",
   "metadata": {},
   "outputs": [
    {
     "ename": "TypeError",
     "evalue": "'int' object is not iterable",
     "output_type": "error",
     "traceback": [
      "\u001b[0;31m---------------------------------------------------------------------------\u001b[0m",
      "\u001b[0;31mTypeError\u001b[0m                                 Traceback (most recent call last)",
      "Cell \u001b[0;32mIn[47], line 1\u001b[0m\n\u001b[0;32m----> 1\u001b[0m \u001b[43ml\u001b[49m\u001b[38;5;241;43m.\u001b[39;49m\u001b[43mextend\u001b[49m\u001b[43m(\u001b[49m\u001b[38;5;241;43m3\u001b[39;49m\u001b[43m)\u001b[49m\n",
      "\u001b[0;31mTypeError\u001b[0m: 'int' object is not iterable"
     ]
    }
   ],
   "source": [
    "l.extend(3)"
   ]
  },
  {
   "cell_type": "code",
   "execution_count": 48,
   "id": "1c1af1ef-ce56-4a98-9e52-b66d0c1b984e",
   "metadata": {},
   "outputs": [],
   "source": [
    "l.extend(\"suas\")"
   ]
  },
  {
   "cell_type": "code",
   "execution_count": 49,
   "id": "35bb95da-d99a-46be-9db8-741161557666",
   "metadata": {},
   "outputs": [
    {
     "data": {
      "text/plain": [
       "[1,\n",
       " 5,\n",
       " 4,\n",
       " 'shubh',\n",
       " 2,\n",
       " True,\n",
       " (5+4j),\n",
       " 55.55,\n",
       " 3,\n",
       " 9,\n",
       " 40,\n",
       " 5,\n",
       " 5,\n",
       " 'pwskilla',\n",
       " [3, 1, 2],\n",
       " 's',\n",
       " 'u',\n",
       " 'a',\n",
       " 's']"
      ]
     },
     "execution_count": 49,
     "metadata": {},
     "output_type": "execute_result"
    }
   ],
   "source": [
    "l"
   ]
  },
  {
   "cell_type": "code",
   "execution_count": 50,
   "id": "ef766292-951a-4ddf-ba1b-1813908b6db3",
   "metadata": {},
   "outputs": [],
   "source": [
    "l.extend([1,2,3])"
   ]
  },
  {
   "cell_type": "code",
   "execution_count": 51,
   "id": "e16dc51b-7305-42d1-a08c-bb0510528869",
   "metadata": {},
   "outputs": [
    {
     "data": {
      "text/plain": [
       "[1,\n",
       " 5,\n",
       " 4,\n",
       " 'shubh',\n",
       " 2,\n",
       " True,\n",
       " (5+4j),\n",
       " 55.55,\n",
       " 3,\n",
       " 9,\n",
       " 40,\n",
       " 5,\n",
       " 5,\n",
       " 'pwskilla',\n",
       " [3, 1, 2],\n",
       " 's',\n",
       " 'u',\n",
       " 'a',\n",
       " 's',\n",
       " 1,\n",
       " 2,\n",
       " 3]"
      ]
     },
     "execution_count": 51,
     "metadata": {},
     "output_type": "execute_result"
    }
   ],
   "source": [
    "l"
   ]
  },
  {
   "cell_type": "code",
   "execution_count": 52,
   "id": "3d2505e8-1c8b-4654-8e48-e16dfa1d91ae",
   "metadata": {},
   "outputs": [
    {
     "data": {
      "text/plain": [
       "[3, 1, 2]"
      ]
     },
     "execution_count": 52,
     "metadata": {},
     "output_type": "execute_result"
    }
   ],
   "source": [
    "l1"
   ]
  },
  {
   "cell_type": "code",
   "execution_count": 53,
   "id": "e339361a-7cee-4b03-9001-6f13f6617f0e",
   "metadata": {},
   "outputs": [],
   "source": [
    "l1.insert(0,5)"
   ]
  },
  {
   "cell_type": "code",
   "execution_count": 54,
   "id": "7b2842d4-d659-4de6-94b6-fa1d12fd83a0",
   "metadata": {},
   "outputs": [
    {
     "data": {
      "text/plain": [
       "[5, 3, 1, 2]"
      ]
     },
     "execution_count": 54,
     "metadata": {},
     "output_type": "execute_result"
    }
   ],
   "source": [
    "l1"
   ]
  },
  {
   "cell_type": "code",
   "execution_count": 55,
   "id": "a917894c-18fe-4a4a-b94f-2c9e1431a750",
   "metadata": {},
   "outputs": [
    {
     "data": {
      "text/plain": [
       "1"
      ]
     },
     "execution_count": 55,
     "metadata": {},
     "output_type": "execute_result"
    }
   ],
   "source": [
    "l1.index(3,0)"
   ]
  },
  {
   "cell_type": "code",
   "execution_count": 56,
   "id": "183c33d1-1946-493d-a87e-fd1450bff66f",
   "metadata": {},
   "outputs": [
    {
     "data": {
      "text/plain": [
       "1"
      ]
     },
     "execution_count": 56,
     "metadata": {},
     "output_type": "execute_result"
    }
   ],
   "source": [
    "l1.index(3,1)"
   ]
  },
  {
   "cell_type": "code",
   "execution_count": 59,
   "id": "90c63876-c3ce-45e3-a600-e48667e9b717",
   "metadata": {},
   "outputs": [
    {
     "ename": "ValueError",
     "evalue": "0 is not in list",
     "output_type": "error",
     "traceback": [
      "\u001b[0;31m---------------------------------------------------------------------------\u001b[0m",
      "\u001b[0;31mValueError\u001b[0m                                Traceback (most recent call last)",
      "Cell \u001b[0;32mIn[59], line 1\u001b[0m\n\u001b[0;32m----> 1\u001b[0m \u001b[43ml1\u001b[49m\u001b[38;5;241;43m.\u001b[39;49m\u001b[43mindex\u001b[49m\u001b[43m(\u001b[49m\u001b[38;5;241;43m0\u001b[39;49m\u001b[43m)\u001b[49m\n",
      "\u001b[0;31mValueError\u001b[0m: 0 is not in list"
     ]
    }
   ],
   "source": [
    "l1.index(0)"
   ]
  },
  {
   "cell_type": "code",
   "execution_count": 60,
   "id": "bef4139f-3647-468c-abdc-67d105dc1823",
   "metadata": {},
   "outputs": [],
   "source": [
    "l1.insert(1,\"suas\")"
   ]
  },
  {
   "cell_type": "code",
   "execution_count": 61,
   "id": "90a06c15-11fb-4623-9c09-6fc183161367",
   "metadata": {},
   "outputs": [
    {
     "data": {
      "text/plain": [
       "[5, 'suas', 3, 1, 2]"
      ]
     },
     "execution_count": 61,
     "metadata": {},
     "output_type": "execute_result"
    }
   ],
   "source": [
    "l1"
   ]
  },
  {
   "cell_type": "code",
   "execution_count": 62,
   "id": "4502d949-7926-41d9-9545-dc727def3813",
   "metadata": {},
   "outputs": [
    {
     "data": {
      "text/plain": [
       "2"
      ]
     },
     "execution_count": 62,
     "metadata": {},
     "output_type": "execute_result"
    }
   ],
   "source": [
    "l1.pop()"
   ]
  },
  {
   "cell_type": "code",
   "execution_count": 63,
   "id": "eeb97c91-4d65-47e3-9311-50b88c432fa4",
   "metadata": {},
   "outputs": [
    {
     "data": {
      "text/plain": [
       "3"
      ]
     },
     "execution_count": 63,
     "metadata": {},
     "output_type": "execute_result"
    }
   ],
   "source": [
    "l1.pop(-2)"
   ]
  },
  {
   "cell_type": "code",
   "execution_count": 64,
   "id": "bfd81f6b-70a8-451e-9674-f2be639ff919",
   "metadata": {},
   "outputs": [
    {
     "data": {
      "text/plain": [
       "[5, 'suas', 1]"
      ]
     },
     "execution_count": 64,
     "metadata": {},
     "output_type": "execute_result"
    }
   ],
   "source": [
    "l1"
   ]
  },
  {
   "cell_type": "code",
   "execution_count": 65,
   "id": "05e6817e-6784-4d3f-a8e9-3430f1952b01",
   "metadata": {},
   "outputs": [
    {
     "data": {
      "text/plain": [
       "'suas'"
      ]
     },
     "execution_count": 65,
     "metadata": {},
     "output_type": "execute_result"
    }
   ],
   "source": [
    "l1.pop(1)"
   ]
  },
  {
   "cell_type": "code",
   "execution_count": 66,
   "id": "9f28890a-115a-44e0-99e1-0b2acc6c6be7",
   "metadata": {},
   "outputs": [
    {
     "data": {
      "text/plain": [
       "[5, 1]"
      ]
     },
     "execution_count": 66,
     "metadata": {},
     "output_type": "execute_result"
    }
   ],
   "source": [
    "l1"
   ]
  },
  {
   "cell_type": "code",
   "execution_count": 67,
   "id": "f7294861-7af7-42fb-b989-a90241e08065",
   "metadata": {},
   "outputs": [],
   "source": [
    "l1 = ['sdus',1,5,True,3+4j,55.55] "
   ]
  },
  {
   "cell_type": "code",
   "execution_count": 68,
   "id": "68719dc3-9227-4541-b722-e8e08b64e11a",
   "metadata": {},
   "outputs": [
    {
     "data": {
      "text/plain": [
       "['sdus', 1, 5, True, (3+4j), 55.55]"
      ]
     },
     "execution_count": 68,
     "metadata": {},
     "output_type": "execute_result"
    }
   ],
   "source": [
    "l1"
   ]
  },
  {
   "cell_type": "code",
   "execution_count": 69,
   "id": "b6b95a0b-1957-48f9-acbf-4edb7712c7b3",
   "metadata": {},
   "outputs": [],
   "source": [
    "l1.remove(5)"
   ]
  },
  {
   "cell_type": "code",
   "execution_count": 70,
   "id": "086bdd86-e6db-4931-8f1e-905ee9ad6255",
   "metadata": {},
   "outputs": [
    {
     "data": {
      "text/plain": [
       "['sdus', 1, True, (3+4j), 55.55]"
      ]
     },
     "execution_count": 70,
     "metadata": {},
     "output_type": "execute_result"
    }
   ],
   "source": [
    "l1"
   ]
  },
  {
   "cell_type": "code",
   "execution_count": 71,
   "id": "8dfda823-0f2d-41d2-b57f-50681e355ec3",
   "metadata": {},
   "outputs": [],
   "source": [
    "l1.remove('sdus')"
   ]
  },
  {
   "cell_type": "code",
   "execution_count": 72,
   "id": "a46b4f59-359a-46ce-ad63-572a1ab2b0f0",
   "metadata": {},
   "outputs": [
    {
     "data": {
      "text/plain": [
       "[1, True, (3+4j), 55.55]"
      ]
     },
     "execution_count": 72,
     "metadata": {},
     "output_type": "execute_result"
    }
   ],
   "source": [
    "l1"
   ]
  },
  {
   "cell_type": "code",
   "execution_count": 73,
   "id": "ed8988a5-c86b-4f06-b727-1190a7f5e8c2",
   "metadata": {},
   "outputs": [],
   "source": [
    "l1.insert(0,\"suas\")"
   ]
  },
  {
   "cell_type": "code",
   "execution_count": 74,
   "id": "0a312148-f847-488f-8f16-fe5b8c6537ae",
   "metadata": {},
   "outputs": [
    {
     "data": {
      "text/plain": [
       "['suas', 1, True, (3+4j), 55.55]"
      ]
     },
     "execution_count": 74,
     "metadata": {},
     "output_type": "execute_result"
    }
   ],
   "source": [
    "l1"
   ]
  },
  {
   "cell_type": "code",
   "execution_count": 76,
   "id": "a07d9a0d-6a73-45b0-9d0c-9b59852b0ba8",
   "metadata": {},
   "outputs": [
    {
     "ename": "AttributeError",
     "evalue": "'str' object has no attribute 'remove'",
     "output_type": "error",
     "traceback": [
      "\u001b[0;31m---------------------------------------------------------------------------\u001b[0m",
      "\u001b[0;31mAttributeError\u001b[0m                            Traceback (most recent call last)",
      "Cell \u001b[0;32mIn[76], line 1\u001b[0m\n\u001b[0;32m----> 1\u001b[0m \u001b[43ml1\u001b[49m\u001b[43m[\u001b[49m\u001b[38;5;241;43m0\u001b[39;49m\u001b[43m]\u001b[49m\u001b[38;5;241;43m.\u001b[39;49m\u001b[43mremove\u001b[49m(su)\n",
      "\u001b[0;31mAttributeError\u001b[0m: 'str' object has no attribute 'remove'"
     ]
    }
   ],
   "source": [
    "l1[0].remove(su)"
   ]
  },
  {
   "cell_type": "code",
   "execution_count": 77,
   "id": "d9058bca-8b51-4cfe-98ea-4f18973466cd",
   "metadata": {},
   "outputs": [],
   "source": [
    "l1.remove(55.55)"
   ]
  },
  {
   "cell_type": "code",
   "execution_count": 78,
   "id": "f168e2cb-9b9b-4c9a-ba62-f6536f7d3472",
   "metadata": {},
   "outputs": [
    {
     "data": {
      "text/plain": [
       "['suas', 1, True, (3+4j)]"
      ]
     },
     "execution_count": 78,
     "metadata": {},
     "output_type": "execute_result"
    }
   ],
   "source": [
    "l1"
   ]
  },
  {
   "cell_type": "code",
   "execution_count": 84,
   "id": "0395865f-d929-414b-833e-3f28c39e6821",
   "metadata": {},
   "outputs": [
    {
     "data": {
      "text/plain": [
       "2"
      ]
     },
     "execution_count": 84,
     "metadata": {},
     "output_type": "execute_result"
    }
   ],
   "source": [
    "l1.count(1)"
   ]
  },
  {
   "cell_type": "code",
   "execution_count": 85,
   "id": "e024dc36-6f0e-487d-8c25-f5947b886529",
   "metadata": {},
   "outputs": [
    {
     "data": {
      "text/plain": [
       "'suas'"
      ]
     },
     "execution_count": 85,
     "metadata": {},
     "output_type": "execute_result"
    }
   ],
   "source": [
    "l1[0]"
   ]
  },
  {
   "cell_type": "code",
   "execution_count": 86,
   "id": "6a76f160-0b41-427a-be9b-636406d8356f",
   "metadata": {},
   "outputs": [],
   "source": [
    "t=(90,40,50,8,0,90,100,'shubham',True,3+4j)"
   ]
  },
  {
   "cell_type": "code",
   "execution_count": 87,
   "id": "feadc1b6-30f2-4cea-aea5-c31bd4d00f54",
   "metadata": {},
   "outputs": [
    {
     "data": {
      "text/plain": [
       "(90, 40, 50, 8, 0, 90, 100, 'shubham', True, (3+4j))"
      ]
     },
     "execution_count": 87,
     "metadata": {},
     "output_type": "execute_result"
    }
   ],
   "source": [
    "t"
   ]
  },
  {
   "cell_type": "code",
   "execution_count": 88,
   "id": "1d2e1644-3caf-423f-81ee-31e3cfee323a",
   "metadata": {},
   "outputs": [
    {
     "data": {
      "text/plain": [
       "tuple"
      ]
     },
     "execution_count": 88,
     "metadata": {},
     "output_type": "execute_result"
    }
   ],
   "source": [
    "type(t)"
   ]
  },
  {
   "cell_type": "code",
   "execution_count": 89,
   "id": "97e877e4-121f-4dc9-b15e-d2a81f535383",
   "metadata": {},
   "outputs": [
    {
     "data": {
      "text/plain": [
       "10"
      ]
     },
     "execution_count": 89,
     "metadata": {},
     "output_type": "execute_result"
    }
   ],
   "source": [
    "len(t)"
   ]
  },
  {
   "cell_type": "code",
   "execution_count": 90,
   "id": "05152511-2172-4124-803e-e94aae5b21c5",
   "metadata": {},
   "outputs": [],
   "source": [
    "s={}"
   ]
  },
  {
   "cell_type": "code",
   "execution_count": 91,
   "id": "4d2d93f2-e2fb-46f8-bca7-8ce8f103ad25",
   "metadata": {},
   "outputs": [
    {
     "data": {
      "text/plain": [
       "dict"
      ]
     },
     "execution_count": 91,
     "metadata": {},
     "output_type": "execute_result"
    }
   ],
   "source": [
    "type(s)"
   ]
  },
  {
   "cell_type": "code",
   "execution_count": 92,
   "id": "f75ca002-c352-480e-bba6-5199ed019940",
   "metadata": {},
   "outputs": [],
   "source": [
    "s1={4,45,2,1,1,7}"
   ]
  },
  {
   "cell_type": "code",
   "execution_count": 93,
   "id": "adee5171-9136-453e-929e-14d6cb675b78",
   "metadata": {},
   "outputs": [
    {
     "data": {
      "text/plain": [
       "set"
      ]
     },
     "execution_count": 93,
     "metadata": {},
     "output_type": "execute_result"
    }
   ],
   "source": [
    "type(s1)"
   ]
  },
  {
   "cell_type": "code",
   "execution_count": 94,
   "id": "a898307d-8365-42ca-b678-46bf3da892b5",
   "metadata": {},
   "outputs": [
    {
     "data": {
      "text/plain": [
       "{1, 2, 4, 7, 45}"
      ]
     },
     "execution_count": 94,
     "metadata": {},
     "output_type": "execute_result"
    }
   ],
   "source": [
    "s1"
   ]
  },
  {
   "cell_type": "code",
   "execution_count": null,
   "id": "c12e2293-52a1-4c7a-99d4-c001e5cb9b03",
   "metadata": {},
   "outputs": [],
   "source": []
  }
 ],
 "metadata": {
  "kernelspec": {
   "display_name": "Python 3 (ipykernel)",
   "language": "python",
   "name": "python3"
  },
  "language_info": {
   "codemirror_mode": {
    "name": "ipython",
    "version": 3
   },
   "file_extension": ".py",
   "mimetype": "text/x-python",
   "name": "python",
   "nbconvert_exporter": "python",
   "pygments_lexer": "ipython3",
   "version": "3.10.8"
  }
 },
 "nbformat": 4,
 "nbformat_minor": 5
}
