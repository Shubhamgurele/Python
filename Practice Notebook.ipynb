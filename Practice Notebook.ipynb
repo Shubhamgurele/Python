{
 "cells": [
  {
   "cell_type": "code",
   "execution_count": null,
   "id": "919f90a4-eb1d-4c67-b0bb-11fbbbe9ac33",
   "metadata": {},
   "outputs": [],
   "source": [
    "# Year is leap year or not\n",
    "\n",
    "Year=int(input(\"Enter the Year =>\"))\n",
    "if(Year%4==0 and Year%100!=0) or Year%400==0:\n",
    "    print(\"Year is the Leap Year\")\n",
    "else:\n",
    "    print(\"Year is not a Leap Year\")"
   ]
  },
  {
   "cell_type": "code",
   "execution_count": null,
   "id": "2c1f4dd4-86c8-42d7-a609-fd4814f17573",
   "metadata": {},
   "outputs": [],
   "source": [
    "# Date is valid or Invalid\n",
    "\n",
    "Day=int(input(\"Enter The Day =>\"))\n",
    "Month=int(input(\"Enter The Month =>\"))\n",
    "Year=int(input(\"Enter The Year =>\"))\n",
    "if(Month==1 or Month==3 or Month==5 or Month==7 or Month==8 or  Month==10 or Month==12):\n",
    "    max_Days=31\n",
    "elif(Month==4 or Month==6 or Month==9 or Month==11):\n",
    "    max_Days=30\n",
    "elif Year%4==0 and Year%100!=0 or Year%400==0:\n",
    "    max_Days=29\n",
    "else:\n",
    "    max_Days=28    \n",
    "if Month<1 or Month>12:\n",
    "    print(\"Invalid Input\")\n",
    "elif Day<1 or Day>max_Days:\n",
    "    print(\"Invalid Input\")\n",
    "else:\n",
    "    print(\"Enter Input is Valid\")"
   ]
  },
  {
   "cell_type": "code",
   "execution_count": null,
   "id": "9e1d5949-3275-4075-9d28-6d29474b1595",
   "metadata": {},
   "outputs": [],
   "source": [
    "X=int(input(\"Enter the number => \"))\n",
    "if X%3==0 and X%5==0 :\n",
    "    print(\" Hi \" \" Hi \" \" Hi \")\n",
    "elif X%5==0:\n",
    "    print(\"Hi \" \" Hi\")\n",
    "elif X%3==0:\n",
    "    print(\"Hi\")\n",
    "else:\n",
    "    print(\"Hello\")\n"
   ]
  },
  {
   "cell_type": "code",
   "execution_count": null,
   "id": "bcf2afa1-946a-4db3-9e3c-02eb613c91f2",
   "metadata": {},
   "outputs": [],
   "source": [
    "# To chech weather the give input is vowel or consonant \n",
    "\n",
    "Char = input('Enter the character =>')\n",
    "if Char=='a' or Char=='e' or Char=='i' or Char=='o' or Char=='u' or Char=='A' or Char=='E' or Char=='I' or Char=='O' or Char=='U':\n",
    "    print(\"Enter Character is Vowel\")\n",
    "else:\n",
    "    print(\"Enter Character is consonant\")"
   ]
  },
  {
   "cell_type": "code",
   "execution_count": null,
   "id": "56d0c6d0-16ca-45e8-a880-738a27810c6a",
   "metadata": {},
   "outputs": [],
   "source": [
    "#Check the largest number among the given number.\n",
    "\n",
    "val1 = int(input(\"Enter the Number1 =>\"))\n",
    "val3 = int(input(\"Enter the Number2 =>\"))\n",
    "val2 = int(input(\"Enter the Number3 =>\"))\n",
    "if (val1>=val2) and (val1>=val3):\n",
    "    largest = val1\n",
    "elif (val2>=val1) and (val2>=val3):    \n",
    "    largest = val2\n",
    "else:\n",
    "    largest = val3\n",
    "print(\"largest number is =>\",largest)"
   ]
  },
  {
   "cell_type": "code",
   "execution_count": null,
   "id": "a9f4d77a-d972-4592-a3e1-8028bd741ab7",
   "metadata": {},
   "outputs": [],
   "source": [
    "for i in range (1,11):\n",
    "    if i==5:\n",
    "        continue \n",
    "    print(i)\n",
    "else:\n",
    "    print(\"else block is running\")\n",
    "print(\"after loop statement\")"
   ]
  },
  {
   "cell_type": "code",
   "execution_count": null,
   "id": "80a93b18-467f-42d5-a269-05311e960f88",
   "metadata": {},
   "outputs": [],
   "source": [
    "i = 1\n",
    "while i<=5:\n",
    "    print(i)\n",
    "    i=i+1\n",
    "print(\"after loop statement\")"
   ]
  },
  {
   "cell_type": "code",
   "execution_count": null,
   "id": "eee2f0da-07b5-47a6-8c9c-3ba8e919b1c7",
   "metadata": {},
   "outputs": [],
   "source": [
    "n= 5 \n",
    "i = 1\n",
    "while i<=10:\n",
    "    print(i*n)\n",
    "    i=i+1\n",
    "print(\"after loop statement\")"
   ]
  },
  {
   "cell_type": "code",
   "execution_count": null,
   "id": "5bccf6f4-bb37-492f-9396-b95788250277",
   "metadata": {},
   "outputs": [],
   "source": [
    "num = int(input(\"Enter the number =>\"))\n",
    "s = 0\n",
    "if num%2==0:\n",
    "    print(\"num is diviisible by 2\")\n",
    "    while num>0:\n",
    "       r=num%10\n",
    "       s=s+r\n",
    "       num=num//10\n",
    "    print(\"sum of even number is =>\",s)\n",
    "else :\n",
    "    print('not divisible by 2')\n"
   ]
  },
  {
   "cell_type": "code",
   "execution_count": null,
   "id": "3dbd1e52-732b-4d89-9fb4-dc482af434c1",
   "metadata": {},
   "outputs": [],
   "source": [
    "num = int(input(\"Enter the number =>\"))\n",
    "s = 0\n",
    "if num%3==0:\n",
    "    print(\"num is diviisible by 3\")\n",
    "    while num>0:\n",
    "       r=num%10\n",
    "       s=s+r\n",
    "       num=num//10\n",
    "    print(\"sum of odd number is =>\",s)\n",
    "else :\n",
    "    print('not divisible by 3')"
   ]
  },
  {
   "cell_type": "code",
   "execution_count": null,
   "id": "77030265-cb1c-4e1e-8e70-c2fdbb349537",
   "metadata": {},
   "outputs": [],
   "source": [
    "num1 = int(input(\"Enter the number_1 =>\"))\n",
    "num2 = int(input(\"Enter the number_2 =>\"))\n",
    "while num1>0:\n",
    "    if num1>num2:\n",
    "        print('biggest',num1)\n",
    "        break\n",
    "else :\n",
    "    print('lowest',num1)"
   ]
  },
  {
   "cell_type": "code",
   "execution_count": null,
   "id": "ad3e642f-e258-48b2-a0b5-b82c702d47c6",
   "metadata": {},
   "outputs": [],
   "source": [
    "a={}\n",
    "print(a)\n",
    "print(type(a))\n",
    "a = dict()\n",
    "print(a)\n",
    "print(type(a))\n"
   ]
  },
  {
   "cell_type": "code",
   "execution_count": null,
   "id": "db3dddb2-0a11-4112-9d66-b180cd75dbf4",
   "metadata": {},
   "outputs": [],
   "source": [
    "k=['name','email','address']\n",
    "a = {'roll':29,'name':'Shubham','address':'Palasiya'} \n",
    "b = {}\n",
    "#a.clear()\n",
    "print(a)\n",
    "print(a['roll'])\n",
    "b=b.fromkeys(k,'novalve')\n",
    "b=a.copy()\n",
    "print(b)\n",
    "print(a.get('name'))\n",
    "print(a.items())\n",
    "print(a.keys())\n",
    "print(a.values())\n",
    "print(a.pop('roll'))\n",
    "print(a.popitem())\n",
    "print(a)"
   ]
  },
  {
   "cell_type": "code",
   "execution_count": null,
   "id": "36de4d84-5c3a-4d6e-99b9-581be0df61d5",
   "metadata": {},
   "outputs": [],
   "source": [
    "a = dict(brand = 'Ford', model = 'Audi', year = '2020')\n",
    "print(a)\n",
    "print(a['model'])\n",
    "print(a.get('year'))\n",
    "print(a.keys())\n"
   ]
  },
  {
   "cell_type": "code",
   "execution_count": null,
   "id": "3a0d3d7a-cd0a-4056-b803-98483b236fa7",
   "metadata": {},
   "outputs": [],
   "source": [
    "# que. 3\n",
    "\n",
    "a={'roll':101,'name':'ajay'}\n",
    "b={'hno':14,'street':'A B road','City':'Indore'}\n",
    "#c={}\n",
    "a.update(b)\n",
    "print(a)"
   ]
  },
  {
   "cell_type": "code",
   "execution_count": null,
   "id": "c790e01e-52f6-4efd-9a9f-5f8a4fce16ed",
   "metadata": {},
   "outputs": [],
   "source": [
    "# ques 5\n",
    "a={4,5,6,7}\n",
    "b={5,6,7,8}\n",
    "c=a.intersection(b)\n",
    "print(c)"
   ]
  },
  {
   "cell_type": "code",
   "execution_count": null,
   "id": "2f384f24-e94e-4b66-9517-66906d206269",
   "metadata": {},
   "outputs": [],
   "source": [
    "# ques. 4\n",
    "a={4,5,6,7}\n",
    "f=1\n",
    "for i in range a:\n"
   ]
  },
  {
   "cell_type": "code",
   "execution_count": null,
   "id": "6ddef468-ec8a-4264-b3df-742e1bb9651d",
   "metadata": {},
   "outputs": [],
   "source": [
    "x=104\n",
    "y=-104\n",
    "print(\"x>>9=\",x>>3)\n",
    "print(\"y>>9=\",y>>3)"
   ]
  },
  {
   "cell_type": "code",
   "execution_count": null,
   "id": "b5a158c8-097e-4b43-a1e6-6b4f28217cf0",
   "metadata": {},
   "outputs": [],
   "source": [
    "a=int(input(\"Enter the first number =>\"))\n",
    "b=int(input(\"Enter the second number =>\"))\n",
    "c = input(\"Choose the Operator you want to perform =>\")\n",
    "if c == '+':\n",
    "    print(\"YOur sum is =>\",a+b)\n",
    "elif c=='-':\n",
    "    print(\"Your sum is =>\",a-b)\n",
    "elif c=='*':\n",
    "    print(\"Your multiplication is =>\",a*b)\n",
    "elif c=='/':\n",
    "    print(\"Your division is =>\",a/b)\n",
    "elif c=='//':\n",
    "    print(\"Your division is =>\",a//b)\n",
    "elif c=='**':\n",
    "    print(\"Your power is =>\",a**b)\n",
    "elif c=='%':\n",
    "    print(\"Your reminder is =>\",a%b)\n",
    "else :\n",
    "    print(\"invalid input\")"
   ]
  },
  {
   "cell_type": "code",
   "execution_count": null,
   "id": "6e249ad3-6827-4f05-8f98-86aeaeac712e",
   "metadata": {},
   "outputs": [],
   "source": [
    "for i in range(5):\n",
    "    print(i+2)"
   ]
  },
  {
   "cell_type": "markdown",
   "id": "1896348f-68c3-4759-90c9-97f28d3ada04",
   "metadata": {},
   "source": [
    "#### n =int(input('enter the value'))\n",
    "my_list=[[int(input()) for i in range(1,1+n) ]]"
   ]
  },
  {
   "cell_type": "code",
   "execution_count": null,
   "id": "65db133a-4e88-4f4e-a16c-169ae47d4ba9",
   "metadata": {},
   "outputs": [],
   "source": []
  },
  {
   "cell_type": "code",
   "execution_count": null,
   "id": "c5ad2890-4631-42db-a2c5-61fc38bcd19b",
   "metadata": {},
   "outputs": [],
   "source": [
    "n=int(input('Enter the value'))\n",
    "even=[]\n",
    "list=[even.append(i) for i in range(1,n+1) if i%2==0]\n",
    "print(list)"
   ]
  },
  {
   "cell_type": "code",
   "execution_count": null,
   "id": "dc3c89f6-2fea-485b-b767-7952c179d438",
   "metadata": {},
   "outputs": [],
   "source": [
    "sal=[200,400,100,60,80,1000,600]\n",
    "min(sal)\n",
    "if"
   ]
  },
  {
   "cell_type": "code",
   "execution_count": null,
   "id": "b143f245-69eb-476a-8fb8-af0ab9de17c3",
   "metadata": {},
   "outputs": [],
   "source": [
    "n1=int(input(\"Enter the start number =>\"))\n",
    "n2=int(input(\"Enter the end number =>\"))\n",
    "ne=0\n",
    "ns=0\n",
    "for i in range(n1,n2+1):\n",
    "    if i%2==0:\n",
    "        ne=ne+i\n",
    "    else:\n",
    "        ns=ns+i\n",
    "print(ne)\n",
    "print(ns)"
   ]
  },
  {
   "cell_type": "code",
   "execution_count": null,
   "id": "86a48bc5-cdf6-4634-9bf0-74a3e229a394",
   "metadata": {},
   "outputs": [],
   "source": [
    "n1=int(input(\"Enter the number =>\"))\n",
    "for i in range(n1,n1*10,n1):\n",
    "    print(i)"
   ]
  },
  {
   "cell_type": "code",
   "execution_count": null,
   "id": "e23a6ffa-6b78-4b07-8cb6-08e9e95c06be",
   "metadata": {},
   "outputs": [],
   "source": [
    "a=int(input(\"Enter any number =>\"))\n",
    "for i in range(1,11):\n",
    "    print(i*a)\n",
    "    i=i+1\n",
    "    "
   ]
  },
  {
   "cell_type": "code",
   "execution_count": null,
   "id": "2651cd9d-6fb5-4299-81d4-c05b7618f8f1",
   "metadata": {},
   "outputs": [],
   "source": [
    "i=0\n",
    "while i<7:\n",
    "    print(i)\n",
    "    if i==5:\n",
    "        print('line break here')\n",
    "        break\n",
    "    i=i+1"
   ]
  },
  {
   "cell_type": "code",
   "execution_count": null,
   "id": "5d2681dc-a0dd-4767-9d44-d586ba73cdd7",
   "metadata": {},
   "outputs": [],
   "source": [
    "i=1\n",
    "while i<=0:\n",
    "    print(i)\n",
    "    i=i+1\n",
    "else:\n",
    "    print('else block is running')"
   ]
  },
  {
   "cell_type": "code",
   "execution_count": null,
   "id": "ca90fbf5-bb54-45ef-824a-36aff7588132",
   "metadata": {},
   "outputs": [],
   "source": [
    "for i in range(0,10):\n",
    "    if i==3:\n",
    "        break\n",
    "    print(i)"
   ]
  },
  {
   "cell_type": "code",
   "execution_count": null,
   "id": "4e4912c3-9769-4381-b53d-e433ab45b193",
   "metadata": {},
   "outputs": [],
   "source": [
    "for i in range(1,11):\n",
    "    if i>8:\n",
    "        break\n",
    "    print(i)"
   ]
  },
  {
   "cell_type": "code",
   "execution_count": null,
   "id": "8658de99-db0a-4eb7-a16a-2a541101258f",
   "metadata": {},
   "outputs": [],
   "source": [
    "i=0\n",
    "while i<=10:\n",
    "    i=i+1\n",
    "    if i==5:\n",
    "        continue\n",
    "    print(i)"
   ]
  },
  {
   "cell_type": "code",
   "execution_count": 6,
   "id": "2df01a73-df21-4449-9d57-0180bfb443f4",
   "metadata": {},
   "outputs": [
    {
     "name": "stdin",
     "output_type": "stream",
     "text": [
      "Enter any number => 81\n"
     ]
    },
    {
     "name": "stdout",
     "output_type": "stream",
     "text": [
      "num is prime 81\n",
      "num is not prime 81\n"
     ]
    }
   ],
   "source": [
    "num=int(input(\"Enter any number =>\"))\n",
    "if num==0 or num==1:\n",
    "    print(\"num is not prime\",num)\n",
    "else:\n",
    "    for i in range(2,num):\n",
    "        if num%i==0:\n",
    "            print(\"num is not prime\",num)\n",
    "            break\n",
    "        else:\n",
    "            print(\"num is prime\",num)"
   ]
  },
  {
   "cell_type": "code",
   "execution_count": 8,
   "id": "84f40f4e-30b4-4200-b1c5-baa77cabb32b",
   "metadata": {},
   "outputs": [
    {
     "name": "stdin",
     "output_type": "stream",
     "text": [
      "Enter the number 6\n"
     ]
    },
    {
     "ename": "TypeError",
     "evalue": "'int' object is not iterable",
     "output_type": "error",
     "traceback": [
      "\u001b[1;31m---------------------------------------------------------------------------\u001b[0m",
      "\u001b[1;31mTypeError\u001b[0m                                 Traceback (most recent call last)",
      "Cell \u001b[1;32mIn[8], line 2\u001b[0m\n\u001b[0;32m      1\u001b[0m n \u001b[38;5;241m=\u001b[39m \u001b[38;5;28mint\u001b[39m(\u001b[38;5;28minput\u001b[39m(\u001b[38;5;124m\"\u001b[39m\u001b[38;5;124mEnter the number\u001b[39m\u001b[38;5;124m\"\u001b[39m))\n\u001b[1;32m----> 2\u001b[0m \u001b[38;5;28;01mfor\u001b[39;00m i \u001b[38;5;129;01min\u001b[39;00m n:\n\u001b[0;32m      3\u001b[0m     \u001b[38;5;28mprint\u001b[39m(i)\n\u001b[0;32m      4\u001b[0m     i\u001b[38;5;241m=\u001b[39mi\u001b[38;5;241m+\u001b[39m\u001b[38;5;241m1\u001b[39m\n",
      "\u001b[1;31mTypeError\u001b[0m: 'int' object is not iterable"
     ]
    }
   ],
   "source": [
    "n = int(input(\"Enter the number\"))\n",
    "for i in n:\n",
    "    print(i)\n",
    "    i=i+1"
   ]
  },
  {
   "cell_type": "code",
   "execution_count": 11,
   "id": "8385d788-ba7b-46cf-a9ac-55e2372e24c7",
   "metadata": {},
   "outputs": [
    {
     "name": "stdin",
     "output_type": "stream",
     "text": [
      "Enter the amount => 90000\n"
     ]
    },
    {
     "name": "stdout",
     "output_type": "stream",
     "text": [
      "25% of your amount is => 22500.0\n",
      "Your amount is => 42500.0\n"
     ]
    }
   ],
   "source": [
    "original_amount=20000\n",
    "a=int(input(\"Enter the amount =>\"))\n",
    "b=a*25/100\n",
    "if b>=original_amount:\n",
    "    c=b+original_amount\n",
    "    print(\"25% of your amount is =>\",b)\n",
    "    print('Your amount is =>',c)\n",
    "elif b<=original_amount :\n",
    "    print(\"Your rate of % is less than original_amount =>\",original_amount)\n",
    "    print(\"Contact to the manager\")"
   ]
  },
  {
   "cell_type": "code",
   "execution_count": 14,
   "id": "44265aa5-8fa3-4530-bfb2-aa79604f7455",
   "metadata": {},
   "outputs": [
    {
     "data": {
      "text/plain": [
       "set()"
      ]
     },
     "execution_count": 14,
     "metadata": {},
     "output_type": "execute_result"
    }
   ],
   "source": [
    "set()"
   ]
  },
  {
   "cell_type": "code",
   "execution_count": null,
   "id": "3fa28b41-039a-4450-8bf9-84fa65561490",
   "metadata": {},
   "outputs": [],
   "source": [
    "from collections import defaultdict\n",
    "\n",
    "#In this case, we have passed int as the datatype to the defaultdict. \n",
    "\n",
    "#Hence, any key that does not exist in defaultdict_demo will be assigned a value of 0, unless a value is defined for it.\n",
    "\n",
    "defaultdict_demo = defaultdict(int)\n",
    "\n",
    "defaultdict_demo[1]=101\n",
    "\n",
    "defaultdict_demo[2]=11\n",
    "\n",
    "print(defaultdict_demo)\n",
    "\n",
    "print(defaultdict_demo[2])\n",
    "\n",
    "#print(defaultdict_demo)\n",
    "\n",
    "print(defaultdict_demo[3])\n",
    "\n",
    "#print(defaultdict_demo)"
   ]
  },
  {
   "cell_type": "code",
   "execution_count": null,
   "id": "2ec5962e-81d7-4190-9419-9048b18c23af",
   "metadata": {},
   "outputs": [],
   "source": [
    "from collections import defaultdict\n",
    "\n",
    " \n",
    "\n",
    "defaultdict_demo = defaultdict(set)\n",
    "\n",
    " \n",
    "\n",
    "defaultdict_demo['one'].add(1)\n",
    "\n",
    "defaultdict_demo['two'].add(2)\n",
    "\n",
    "defaultdict_demo['one'].add('1')\n",
    "\n",
    "#defaultdict_demo['three']\n",
    "\n",
    "print(defaultdict_demo)\n",
    "\n",
    "print(defaultdict_demo['three'])\n",
    "\n",
    "print(defaultdict_demo)\n",
    "\n",
    "defaultdict_demo['three'].add(11)\n",
    "\n",
    "print(defaultdict_demo)"
   ]
  },
  {
   "cell_type": "code",
   "execution_count": null,
   "id": "f1f704bd-7c9c-47d9-9744-2af14f05c504",
   "metadata": {},
   "outputs": [],
   "source": [
    "dep = [('Sales', 'John Doe'),\n",
    "\n",
    "       ('Sales', 'Martin Smith'),\n",
    "\n",
    "       ('Accounting', 'Jane Doe'),\n",
    "\n",
    "       ('Marketing', 'Elizabeth Smith'),\n",
    "\n",
    "       ('Marketing', 'Adam Doe')]\n",
    "\n",
    "from collections import defaultdict\n",
    "\n",
    " \n",
    "\n",
    "dep_dd = defaultdict(list)\n",
    "\n",
    "for department, employee in dep:\n",
    "\n",
    "    dep_dd[department].append(employee)\n",
    "\n",
    "print(dep_dd)"
   ]
  },
  {
   "cell_type": "code",
   "execution_count": null,
   "id": "ef472893-36a7-4b3b-b19a-63df4e662c3e",
   "metadata": {},
   "outputs": [],
   "source": [
    "dep_d = dict()\n",
    "\n",
    "for department, employee in dep:\n",
    "\n",
    "    dep_d.setdefault(department, []).append(employee)\n",
    "\n",
    "print(dep_d)"
   ]
  },
  {
   "cell_type": "code",
   "execution_count": 1,
   "id": "acbc50a0-0191-4441-bf8c-ad26a40df7bf",
   "metadata": {},
   "outputs": [
    {
     "data": {
      "text/plain": [
       "3"
      ]
     },
     "execution_count": 1,
     "metadata": {},
     "output_type": "execute_result"
    }
   ],
   "source": [
    "l=[1,2,3,4,1,2,3,56,2,1,10,11,56]\n",
    "l.count(1)"
   ]
  },
  {
   "cell_type": "code",
   "execution_count": 3,
   "id": "e82d86d9-99fb-40f7-a2f4-2530310f1e22",
   "metadata": {},
   "outputs": [
    {
     "ename": "TypeError",
     "evalue": "list.count() takes exactly one argument (0 given)",
     "output_type": "error",
     "traceback": [
      "\u001b[1;31m---------------------------------------------------------------------------\u001b[0m",
      "\u001b[1;31mTypeError\u001b[0m                                 Traceback (most recent call last)",
      "Cell \u001b[1;32mIn[3], line 3\u001b[0m\n\u001b[0;32m      1\u001b[0m l\u001b[38;5;241m=\u001b[39m[\u001b[38;5;241m1\u001b[39m,\u001b[38;5;241m2\u001b[39m,\u001b[38;5;241m3\u001b[39m,\u001b[38;5;241m4\u001b[39m,\u001b[38;5;241m1\u001b[39m,\u001b[38;5;241m2\u001b[39m,\u001b[38;5;241m3\u001b[39m,\u001b[38;5;241m56\u001b[39m,\u001b[38;5;241m2\u001b[39m,\u001b[38;5;241m1\u001b[39m,\u001b[38;5;241m10\u001b[39m,\u001b[38;5;241m11\u001b[39m,\u001b[38;5;241m56\u001b[39m]\n\u001b[0;32m      2\u001b[0m \u001b[38;5;28;01mfor\u001b[39;00m i \u001b[38;5;129;01min\u001b[39;00m l:\n\u001b[1;32m----> 3\u001b[0m     \u001b[43ml\u001b[49m\u001b[38;5;241;43m.\u001b[39;49m\u001b[43mcount\u001b[49m\u001b[43m(\u001b[49m\u001b[43m)\u001b[49m\n\u001b[0;32m      4\u001b[0m     \u001b[38;5;28mprint\u001b[39m(i)\n",
      "\u001b[1;31mTypeError\u001b[0m: list.count() takes exactly one argument (0 given)"
     ]
    }
   ],
   "source": [
    "l=[1,2,3,4,1,2,3,56,2,1,10,11,56]\n"
   ]
  },
  {
   "cell_type": "code",
   "execution_count": 7,
   "id": "e752e747-264c-4fff-99e7-671c3142294b",
   "metadata": {},
   "outputs": [
    {
     "name": "stdin",
     "output_type": "stream",
     "text": [
      "Enter your marks 45\n"
     ]
    },
    {
     "name": "stdout",
     "output_type": "stream",
     "text": [
      "Grade C\n"
     ]
    }
   ],
   "source": [
    "marks=int(input(\"Enter your marks\"))\n",
    "if marks>90 and marks<100:\n",
    "    print(\"Grade A+\")\n",
    "elif marks>80 and marks<=90:\n",
    "    print(\"Grade A\")\n",
    "elif marks>70 and marks<=80:\n",
    "    print(\"Grade B+\")\n",
    "elif marks>60 and marks<=70:\n",
    "    print(\"Grade B\")\n",
    "elif marks>50 and marks<=60:\n",
    "    print(\"Grade C+\")\n",
    "elif marks>40 and marks<=50:\n",
    "    print(\"Grade C\")\n",
    "else :\n",
    "    print(\"Fail\")"
   ]
  },
  {
   "cell_type": "code",
   "execution_count": 8,
   "id": "27bf01d3-ebec-46e8-a3a6-047f5508ee72",
   "metadata": {},
   "outputs": [
    {
     "name": "stdin",
     "output_type": "stream",
     "text": [
      "enter your value => 5555\n"
     ]
    },
    {
     "name": "stdout",
     "output_type": "stream",
     "text": [
      "55\n",
      "55\n"
     ]
    }
   ],
   "source": [
    "a=int(input(\"enter your value =>\"))\n"
   ]
  },
  {
   "cell_type": "code",
   "execution_count": 19,
   "id": "42df35f7-bcc0-4d18-b83a-6a405fcd9758",
   "metadata": {},
   "outputs": [
    {
     "name": "stdout",
     "output_type": "stream",
     "text": [
      "[[3, 4], [5, 7], [5, 7], [1, 2], [3, 4], [5, 7], [1, 2]]\n"
     ]
    }
   ],
   "source": [
    "a=[[1,2],[3,4],[5,6]]\n",
    "b=[[3,4],[5,7],[1,2]]\n",
    "c=[]\n",
    "#d=[]\n",
    "for i in a:\n",
    "    for j in b:\n",
    "        if i!=j:\n",
    "            c.append(j)\n",
    "            #d.append(j)\n",
    "            \n",
    "print(c)\n",
    "#print(d)"
   ]
  },
  {
   "cell_type": "code",
   "execution_count": 42,
   "id": "37eae61a-d26b-44ce-a965-d16fc29908ff",
   "metadata": {},
   "outputs": [
    {
     "name": "stdin",
     "output_type": "stream",
     "text": [
      "Enter the input=> 3\n"
     ]
    },
    {
     "name": "stdout",
     "output_type": "stream",
     "text": [
      "enter 3 elements\n"
     ]
    },
    {
     "name": "stdin",
     "output_type": "stream",
     "text": [
      " 1\n",
      " 2\n",
      " 1\n"
     ]
    },
    {
     "name": "stdout",
     "output_type": "stream",
     "text": [
      "[1, 2, 1] is palindrone\n"
     ]
    }
   ],
   "source": [
    "a=[]\n",
    "s=int(input(\"Enter the input=>\"))\n",
    "print('enter',s,'elements')\n",
    "for i in range(1,s+1):\n",
    "    t=int(input())\n",
    "    a.append(t)\n",
    "b=[]\n",
    "b=a.copy()\n",
    "b.reverse ()\n",
    "\n",
    "if a==b:\n",
    "    print(a,'is palindrone')\n",
    "else:\n",
    "    print(a,'not palindrone')"
   ]
  },
  {
   "cell_type": "code",
   "execution_count": 33,
   "id": "e20b8ee3-26e8-410d-b66d-3184c076ef07",
   "metadata": {},
   "outputs": [
    {
     "name": "stdout",
     "output_type": "stream",
     "text": [
      "[10, 20, 10]\n",
      "[10, 20, 10] is palin\n"
     ]
    }
   ],
   "source": [
    "a=[10,20,10]\n",
    "t=a\n",
    "b=[]\n",
    "for i in a:\n",
    "    b.append(i)\n",
    "print(b)\n",
    "if(t==b):\n",
    "    print(t,'is palin')\n",
    "else:\n",
    "    print('Not')"
   ]
  },
  {
   "cell_type": "code",
   "execution_count": 48,
   "id": "85aa0bd0-ba55-43dd-9a62-fee4a675f0a6",
   "metadata": {},
   "outputs": [
    {
     "name": "stdout",
     "output_type": "stream",
     "text": [
      "yyyyrpaba\n",
      "['a', 'a', 'b', 'a', 'a', 'p', 'r', 'y', 'y', 'y', 'y', 'y', 'y', 'y', 'y', 'y', 'y', 'y', 'y', 'y', 'y', 'y', 'y']\n"
     ]
    }
   ],
   "source": [
    "p='abapryyyy'\n",
    "s=\"\"\n",
    "c=[]\n",
    "for i in p:\n",
    "    s = i + s\n",
    "print(s)\n",
    "for j in p:\n",
    "    for k in s:\n",
    "        if j==k:\n",
    "            c.append(k)\n",
    "print(c)\n",
    "    "
   ]
  },
  {
   "cell_type": "code",
   "execution_count": null,
   "id": "62e1dcd3-2006-418c-a0e5-e29a3868e9fe",
   "metadata": {},
   "outputs": [],
   "source": [
    "a=[1,2,3]\n",
    "\n",
    "output =\"3,2,1\" "
   ]
  },
  {
   "cell_type": "code",
   "execution_count": 49,
   "id": "f06e55fa-e05a-4890-9192-9fb4efe0a9d1",
   "metadata": {},
   "outputs": [
    {
     "name": "stdout",
     "output_type": "stream",
     "text": [
      "1,2,3\n"
     ]
    }
   ],
   "source": [
    "a = [1, 2, 3]\n",
    "output = \",\".join(map(str, a))\n",
    "print(output)\n"
   ]
  }
 ],
 "metadata": {
  "kernelspec": {
   "display_name": "Python 3 (ipykernel)",
   "language": "python",
   "name": "python3"
  },
  "language_info": {
   "codemirror_mode": {
    "name": "ipython",
    "version": 3
   },
   "file_extension": ".py",
   "mimetype": "text/x-python",
   "name": "python",
   "nbconvert_exporter": "python",
   "pygments_lexer": "ipython3",
   "version": "3.11.4"
  }
 },
 "nbformat": 4,
 "nbformat_minor": 5
}
