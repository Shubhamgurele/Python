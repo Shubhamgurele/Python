{
 "cells": [
  {
   "cell_type": "code",
   "execution_count": 1,
   "id": "f1f322e5-1dcc-4ed0-84cb-e26d60d4ac95",
   "metadata": {
    "scrolled": true
   },
   "outputs": [
    {
     "name": "stdout",
     "output_type": "stream",
     "text": [
      "[60, 20, 30, 40, 50, 10]\n"
     ]
    }
   ],
   "source": [
    "a=[10,20,30,40,50,60]\n",
    "a[0],a[-1]=a[-1],a[0]\n",
    "print(a)\n",
    "     "
   ]
  },
  {
   "cell_type": "code",
   "execution_count": 11,
   "id": "51622c75-5f07-4f36-848e-c8b1d6cffb05",
   "metadata": {},
   "outputs": [
    {
     "name": "stdout",
     "output_type": "stream",
     "text": [
      "[10, 20, 40, 30, 50]\n"
     ]
    }
   ],
   "source": [
    "a=[10,20,30,40,50]\n",
    "a[2],a[3]=a[-2],a[-3]\n",
    "print(a)"
   ]
  },
  {
   "cell_type": "code",
   "execution_count": 26,
   "id": "c51306f7-771c-4117-acab-fb20eeacdc49",
   "metadata": {},
   "outputs": [
    {
     "name": "stdout",
     "output_type": "stream",
     "text": [
      "24\n"
     ]
    }
   ],
   "source": [
    "a=[1,2,3,45,24]\n",
    "a.sort()\n",
    "#maximum = max(a)\n",
    "print(a[-2])"
   ]
  },
  {
   "cell_type": "code",
   "execution_count": 28,
   "id": "fc943ced-f38d-4fa8-b150-6e900eec6e06",
   "metadata": {},
   "outputs": [
    {
     "name": "stdout",
     "output_type": "stream",
     "text": [
      "1\n"
     ]
    }
   ],
   "source": [
    "a=[1,2,3,45,24]\n",
    "a.sort()\n",
    "\n",
    "print(a[0])"
   ]
  },
  {
   "cell_type": "code",
   "execution_count": null,
   "id": "64aecca2-36b4-4156-8954-4b8558e83cd6",
   "metadata": {},
   "outputs": [],
   "source": []
  },
  {
   "cell_type": "code",
   "execution_count": 46,
   "id": "3044da29-61b9-4260-b569-c94543d2d1d3",
   "metadata": {},
   "outputs": [
    {
     "name": "stdout",
     "output_type": "stream",
     "text": [
      "nhi hain\n"
     ]
    }
   ],
   "source": [
    "a=[1,2,45,24]\n",
    "for i in a:\n",
    "    if i==3:\n",
    "        print('hain isme')\n",
    "        break\n",
    "else:\n",
    "    print('nhi hain')"
   ]
  },
  {
   "cell_type": "code",
   "execution_count": 47,
   "id": "7185f876-90e9-4bfb-a518-a5571dea7945",
   "metadata": {},
   "outputs": [],
   "source": [
    "a.clear()"
   ]
  },
  {
   "cell_type": "code",
   "execution_count": 48,
   "id": "f6e35455-a79c-4ed1-9475-80804853e502",
   "metadata": {},
   "outputs": [
    {
     "data": {
      "text/plain": [
       "[]"
      ]
     },
     "execution_count": 48,
     "metadata": {},
     "output_type": "execute_result"
    }
   ],
   "source": [
    "a\n"
   ]
  },
  {
   "cell_type": "code",
   "execution_count": 52,
   "id": "1f708291-3299-4b8d-9166-0e978ae40f0e",
   "metadata": {},
   "outputs": [
    {
     "name": "stdout",
     "output_type": "stream",
     "text": [
      "[9, 8, 7, 6, 5, 4]\n",
      "[9, 8, 7, 6, 5, 4]\n"
     ]
    }
   ],
   "source": [
    "a=[4,5,6,7,8,9]\n",
    "b=a[::-1]\n",
    "print(b)\n",
    "\n",
    "c=[4,5,6,7,8,9]\n",
    "c.reverse()\n",
    "print(c)"
   ]
  },
  {
   "cell_type": "code",
   "execution_count": 5,
   "id": "97d5e256-2c91-4cca-bef5-3a7f0107b44d",
   "metadata": {},
   "outputs": [
    {
     "name": "stdout",
     "output_type": "stream",
     "text": [
      "[4, 5, 6, 7, 8, 9]\n"
     ]
    }
   ],
   "source": [
    "c=[4,5,6,7,8,9]\n",
    "a=c.copy()\n",
    "print(a)   "
   ]
  },
  {
   "cell_type": "code",
   "execution_count": 9,
   "id": "d56656bc-a743-42c2-96b0-04d802e3dd70",
   "metadata": {},
   "outputs": [
    {
     "name": "stdout",
     "output_type": "stream",
     "text": [
      "[4, 5, 6, 7, 8, 9]\n"
     ]
    }
   ],
   "source": [
    "c=[4,5,6,7,8,9]\n",
    "b=[]\n",
    "for i in c:\n",
    "    b.append(i)\n",
    "print(b)"
   ]
  },
  {
   "cell_type": "code",
   "execution_count": 11,
   "id": "5abd6e8d-9121-4460-b561-588f694d6808",
   "metadata": {},
   "outputs": [
    {
     "name": "stdout",
     "output_type": "stream",
     "text": [
      "3\n",
      "1\n",
      "1\n",
      "3\n",
      "3\n",
      "1\n",
      "1\n",
      "1\n",
      "1\n"
     ]
    }
   ],
   "source": [
    "a=[12,2,3,12,12,10,11,15,20]\n",
    "for i in a:\n",
    "    b=a.count(i)\n",
    "    print(b)"
   ]
  },
  {
   "cell_type": "code",
   "execution_count": 25,
   "id": "4ef63c1d-7a7d-401d-9088-415bdcd10598",
   "metadata": {},
   "outputs": [
    {
     "name": "stdin",
     "output_type": "stream",
     "text": [
      "Enter the number you want to check 12\n"
     ]
    },
    {
     "name": "stdout",
     "output_type": "stream",
     "text": [
      "12 has occured 5 times\n"
     ]
    }
   ],
   "source": [
    "a=[2,12,3,12,12,10,11,15,20,12,12]\n",
    "x=int(input('Enter the number you want to check'))\n",
    "# x=12 \n",
    "count=0\n",
    "for i in a:\n",
    "    if (i==x):\n",
    "        count=count+1\n",
    "print(x,'has occured',count,'times')"
   ]
  },
  {
   "cell_type": "code",
   "execution_count": 35,
   "id": "833d6740-6a79-47fa-87d8-1a2b3124e837",
   "metadata": {},
   "outputs": [
    {
     "name": "stdout",
     "output_type": "stream",
     "text": [
      "total sum is => 46\n",
      "Average is => 5.75\n"
     ]
    }
   ],
   "source": [
    "a=[4, 5, 1, 2, 9, 7, 10, 8]\n",
    "s=0\n",
    "for i in a:\n",
    "    s=s+i\n",
    "    p=s/(len(a))\n",
    "print('total sum is =>',s)\n",
    "print('Average is =>',p)"
   ]
  },
  {
   "cell_type": "code",
   "execution_count": 42,
   "id": "2c1c4761-f8f3-4117-bfc2-b9aada36b264",
   "metadata": {},
   "outputs": [
    {
     "name": "stdin",
     "output_type": "stream",
     "text": [
      "Enter the input=> 3\n"
     ]
    },
    {
     "name": "stdout",
     "output_type": "stream",
     "text": [
      "enter 3 elements\n"
     ]
    },
    {
     "name": "stdin",
     "output_type": "stream",
     "text": [
      " 1\n",
      " 2\n",
      " 3\n"
     ]
    },
    {
     "name": "stdout",
     "output_type": "stream",
     "text": [
      "total sum is => 6\n",
      "Average is => 2.0\n"
     ]
    }
   ],
   "source": [
    "a=[]\n",
    "s=int(input(\"Enter the input=>\"))\n",
    "print('enter',s,'elements')\n",
    "q=0\n",
    "for i in range(1,s+1):\n",
    "    t=int(input())\n",
    "    a.append(t)\n",
    "for j in a :\n",
    "    q=q+j\n",
    "    p=q/len(a)\n",
    "print('total sum is =>',q)\n",
    "print('Average is =>',p)"
   ]
  },
  {
   "cell_type": "code",
   "execution_count": 19,
   "id": "49fb387c-2f1d-463b-9958-46324496faaf",
   "metadata": {
    "scrolled": true
   },
   "outputs": [
    {
     "name": "stdout",
     "output_type": "stream",
     "text": [
      "[3, 6, 9, 7, 5, 10, 8]\n"
     ]
    }
   ],
   "source": [
    "a=[12,42,45,16,50,55,62]\n",
    "f=[]\n",
    "for i in a:\n",
    "    c=i%10\n",
    "    d=i//10\n",
    "    e=c+d\n",
    "    f.append(e)\n",
    "print(f)"
   ]
  },
  {
   "cell_type": "code",
   "execution_count": 26,
   "id": "c438d7c9-7b86-4bbb-83ec-c73333d15d00",
   "metadata": {},
   "outputs": [
    {
     "name": "stdout",
     "output_type": "stream",
     "text": [
      "120\n"
     ]
    }
   ],
   "source": [
    "l=[1, 2, 3,4,5] \n",
    "m=1\n",
    "b=[]\n",
    "for i in l:\n",
    "    m=m*i\n",
    "print(m)"
   ]
  },
  {
   "cell_type": "code",
   "execution_count": 32,
   "id": "e98a9d4e-3054-45ee-93de-fdd49c214210",
   "metadata": {},
   "outputs": [
    {
     "name": "stdout",
     "output_type": "stream",
     "text": [
      "[4, 10, 20] 10\n"
     ]
    }
   ],
   "source": [
    "l1=[10, 20, 4]\n",
    "l1.sort()\n",
    "print(l1,l1[-2])\n"
   ]
  },
  {
   "cell_type": "code",
   "execution_count": 35,
   "id": "7907ab11-c7fa-4262-98be-63c28274dfef",
   "metadata": {},
   "outputs": [
    {
     "name": "stdout",
     "output_type": "stream",
     "text": [
      "2\n",
      "64\n",
      "14\n",
      "20\n",
      "12\n",
      "18\n",
      "22\n"
     ]
    }
   ],
   "source": [
    "l2=[2, 7, 5, 64, 14,20,65,12,18,22]\n",
    "for i in l2:\n",
    "    if i%2==0:\n",
    "        print(i)"
   ]
  },
  {
   "cell_type": "code",
   "execution_count": 36,
   "id": "21cd66d0-2833-4dea-b73f-53650f6f152e",
   "metadata": {},
   "outputs": [
    {
     "name": "stdout",
     "output_type": "stream",
     "text": [
      "7\n",
      "5\n",
      "65\n"
     ]
    }
   ],
   "source": [
    "l2=[2, 7, 5, 64, 14,20,65,12,18,22]\n",
    "for i in l2:\n",
    "    if i%2==1:\n",
    "        print(i)"
   ]
  },
  {
   "cell_type": "code",
   "execution_count": 38,
   "id": "529f13e6-dd7c-4508-9aed-69040929d9bc",
   "metadata": {},
   "outputs": [
    {
     "name": "stdout",
     "output_type": "stream",
     "text": [
      "0\n",
      "2\n",
      "4\n",
      "6\n",
      "8\n",
      "10\n",
      "12\n",
      "14\n"
     ]
    }
   ],
   "source": [
    "for i in range(0,15,2):\n",
    "    print(i)"
   ]
  },
  {
   "cell_type": "code",
   "execution_count": 44,
   "id": "c51c6a93-f9ba-4d03-a72f-bf90e930942f",
   "metadata": {},
   "outputs": [
    {
     "name": "stdout",
     "output_type": "stream",
     "text": [
      "1\n",
      "3\n",
      "5\n",
      "7\n",
      "9\n",
      "11\n",
      "13\n"
     ]
    }
   ],
   "source": [
    "for i in range(0,15):\n",
    "    if i%2!=0:\n",
    "        print(i)"
   ]
  },
  {
   "cell_type": "code",
   "execution_count": 49,
   "id": "463c305d-8cb9-43c8-b460-281072c0e1b0",
   "metadata": {},
   "outputs": [
    {
     "name": "stdout",
     "output_type": "stream",
     "text": [
      "3\n",
      "2\n"
     ]
    }
   ],
   "source": [
    "list1 = [2, 7, 5, 64, 14]\n",
    "even=0\n",
    "odd=0\n",
    "for i in list1:\n",
    "    if i%2==0:\n",
    "        even=even+1\n",
    "    elif i%2!=0:\n",
    "        odd=odd+1\n",
    "print(even)\n",
    "print(odd)"
   ]
  },
  {
   "cell_type": "code",
   "execution_count": 52,
   "id": "551f8e41-97a2-42e0-9d12-522c33b4dca6",
   "metadata": {},
   "outputs": [
    {
     "name": "stdout",
     "output_type": "stream",
     "text": [
      "-7\n",
      "-14\n"
     ]
    }
   ],
   "source": [
    "list=[12, -7, 5, 64, -14]\n",
    "for i in list1:\n",
    "    if(i<0):\n",
    "        print(i)"
   ]
  },
  {
   "cell_type": "code",
   "execution_count": 53,
   "id": "2f9153ff-877b-48a4-b6d2-ddee2a3c0e9c",
   "metadata": {},
   "outputs": [
    {
     "name": "stdout",
     "output_type": "stream",
     "text": [
      "12\n",
      "5\n",
      "64\n"
     ]
    }
   ],
   "source": [
    "list=[12, -7, 5, 64, -14]\n",
    "for i in list1:\n",
    "    if(i>0):\n",
    "        print(i)"
   ]
  },
  {
   "cell_type": "code",
   "execution_count": 56,
   "id": "4be2e063-cd6e-4e2e-aaec-d72d5f74050d",
   "metadata": {},
   "outputs": [
    {
     "name": "stdout",
     "output_type": "stream",
     "text": [
      "-4\n",
      "-3\n",
      "-2\n",
      "-1\n"
     ]
    }
   ],
   "source": [
    "for i in range(-4,5):\n",
    "    if i<0:\n",
    "        print(i)"
   ]
  },
  {
   "cell_type": "code",
   "execution_count": 58,
   "id": "43cb3e25-9ac9-4cb0-a159-1a9ff23e6e37",
   "metadata": {},
   "outputs": [
    {
     "name": "stdout",
     "output_type": "stream",
     "text": [
      "3\n",
      "2\n"
     ]
    }
   ],
   "source": [
    "list1 = [2, -7, 5, -64, -14]\n",
    "n=0\n",
    "p=0\n",
    "for i in list1:\n",
    "    if(i<0):\n",
    "        n=n+1\n",
    "    elif(i>0):\n",
    "        p=p+1\n",
    "print(n)\n",
    "print(p)"
   ]
  },
  {
   "cell_type": "code",
   "execution_count": 24,
   "id": "a5975655-ac92-46a3-bec0-c78934a71d52",
   "metadata": {},
   "outputs": [
    {
     "name": "stdin",
     "output_type": "stream",
     "text": [
      "No. of elements you want to remove => 3\n"
     ]
    },
    {
     "name": "stdout",
     "output_type": "stream",
     "text": [
      "enter 3 of elements "
     ]
    },
    {
     "name": "stdin",
     "output_type": "stream",
     "text": [
      " 12\n",
      " 3\n",
      " 20\n"
     ]
    },
    {
     "name": "stdout",
     "output_type": "stream",
     "text": [
      "No you have to remove from list l => [12, 3, 20]\n",
      "[15, 10, 25, 30]\n"
     ]
    }
   ],
   "source": [
    "# Remove multiple elements from the list\n",
    "\n",
    "\n",
    "l=[12, 15, 3, 10, 20, 25, 30]\n",
    "s=[]\n",
    "a=int(input(\"No. of elements you want to remove =>\"))\n",
    "print('enter',a,'of elements')\n",
    "for i in range(1,a+1):\n",
    "    t=int(input())\n",
    "    s.append(t)\n",
    "print('No. you have to remove from list l =>',s)\n",
    "l=[ele for ele in l if ele not in s]\n",
    "print(l)`"
   ]
  },
  {
   "cell_type": "code",
   "execution_count": 58,
   "id": "0de11003-a9a6-494c-8405-7686a5ac55f6",
   "metadata": {},
   "outputs": [
    {
     "name": "stdout",
     "output_type": "stream",
     "text": [
      "[('ram', '15', '8'), ('laxman', 'sita'), ('krishna', 'akbar', '45'), ('', '')]\n"
     ]
    }
   ],
   "source": [
    "a=[(), ('ram','15','8'), (), ('laxman', 'sita'), ('krishna', 'akbar', '45'), ('','') ,()]\n",
    "for i in a:\n",
    "    if i==():\n",
    "        a.remove(i)\n",
    "    # else:\n",
    "    #     print(i,end=(\"\"))\n",
    "print(a)"
   ]
  },
  {
   "cell_type": "code",
   "execution_count": 71,
   "id": "02d28799-4f0f-4ff4-a30c-1af7fa47d916",
   "metadata": {},
   "outputs": [
    {
     "name": "stdout",
     "output_type": "stream",
     "text": [
      "0\n",
      "0\n",
      "0\n",
      "0\n",
      "0\n",
      "0\n",
      "0\n",
      "0\n",
      "0\n",
      "0\n",
      "0\n",
      "0\n",
      "0\n"
     ]
    }
   ],
   "source": [
    "list = [10, 20, 30, 20, 20, 30, 40, 50, -20, 60, 60, -20, -20]\n",
    "b=[]\n",
    "for i in list:\n",
    "    if i==list:\n",
    "        b.append(list)\n",
    "        c=c+1\n",
    "    else:\n",
    "        print(c)\n"
   ]
  },
  {
   "cell_type": "code",
   "execution_count": 79,
   "id": "ced622f9-1984-44a8-bca5-7956903f15c2",
   "metadata": {},
   "outputs": [
    {
     "ename": "TypeError",
     "evalue": "'list' object is not callable",
     "output_type": "error",
     "traceback": [
      "\u001b[1;31m---------------------------------------------------------------------------\u001b[0m",
      "\u001b[1;31mTypeError\u001b[0m                                 Traceback (most recent call last)",
      "Cell \u001b[1;32mIn[79], line 10\u001b[0m\n\u001b[0;32m      8\u001b[0m         c\u001b[38;5;241m.\u001b[39mappend(i)\n\u001b[0;32m      9\u001b[0m c\u001b[38;5;241m=\u001b[39m\u001b[38;5;28mset\u001b[39m(c)\n\u001b[1;32m---> 10\u001b[0m c\u001b[38;5;241m=\u001b[39m\u001b[38;5;28;43mlist\u001b[39;49m\u001b[43m(\u001b[49m\u001b[43mc\u001b[49m\u001b[43m)\u001b[49m\n\u001b[0;32m     11\u001b[0m \u001b[38;5;28mprint\u001b[39m(c)\n",
      "\u001b[1;31mTypeError\u001b[0m: 'list' object is not callable"
     ]
    }
   ],
   "source": [
    "list = [10, 20, 30, 20, 20, 30, 40, 50, -20, 60, 60, -20, -20]\n",
    "b=[]\n",
    "c=[]\n",
    "for i in list:\n",
    "    if i not in b:\n",
    "        b.append(i)\n",
    "    else:\n",
    "        c.append(i)\n",
    "c=set(c)\n",
    "c=list(c)\n",
    "print(c)\n"
   ]
  },
  {
   "cell_type": "code",
   "execution_count": null,
   "id": "753e91cd-4c22-4ffd-90bc-87bfbc321785",
   "metadata": {},
   "outputs": [],
   "source": []
  },
  {
   "cell_type": "code",
   "execution_count": null,
   "id": "2796d94c-1079-4ffd-bcc1-f63680676fb7",
   "metadata": {},
   "outputs": [],
   "source": []
  },
  {
   "cell_type": "code",
   "execution_count": 62,
   "id": "951be5a0-13f5-4433-a547-11dea024fb3e",
   "metadata": {},
   "outputs": [
    {
     "name": "stdout",
     "output_type": "stream",
     "text": [
      "non static display is running\n",
      "Static show is running\n"
     ]
    }
   ],
   "source": [
    "class Demo:\n",
    "    def show():\n",
    "        print('Static show is running')\n",
    "    def display(self):\n",
    "        print('non static display is running')\n",
    "d=Demo()\n",
    "d.display()\n",
    "#d.show()\n",
    "Demo.show()\n",
    "#Demo.dispaly()"
   ]
  },
  {
   "cell_type": "markdown",
   "id": "3933f785-8cb1-4440-a6dc-f896365f7fae",
   "metadata": {},
   "source": [
    "SELF KEYWORD\n",
    "\n",
    "self is a keyword which is mainly used to point current class object if we want to call a constructor or \n",
    "then we will pass self in first argument and if local and global both variable has same name and we want to transfer the value from local to global then we will use a self keyword inside a member function to call a global variable"
   ]
  },
  {
   "cell_type": "code",
   "execution_count": 64,
   "id": "8f88e7ab-a9ef-480d-b87b-a5a4e5d3fe2d",
   "metadata": {},
   "outputs": [
    {
     "name": "stdout",
     "output_type": "stream",
     "text": [
      "101 Shubham\n"
     ]
    }
   ],
   "source": [
    "class Emp:\n",
    "    eno:int\n",
    "    name:str\n",
    "    def __init__(self,eno,name):\n",
    "        self.eno=eno\n",
    "        self.name=name\n",
    "    def show(self):\n",
    "        print(self.eno,self.name)\n",
    "e=Emp(101,'Shubham')\n",
    "e.show()"
   ]
  },
  {
   "cell_type": "markdown",
   "id": "a6f8a6b1-e3ce-4d90-897f-5c20bb4196cc",
   "metadata": {},
   "source": [
    "Inheritance \n",
    "It is used to achieve a relationn in python we can reuse data members and member function in one class into another class with the help of inheritance. We will use following syntax..\n",
    "\n",
    "class Deriveedclass(Base_class):\n",
    "    statements\n",
    "In pyhton we will use following types of inheritamce \n",
    "    "
   ]
  },
  {
   "cell_type": "code",
   "execution_count": 2,
   "id": "88dfa2dd-f9d8-4886-aad3-206a7d76d798",
   "metadata": {},
   "outputs": [
    {
     "name": "stdout",
     "output_type": "stream",
     "text": [
      " \n"
     ]
    }
   ],
   "source": [
    "for i in ' ':\n",
    "    print(i)"
   ]
  },
  {
   "cell_type": "code",
   "execution_count": 3,
   "id": "9c5e1db4-1ef5-4607-b760-fdcee7301bb0",
   "metadata": {},
   "outputs": [
    {
     "name": "stdout",
     "output_type": "stream",
     "text": [
      "[10, 10]\n"
     ]
    }
   ],
   "source": [
    "list1=[10,10,10,10]\n",
    "\n",
    "for x in list1:\n",
    "\n",
    "    list1.remove(x)\n",
    "\n",
    "print(list1)\n",
    "\n",
    "\n",
    "\n",
    "\n"
   ]
  },
  {
   "cell_type": "code",
   "execution_count": 39,
   "id": "e34c2617-f6ae-4148-ab0f-d392d1522ae5",
   "metadata": {},
   "outputs": [
    {
     "name": "stdout",
     "output_type": "stream",
     "text": [
      "15\n",
      "3\n",
      "25\n"
     ]
    }
   ],
   "source": [
    "l=[12, 15, 3, 10, 20, 25, 30]\n",
    "s=[]\n",
    "for i in l:\n",
    "    if i%2==0:\n",
    "        s.append(i)\n",
    "    else:\n",
    "        print(i)"
   ]
  }
 ],
 "metadata": {
  "kernelspec": {
   "display_name": "Python 3 (ipykernel)",
   "language": "python",
   "name": "python3"
  },
  "language_info": {
   "codemirror_mode": {
    "name": "ipython",
    "version": 3
   },
   "file_extension": ".py",
   "mimetype": "text/x-python",
   "name": "python",
   "nbconvert_exporter": "python",
   "pygments_lexer": "ipython3",
   "version": "3.11.4"
  }
 },
 "nbformat": 4,
 "nbformat_minor": 5
}
