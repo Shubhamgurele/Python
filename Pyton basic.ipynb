{
 "cells": [
  {
   "cell_type": "code",
   "execution_count": 1,
   "id": "0febc2cf-6085-4aad-8301-2e47cfc470af",
   "metadata": {},
   "outputs": [
    {
     "data": {
      "text/plain": [
       "2"
      ]
     },
     "execution_count": 1,
     "metadata": {},
     "output_type": "execute_result"
    }
   ],
   "source": [
    "1+1"
   ]
  },
  {
   "cell_type": "code",
   "execution_count": 2,
   "id": "410cbfd6-e83d-4773-9ece-93645ef24673",
   "metadata": {},
   "outputs": [
    {
     "data": {
      "text/plain": [
       "25"
      ]
     },
     "execution_count": 2,
     "metadata": {},
     "output_type": "execute_result"
    }
   ],
   "source": [
    "5*5"
   ]
  },
  {
   "cell_type": "code",
   "execution_count": 3,
   "id": "5e646707-ce1b-48ab-9981-337cb1f979e2",
   "metadata": {},
   "outputs": [
    {
     "data": {
      "text/plain": [
       "25"
      ]
     },
     "execution_count": 3,
     "metadata": {},
     "output_type": "execute_result"
    }
   ],
   "source": [
    "5*5"
   ]
  },
  {
   "cell_type": "code",
   "execution_count": 7,
   "id": "9fdd0cdf-001f-4e3c-93fe-4035eb2b08fc",
   "metadata": {},
   "outputs": [],
   "source": [
    "a = 10;\n"
   ]
  },
  {
   "cell_type": "code",
   "execution_count": 8,
   "id": "ae7bdca6-5226-421f-a539-4191c7f3993c",
   "metadata": {},
   "outputs": [
    {
     "data": {
      "text/plain": [
       "10"
      ]
     },
     "execution_count": 8,
     "metadata": {},
     "output_type": "execute_result"
    }
   ],
   "source": [
    "a"
   ]
  },
  {
   "cell_type": "code",
   "execution_count": 11,
   "id": "fbde52b3-e289-4625-8b50-709bc7af8a2b",
   "metadata": {},
   "outputs": [
    {
     "data": {
      "text/plain": [
       "int"
      ]
     },
     "execution_count": 11,
     "metadata": {},
     "output_type": "execute_result"
    }
   ],
   "source": [
    "b = 5.55\n",
    "type(b)\n",
    "d = 10\n",
    "type(d)"
   ]
  },
  {
   "cell_type": "code",
   "execution_count": 12,
   "id": "00487d89-88e5-40f7-b45a-e56b148bb41a",
   "metadata": {},
   "outputs": [
    {
     "data": {
      "text/plain": [
       "15.55"
      ]
     },
     "execution_count": 12,
     "metadata": {},
     "output_type": "execute_result"
    }
   ],
   "source": [
    "b+d"
   ]
  },
  {
   "cell_type": "code",
   "execution_count": 13,
   "id": "2300891c-bb5a-4fed-afd7-e70417d49e81",
   "metadata": {},
   "outputs": [],
   "source": [
    "g=2.5"
   ]
  },
  {
   "cell_type": "code",
   "execution_count": 14,
   "id": "450b08c7-8806-4251-9baf-b223d02b6b79",
   "metadata": {},
   "outputs": [
    {
     "data": {
      "text/plain": [
       "float"
      ]
     },
     "execution_count": 14,
     "metadata": {},
     "output_type": "execute_result"
    }
   ],
   "source": [
    "type(g)"
   ]
  },
  {
   "cell_type": "code",
   "execution_count": 16,
   "id": "7ce136a1-886b-48da-a8d0-174d500b34a5",
   "metadata": {},
   "outputs": [
    {
     "data": {
      "text/plain": [
       "0.0"
      ]
     },
     "execution_count": 16,
     "metadata": {},
     "output_type": "execute_result"
    }
   ],
   "source": [
    "False/True"
   ]
  },
  {
   "cell_type": "code",
   "execution_count": 24,
   "id": "64e30c37-db7f-4d25-b839-a1aad067c3a1",
   "metadata": {},
   "outputs": [
    {
     "data": {
      "text/plain": [
       "complex"
      ]
     },
     "execution_count": 24,
     "metadata": {},
     "output_type": "execute_result"
    }
   ],
   "source": [
    "u= 5+9j\n",
    "type(u)"
   ]
  },
  {
   "cell_type": "code",
   "execution_count": 1,
   "id": "d58f59bf-f2c4-4a8b-a6a4-f08be31cc1a0",
   "metadata": {},
   "outputs": [],
   "source": [
    "n=True"
   ]
  },
  {
   "cell_type": "code",
   "execution_count": 2,
   "id": "5a9da2c4-7d57-49c1-8298-da508f6f619e",
   "metadata": {},
   "outputs": [],
   "source": [
    "m=False"
   ]
  },
  {
   "cell_type": "code",
   "execution_count": 3,
   "id": "7b333868-3f86-4f2c-a31c-0c8809baff91",
   "metadata": {},
   "outputs": [
    {
     "data": {
      "text/plain": [
       "1"
      ]
     },
     "execution_count": 3,
     "metadata": {},
     "output_type": "execute_result"
    }
   ],
   "source": [
    "n+m"
   ]
  },
  {
   "cell_type": "code",
   "execution_count": 4,
   "id": "15f1fdab-9049-458b-9cbe-f4d6682d9bc3",
   "metadata": {},
   "outputs": [
    {
     "data": {
      "text/plain": [
       "0"
      ]
     },
     "execution_count": 4,
     "metadata": {},
     "output_type": "execute_result"
    }
   ],
   "source": [
    "True*False"
   ]
  },
  {
   "cell_type": "code",
   "execution_count": 5,
   "id": "c916ca26-26e8-4e34-b365-e368b482c786",
   "metadata": {},
   "outputs": [
    {
     "ename": "ZeroDivisionError",
     "evalue": "division by zero",
     "output_type": "error",
     "traceback": [
      "\u001b[0;31m---------------------------------------------------------------------------\u001b[0m",
      "\u001b[0;31mZeroDivisionError\u001b[0m                         Traceback (most recent call last)",
      "Cell \u001b[0;32mIn[5], line 1\u001b[0m\n\u001b[0;32m----> 1\u001b[0m \u001b[38;5;241;43m2\u001b[39;49m\u001b[38;5;241;43m/\u001b[39;49m\u001b[38;5;28;43;01mFalse\u001b[39;49;00m\n",
      "\u001b[0;31mZeroDivisionError\u001b[0m: division by zero"
     ]
    }
   ],
   "source": [
    "2/False"
   ]
  },
  {
   "cell_type": "code",
   "execution_count": 6,
   "id": "e5fd2b3a-0c52-49a8-944e-d6edd13c7ca3",
   "metadata": {},
   "outputs": [
    {
     "ename": "ZeroDivisionError",
     "evalue": "division by zero",
     "output_type": "error",
     "traceback": [
      "\u001b[0;31m---------------------------------------------------------------------------\u001b[0m",
      "\u001b[0;31mZeroDivisionError\u001b[0m                         Traceback (most recent call last)",
      "Cell \u001b[0;32mIn[6], line 1\u001b[0m\n\u001b[0;32m----> 1\u001b[0m \u001b[38;5;28;43;01mTrue\u001b[39;49;00m\u001b[38;5;241;43m/\u001b[39;49m\u001b[38;5;28;43;01mFalse\u001b[39;49;00m\n",
      "\u001b[0;31mZeroDivisionError\u001b[0m: division by zero"
     ]
    }
   ],
   "source": [
    "True/False"
   ]
  },
  {
   "cell_type": "code",
   "execution_count": 7,
   "id": "041118d2-6d0a-4b58-844d-44469b14cea7",
   "metadata": {},
   "outputs": [
    {
     "ename": "ZeroDivisionError",
     "evalue": "division by zero",
     "output_type": "error",
     "traceback": [
      "\u001b[0;31m---------------------------------------------------------------------------\u001b[0m",
      "\u001b[0;31mZeroDivisionError\u001b[0m                         Traceback (most recent call last)",
      "Cell \u001b[0;32mIn[7], line 1\u001b[0m\n\u001b[0;32m----> 1\u001b[0m \u001b[38;5;241;43m1\u001b[39;49m\u001b[38;5;241;43m/\u001b[39;49m\u001b[38;5;241;43m0\u001b[39;49m\n",
      "\u001b[0;31mZeroDivisionError\u001b[0m: division by zero"
     ]
    }
   ],
   "source": [
    "1/0"
   ]
  },
  {
   "cell_type": "code",
   "execution_count": 8,
   "id": "7f1acaf6-41d5-437f-9a53-2073d5557245",
   "metadata": {},
   "outputs": [
    {
     "data": {
      "text/plain": [
       "0.0"
      ]
     },
     "execution_count": 8,
     "metadata": {},
     "output_type": "execute_result"
    }
   ],
   "source": [
    "False/True"
   ]
  },
  {
   "cell_type": "code",
   "execution_count": 9,
   "id": "92d03c39-2d53-40f2-9fc7-f0659a00b84f",
   "metadata": {},
   "outputs": [],
   "source": [
    "s= 5+7j"
   ]
  },
  {
   "cell_type": "code",
   "execution_count": 10,
   "id": "ae59b10b-668b-4683-804b-a28d41800b40",
   "metadata": {},
   "outputs": [
    {
     "data": {
      "text/plain": [
       "complex"
      ]
     },
     "execution_count": 10,
     "metadata": {},
     "output_type": "execute_result"
    }
   ],
   "source": [
    "type(s)"
   ]
  },
  {
   "cell_type": "code",
   "execution_count": 11,
   "id": "ec87c95f-c1bd-4d3c-9242-912bafa30fdd",
   "metadata": {},
   "outputs": [
    {
     "data": {
      "text/plain": [
       "7.0"
      ]
     },
     "execution_count": 11,
     "metadata": {},
     "output_type": "execute_result"
    }
   ],
   "source": [
    "s.imag"
   ]
  },
  {
   "cell_type": "code",
   "execution_count": 12,
   "id": "71da07f1-7a8a-46f8-8b48-0aab118fd0cf",
   "metadata": {},
   "outputs": [
    {
     "data": {
      "text/plain": [
       "5.0"
      ]
     },
     "execution_count": 12,
     "metadata": {},
     "output_type": "execute_result"
    }
   ],
   "source": [
    "s.real"
   ]
  },
  {
   "cell_type": "code",
   "execution_count": 13,
   "id": "13f0c75d-37aa-45cd-a513-73de8be5c504",
   "metadata": {},
   "outputs": [
    {
     "name": "stdout",
     "output_type": "stream",
     "text": [
      "my name is shubham\n"
     ]
    }
   ],
   "source": [
    "print('my name is shubham')"
   ]
  },
  {
   "cell_type": "code",
   "execution_count": 14,
   "id": "218d7d6e-678e-4217-89e5-dfb2404bc570",
   "metadata": {},
   "outputs": [
    {
     "name": "stdout",
     "output_type": "stream",
     "text": [
      "(5+7j)\n"
     ]
    }
   ],
   "source": [
    "print(s)"
   ]
  },
  {
   "cell_type": "code",
   "execution_count": 19,
   "id": "c3793f53-7285-4943-9e31-a68e48ddac7c",
   "metadata": {},
   "outputs": [],
   "source": [
    "s=\"shubham\""
   ]
  },
  {
   "cell_type": "code",
   "execution_count": 16,
   "id": "b6c1d461-1564-43a2-8e83-9b2cc4345ffc",
   "metadata": {},
   "outputs": [
    {
     "data": {
      "text/plain": [
       "'h'"
      ]
     },
     "execution_count": 16,
     "metadata": {},
     "output_type": "execute_result"
    }
   ],
   "source": [
    "s[4]"
   ]
  },
  {
   "cell_type": "code",
   "execution_count": 17,
   "id": "98fd103b-fd1e-420d-9fd0-7b54e1b07c70",
   "metadata": {},
   "outputs": [
    {
     "data": {
      "text/plain": [
       "'m'"
      ]
     },
     "execution_count": 17,
     "metadata": {},
     "output_type": "execute_result"
    }
   ],
   "source": [
    "s[6]"
   ]
  },
  {
   "cell_type": "code",
   "execution_count": 18,
   "id": "f6f823cb-8656-4eab-84bb-33d498118b98",
   "metadata": {},
   "outputs": [
    {
     "data": {
      "text/plain": [
       "'S'"
      ]
     },
     "execution_count": 18,
     "metadata": {},
     "output_type": "execute_result"
    }
   ],
   "source": [
    "s[0]"
   ]
  },
  {
   "cell_type": "code",
   "execution_count": 20,
   "id": "6a9198d4-00b3-4a08-836e-be0b9293f02a",
   "metadata": {},
   "outputs": [
    {
     "data": {
      "text/plain": [
       "'m'"
      ]
     },
     "execution_count": 20,
     "metadata": {},
     "output_type": "execute_result"
    }
   ],
   "source": [
    "s[-1]"
   ]
  },
  {
   "cell_type": "code",
   "execution_count": 21,
   "id": "2750737f-9af3-4e60-ad1e-5d08c127489d",
   "metadata": {},
   "outputs": [
    {
     "ename": "SyntaxError",
     "evalue": "invalid syntax (3662911480.py, line 1)",
     "output_type": "error",
     "traceback": [
      "\u001b[0;36m  Cell \u001b[0;32mIn[21], line 1\u001b[0;36m\u001b[0m\n\u001b[0;31m    s=[0:4]\u001b[0m\n\u001b[0m        ^\u001b[0m\n\u001b[0;31mSyntaxError\u001b[0m\u001b[0;31m:\u001b[0m invalid syntax\n"
     ]
    }
   ],
   "source": [
    "s=[0:4]"
   ]
  },
  {
   "cell_type": "code",
   "execution_count": 22,
   "id": "fc55ac75-979e-42ae-beb6-b6daa914c7ab",
   "metadata": {},
   "outputs": [
    {
     "ename": "SyntaxError",
     "evalue": "invalid syntax (54369708.py, line 1)",
     "output_type": "error",
     "traceback": [
      "\u001b[0;36m  Cell \u001b[0;32mIn[22], line 1\u001b[0;36m\u001b[0m\n\u001b[0;31m    s=[0:3]\u001b[0m\n\u001b[0m        ^\u001b[0m\n\u001b[0;31mSyntaxError\u001b[0m\u001b[0;31m:\u001b[0m invalid syntax\n"
     ]
    }
   ],
   "source": [
    "s=[0:3]"
   ]
  },
  {
   "cell_type": "code",
   "execution_count": 23,
   "id": "08bfd75d-76d8-4118-bea6-e0b84ea81144",
   "metadata": {},
   "outputs": [],
   "source": [
    "s='shubham'"
   ]
  },
  {
   "cell_type": "code",
   "execution_count": 24,
   "id": "b2c9dfd0-071f-4ff2-b9cf-952f00f1bdc8",
   "metadata": {},
   "outputs": [
    {
     "data": {
      "text/plain": [
       "'shu'"
      ]
     },
     "execution_count": 24,
     "metadata": {},
     "output_type": "execute_result"
    }
   ],
   "source": [
    "s[0:3]"
   ]
  },
  {
   "cell_type": "code",
   "execution_count": 25,
   "id": "98ce9c94-9a5e-4c2b-93b0-20f64ec63ec6",
   "metadata": {},
   "outputs": [
    {
     "data": {
      "text/plain": [
       "'shubha'"
      ]
     },
     "execution_count": 25,
     "metadata": {},
     "output_type": "execute_result"
    }
   ],
   "source": [
    "s[0:6]"
   ]
  },
  {
   "cell_type": "code",
   "execution_count": 26,
   "id": "c202326c-b8b1-41c8-8429-a3da6926107a",
   "metadata": {},
   "outputs": [
    {
     "data": {
      "text/plain": [
       "'shubham'"
      ]
     },
     "execution_count": 26,
     "metadata": {},
     "output_type": "execute_result"
    }
   ],
   "source": [
    "s[0:7]"
   ]
  },
  {
   "cell_type": "code",
   "execution_count": 27,
   "id": "fe6afe1a-8012-4cd0-8c76-4194ae5ee46e",
   "metadata": {},
   "outputs": [
    {
     "data": {
      "text/plain": [
       "''"
      ]
     },
     "execution_count": 27,
     "metadata": {},
     "output_type": "execute_result"
    }
   ],
   "source": [
    "s[-7:0]"
   ]
  },
  {
   "cell_type": "code",
   "execution_count": 28,
   "id": "b0beb28a-b020-40d7-9775-e25a2073712a",
   "metadata": {},
   "outputs": [
    {
     "data": {
      "text/plain": [
       "''"
      ]
     },
     "execution_count": 28,
     "metadata": {},
     "output_type": "execute_result"
    }
   ],
   "source": [
    "s[-6:1]"
   ]
  },
  {
   "cell_type": "code",
   "execution_count": 29,
   "id": "8b16d1db-a6aa-4ea8-b482-0927ef28ef07",
   "metadata": {},
   "outputs": [
    {
     "data": {
      "text/plain": [
       "''"
      ]
     },
     "execution_count": 29,
     "metadata": {},
     "output_type": "execute_result"
    }
   ],
   "source": [
    "s[-1:-6]"
   ]
  },
  {
   "cell_type": "code",
   "execution_count": 30,
   "id": "660a4e6f-13d9-43a2-867e-e14ee5918e7c",
   "metadata": {},
   "outputs": [
    {
     "data": {
      "text/plain": [
       "'suhm'"
      ]
     },
     "execution_count": 30,
     "metadata": {},
     "output_type": "execute_result"
    }
   ],
   "source": [
    "s[0:7:2]"
   ]
  },
  {
   "cell_type": "code",
   "execution_count": 31,
   "id": "03d84e62-df32-4305-a802-df64c8519cd3",
   "metadata": {},
   "outputs": [
    {
     "data": {
      "text/plain": [
       "'suhm'"
      ]
     },
     "execution_count": 31,
     "metadata": {},
     "output_type": "execute_result"
    }
   ],
   "source": [
    "s[::2]"
   ]
  },
  {
   "cell_type": "code",
   "execution_count": 32,
   "id": "6fd16404-ddb8-4f12-8406-64c06e86f8ff",
   "metadata": {},
   "outputs": [
    {
     "data": {
      "text/plain": [
       "'mahbuhs'"
      ]
     },
     "execution_count": 32,
     "metadata": {},
     "output_type": "execute_result"
    }
   ],
   "source": [
    "s[::-1]"
   ]
  },
  {
   "cell_type": "code",
   "execution_count": 34,
   "id": "3624cee7-27f5-4b49-a426-a44769c5d505",
   "metadata": {},
   "outputs": [
    {
     "data": {
      "text/plain": [
       "'mahbuh'"
      ]
     },
     "execution_count": 34,
     "metadata": {},
     "output_type": "execute_result"
    }
   ],
   "source": [
    "s[7:0:-1]"
   ]
  },
  {
   "cell_type": "code",
   "execution_count": 35,
   "id": "c687dd42-32a0-4699-9673-9ea33a467646",
   "metadata": {},
   "outputs": [
    {
     "data": {
      "text/plain": [
       "''"
      ]
     },
     "execution_count": 35,
     "metadata": {},
     "output_type": "execute_result"
    }
   ],
   "source": [
    "s[7:-1:-1]"
   ]
  },
  {
   "cell_type": "code",
   "execution_count": 38,
   "id": "5b9aab6f-6220-4943-96ef-40929e453d1c",
   "metadata": {},
   "outputs": [
    {
     "data": {
      "text/plain": [
       "'ahbuhs'"
      ]
     },
     "execution_count": 38,
     "metadata": {},
     "output_type": "execute_result"
    }
   ],
   "source": [
    "s[-2::-1]"
   ]
  },
  {
   "cell_type": "code",
   "execution_count": 39,
   "id": "80c5b6e4-e130-428b-a2bf-0be10c9fddee",
   "metadata": {},
   "outputs": [],
   "source": [
    "v='200'"
   ]
  },
  {
   "cell_type": "code",
   "execution_count": 40,
   "id": "b9485ee4-06ea-42b4-803b-312bf22c31ab",
   "metadata": {},
   "outputs": [
    {
     "data": {
      "text/plain": [
       "'2'"
      ]
     },
     "execution_count": 40,
     "metadata": {},
     "output_type": "execute_result"
    }
   ],
   "source": [
    "v[0]"
   ]
  },
  {
   "cell_type": "code",
   "execution_count": 41,
   "id": "6c5bba6d-7a7c-43b8-8569-1be04597319b",
   "metadata": {},
   "outputs": [
    {
     "data": {
      "text/plain": [
       "<function str.count>"
      ]
     },
     "execution_count": 41,
     "metadata": {},
     "output_type": "execute_result"
    }
   ],
   "source": [
    "s.count"
   ]
  },
  {
   "cell_type": "code",
   "execution_count": 42,
   "id": "152f887b-699b-4b3f-88a7-3064cdbb232a",
   "metadata": {},
   "outputs": [
    {
     "data": {
      "text/plain": [
       "1"
      ]
     },
     "execution_count": 42,
     "metadata": {},
     "output_type": "execute_result"
    }
   ],
   "source": [
    "s.count('s')"
   ]
  },
  {
   "cell_type": "code",
   "execution_count": 43,
   "id": "0821ba23-c9d6-4e16-9781-4cc866fde558",
   "metadata": {},
   "outputs": [
    {
     "data": {
      "text/plain": [
       "2"
      ]
     },
     "execution_count": 43,
     "metadata": {},
     "output_type": "execute_result"
    }
   ],
   "source": [
    "s.count('h')"
   ]
  },
  {
   "cell_type": "code",
   "execution_count": 44,
   "id": "ef1b6cab-063c-4585-9993-b7a2d4634cec",
   "metadata": {},
   "outputs": [
    {
     "data": {
      "text/plain": [
       "7"
      ]
     },
     "execution_count": 44,
     "metadata": {},
     "output_type": "execute_result"
    }
   ],
   "source": [
    "len(s)"
   ]
  },
  {
   "cell_type": "code",
   "execution_count": 45,
   "id": "ba2b3cd6-b24f-406e-9b33-6a406c450947",
   "metadata": {},
   "outputs": [
    {
     "data": {
      "text/plain": [
       "0"
      ]
     },
     "execution_count": 45,
     "metadata": {},
     "output_type": "execute_result"
    }
   ],
   "source": [
    "s.find(s)"
   ]
  },
  {
   "cell_type": "code",
   "execution_count": 46,
   "id": "d724525d-d079-4672-8a1b-ab2059420dac",
   "metadata": {},
   "outputs": [
    {
     "ename": "TypeError",
     "evalue": "str.capitalize() takes no arguments (1 given)",
     "output_type": "error",
     "traceback": [
      "\u001b[0;31m---------------------------------------------------------------------------\u001b[0m",
      "\u001b[0;31mTypeError\u001b[0m                                 Traceback (most recent call last)",
      "Cell \u001b[0;32mIn[46], line 1\u001b[0m\n\u001b[0;32m----> 1\u001b[0m \u001b[43ms\u001b[49m\u001b[38;5;241;43m.\u001b[39;49m\u001b[43mcapitalize\u001b[49m\u001b[43m(\u001b[49m\u001b[43ms\u001b[49m\u001b[43m)\u001b[49m\n",
      "\u001b[0;31mTypeError\u001b[0m: str.capitalize() takes no arguments (1 given)"
     ]
    }
   ],
   "source": [
    "s.capitalize(s)"
   ]
  },
  {
   "cell_type": "code",
   "execution_count": 47,
   "id": "c23d6282-7533-4c1e-8e5a-d4a56e5f9897",
   "metadata": {},
   "outputs": [
    {
     "data": {
      "text/plain": [
       "'Shubham'"
      ]
     },
     "execution_count": 47,
     "metadata": {},
     "output_type": "execute_result"
    }
   ],
   "source": [
    "s.capitalize()"
   ]
  },
  {
   "cell_type": "code",
   "execution_count": 1,
   "id": "3f2ec957-dcfe-43c3-8d83-bcb31d5a60a3",
   "metadata": {},
   "outputs": [
    {
     "ename": "NameError",
     "evalue": "name 'shubham' is not defined",
     "output_type": "error",
     "traceback": [
      "\u001b[0;31m---------------------------------------------------------------------------\u001b[0m",
      "\u001b[0;31mNameError\u001b[0m                                 Traceback (most recent call last)",
      "Cell \u001b[0;32mIn[1], line 1\u001b[0m\n\u001b[0;32m----> 1\u001b[0m s\u001b[38;5;241m=\u001b[39m\u001b[43mshubham\u001b[49m\n",
      "\u001b[0;31mNameError\u001b[0m: name 'shubham' is not defined"
     ]
    }
   ],
   "source": [
    "s=shubham"
   ]
  },
  {
   "cell_type": "code",
   "execution_count": 2,
   "id": "8f393d05-82b5-4fc1-a980-a559442a924b",
   "metadata": {},
   "outputs": [],
   "source": [
    "s='shubham'"
   ]
  },
  {
   "cell_type": "code",
   "execution_count": 3,
   "id": "95e398c6-aebb-4bab-ac03-431e0a2d37fb",
   "metadata": {},
   "outputs": [
    {
     "data": {
      "text/plain": [
       "<function str.upper()>"
      ]
     },
     "execution_count": 3,
     "metadata": {},
     "output_type": "execute_result"
    }
   ],
   "source": [
    "s.upper"
   ]
  },
  {
   "cell_type": "code",
   "execution_count": 4,
   "id": "f886f5c7-ef29-4055-bb95-94ea141dc1ea",
   "metadata": {},
   "outputs": [
    {
     "data": {
      "text/plain": [
       "'SHUBHAM'"
      ]
     },
     "execution_count": 4,
     "metadata": {},
     "output_type": "execute_result"
    }
   ],
   "source": [
    "s.upper()"
   ]
  },
  {
   "cell_type": "code",
   "execution_count": 5,
   "id": "f120fe18-d5dd-48f1-8cab-d96de56d1eab",
   "metadata": {},
   "outputs": [
    {
     "data": {
      "text/plain": [
       "'Shubham'"
      ]
     },
     "execution_count": 5,
     "metadata": {},
     "output_type": "execute_result"
    }
   ],
   "source": [
    "s.title()"
   ]
  },
  {
   "cell_type": "code",
   "execution_count": 6,
   "id": "e1ac396f-5d17-4d10-b4e8-e026531e3fc6",
   "metadata": {},
   "outputs": [
    {
     "ename": "SyntaxError",
     "evalue": "invalid syntax (767998977.py, line 1)",
     "output_type": "error",
     "traceback": [
      "\u001b[0;36m  Cell \u001b[0;32mIn[6], line 1\u001b[0;36m\u001b[0m\n\u001b[0;31m    s.'shubham is good boy'\u001b[0m\n\u001b[0m      ^\u001b[0m\n\u001b[0;31mSyntaxError\u001b[0m\u001b[0;31m:\u001b[0m invalid syntax\n"
     ]
    }
   ],
   "source": [
    "s.'shubham is good boy'"
   ]
  },
  {
   "cell_type": "code",
   "execution_count": 7,
   "id": "396e5567-cd10-4561-a7b1-c7781d05c435",
   "metadata": {},
   "outputs": [],
   "source": [
    "s='shubham is good boy'"
   ]
  },
  {
   "cell_type": "code",
   "execution_count": 8,
   "id": "bcd754a9-e9a1-4b9a-adb5-6ee0afbd1d2b",
   "metadata": {},
   "outputs": [
    {
     "data": {
      "text/plain": [
       "'Shubham Is Good Boy'"
      ]
     },
     "execution_count": 8,
     "metadata": {},
     "output_type": "execute_result"
    }
   ],
   "source": [
    "s.title()"
   ]
  },
  {
   "cell_type": "code",
   "execution_count": 9,
   "id": "0dd9dd12-e8de-41d7-91e2-c6f98c6d0ea3",
   "metadata": {},
   "outputs": [
    {
     "ename": "TypeError",
     "evalue": "can only concatenate str (not \"int\") to str",
     "output_type": "error",
     "traceback": [
      "\u001b[0;31m---------------------------------------------------------------------------\u001b[0m",
      "\u001b[0;31mTypeError\u001b[0m                                 Traceback (most recent call last)",
      "Cell \u001b[0;32mIn[9], line 1\u001b[0m\n\u001b[0;32m----> 1\u001b[0m \u001b[43ms\u001b[49m\u001b[43m \u001b[49m\u001b[38;5;241;43m+\u001b[39;49m\u001b[43m \u001b[49m\u001b[38;5;241;43m1\u001b[39;49m\n",
      "\u001b[0;31mTypeError\u001b[0m: can only concatenate str (not \"int\") to str"
     ]
    }
   ],
   "source": [
    "s + 1"
   ]
  },
  {
   "cell_type": "code",
   "execution_count": 10,
   "id": "ca62be75-9031-4532-8a93-b5df1fcf5cbf",
   "metadata": {},
   "outputs": [
    {
     "data": {
      "text/plain": [
       "'shubham is good boy1'"
      ]
     },
     "execution_count": 10,
     "metadata": {},
     "output_type": "execute_result"
    }
   ],
   "source": [
    "s +'1'"
   ]
  },
  {
   "cell_type": "code",
   "execution_count": 11,
   "id": "a962afc8-a5dd-4dc2-8282-9d61edf15ebb",
   "metadata": {},
   "outputs": [
    {
     "data": {
      "text/plain": [
       "'shubham is good boy 1'"
      ]
     },
     "execution_count": 11,
     "metadata": {},
     "output_type": "execute_result"
    }
   ],
   "source": [
    "s +' 1'"
   ]
  },
  {
   "cell_type": "code",
   "execution_count": 12,
   "id": "1d344d2f-db7c-40fc-be52-8a65f02e8516",
   "metadata": {},
   "outputs": [
    {
     "data": {
      "text/plain": [
       "'shubham is good boyshubham is good boyshubham is good boy'"
      ]
     },
     "execution_count": 12,
     "metadata": {},
     "output_type": "execute_result"
    }
   ],
   "source": [
    "s * 3"
   ]
  },
  {
   "cell_type": "code",
   "execution_count": 13,
   "id": "57036567-de9d-41ff-b0ea-e0fbba5050c5",
   "metadata": {},
   "outputs": [
    {
     "ename": "TypeError",
     "evalue": "can't multiply sequence by non-int of type 'str'",
     "output_type": "error",
     "traceback": [
      "\u001b[0;31m---------------------------------------------------------------------------\u001b[0m",
      "\u001b[0;31mTypeError\u001b[0m                                 Traceback (most recent call last)",
      "Cell \u001b[0;32mIn[13], line 1\u001b[0m\n\u001b[0;32m----> 1\u001b[0m \u001b[43ms\u001b[49m\u001b[43m \u001b[49m\u001b[38;5;241;43m*\u001b[39;49m\u001b[43m \u001b[49m\u001b[38;5;124;43m'\u001b[39;49m\u001b[38;5;124;43m3\u001b[39;49m\u001b[38;5;124;43m'\u001b[39;49m\n",
      "\u001b[0;31mTypeError\u001b[0m: can't multiply sequence by non-int of type 'str'"
     ]
    }
   ],
   "source": [
    "s * '3'"
   ]
  },
  {
   "cell_type": "code",
   "execution_count": 14,
   "id": "2226de63-6d05-4031-a2e7-e24d6fb9827d",
   "metadata": {},
   "outputs": [
    {
     "ename": "TypeError",
     "evalue": "unsupported operand type(s) for /: 'str' and 'int'",
     "output_type": "error",
     "traceback": [
      "\u001b[0;31m---------------------------------------------------------------------------\u001b[0m",
      "\u001b[0;31mTypeError\u001b[0m                                 Traceback (most recent call last)",
      "Cell \u001b[0;32mIn[14], line 1\u001b[0m\n\u001b[0;32m----> 1\u001b[0m \u001b[43ms\u001b[49m\u001b[38;5;241;43m/\u001b[39;49m\u001b[38;5;241;43m4\u001b[39;49m\n",
      "\u001b[0;31mTypeError\u001b[0m: unsupported operand type(s) for /: 'str' and 'int'"
     ]
    }
   ],
   "source": [
    "s/4"
   ]
  },
  {
   "cell_type": "code",
   "execution_count": 15,
   "id": "41ac060f-b4f6-4ca1-b650-f7089dd16f19",
   "metadata": {},
   "outputs": [
    {
     "ename": "SyntaxError",
     "evalue": "invalid syntax (2432542413.py, line 1)",
     "output_type": "error",
     "traceback": [
      "\u001b[0;36m  Cell \u001b[0;32mIn[15], line 1\u001b[0;36m\u001b[0m\n\u001b[0;31m    this is python class\u001b[0m\n\u001b[0m                   ^\u001b[0m\n\u001b[0;31mSyntaxError\u001b[0m\u001b[0;31m:\u001b[0m invalid syntax\n"
     ]
    }
   ],
   "source": [
    "this is python class "
   ]
  },
  {
   "cell_type": "code",
   "execution_count": 16,
   "id": "0e0613f4-c03f-4457-8191-d006e8ede987",
   "metadata": {},
   "outputs": [
    {
     "ename": "SyntaxError",
     "evalue": "invalid syntax (744216418.py, line 1)",
     "output_type": "error",
     "traceback": [
      "\u001b[0;36m  Cell \u001b[0;32mIn[16], line 1\u001b[0;36m\u001b[0m\n\u001b[0;31m    this is a python class\u001b[0m\n\u001b[0m              ^\u001b[0m\n\u001b[0;31mSyntaxError\u001b[0m\u001b[0;31m:\u001b[0m invalid syntax\n"
     ]
    }
   ],
   "source": [
    "this is a python class\n",
    "teach by the shudanshi sir "
   ]
  },
  {
   "cell_type": "code",
   "execution_count": 16,
   "id": "bc911ef7-f7d8-4e70-8e35-fc3257620ffc",
   "metadata": {},
   "outputs": [
    {
     "ename": "SyntaxError",
     "evalue": "invalid syntax (744216418.py, line 1)",
     "output_type": "error",
     "traceback": [
      "\u001b[0;36m  Cell \u001b[0;32mIn[16], line 1\u001b[0;36m\u001b[0m\n\u001b[0;31m    this is a python class\u001b[0m\n\u001b[0m              ^\u001b[0m\n\u001b[0;31mSyntaxError\u001b[0m\u001b[0;31m:\u001b[0m invalid syntax\n"
     ]
    }
   ],
   "source": [
    "this is a python class\n",
    "teach by the shudanshi sir "
   ]
  },
  {
   "cell_type": "code",
   "execution_count": 16,
   "id": "4471e864-e170-4016-a3d9-3709c9ca624f",
   "metadata": {},
   "outputs": [
    {
     "ename": "SyntaxError",
     "evalue": "invalid syntax (744216418.py, line 1)",
     "output_type": "error",
     "traceback": [
      "\u001b[0;36m  Cell \u001b[0;32mIn[16], line 1\u001b[0;36m\u001b[0m\n\u001b[0;31m    this is a python class\u001b[0m\n\u001b[0m              ^\u001b[0m\n\u001b[0;31mSyntaxError\u001b[0m\u001b[0;31m:\u001b[0m invalid syntax\n"
     ]
    }
   ],
   "source": [
    "this is a python class\n",
    "teach by the shudanshi sir "
   ]
  },
  {
   "cell_type": "code",
   "execution_count": 1,
   "id": "ec3f8545-7d9e-47ca-a0d4-3cf4e43c121b",
   "metadata": {},
   "outputs": [],
   "source": [
    "l = [1, 345, 45, 'sudh', True, 5+7j, 345.456]"
   ]
  },
  {
   "cell_type": "code",
   "execution_count": 2,
   "id": "e1006f60-af02-463b-9268-6206f598fdd5",
   "metadata": {},
   "outputs": [
    {
     "data": {
      "text/plain": [
       "list"
      ]
     },
     "execution_count": 2,
     "metadata": {},
     "output_type": "execute_result"
    }
   ],
   "source": [
    "type(l)"
   ]
  },
  {
   "cell_type": "code",
   "execution_count": 1,
   "id": "f3fc44ef-d17a-4284-a840-e05a3dc38041",
   "metadata": {},
   "outputs": [
    {
     "ename": "NameError",
     "evalue": "name 'l' is not defined",
     "output_type": "error",
     "traceback": [
      "\u001b[0;31m---------------------------------------------------------------------------\u001b[0m",
      "\u001b[0;31mNameError\u001b[0m                                 Traceback (most recent call last)",
      "Cell \u001b[0;32mIn[1], line 1\u001b[0m\n\u001b[0;32m----> 1\u001b[0m \u001b[43ml\u001b[49m[\u001b[38;5;241m0\u001b[39m:\u001b[38;5;241m2\u001b[39m]\n",
      "\u001b[0;31mNameError\u001b[0m: name 'l' is not defined"
     ]
    }
   ],
   "source": [
    "l[0:2]"
   ]
  },
  {
   "cell_type": "code",
   "execution_count": 2,
   "id": "49ea9974-5fd9-4cac-8e80-8bbce7455318",
   "metadata": {},
   "outputs": [
    {
     "ename": "NameError",
     "evalue": "name 'l' is not defined",
     "output_type": "error",
     "traceback": [
      "\u001b[0;31m---------------------------------------------------------------------------\u001b[0m",
      "\u001b[0;31mNameError\u001b[0m                                 Traceback (most recent call last)",
      "Cell \u001b[0;32mIn[2], line 1\u001b[0m\n\u001b[0;32m----> 1\u001b[0m \u001b[43ml\u001b[49m[\u001b[38;5;241m0\u001b[39m:\u001b[38;5;241m3\u001b[39m]\n",
      "\u001b[0;31mNameError\u001b[0m: name 'l' is not defined"
     ]
    }
   ],
   "source": [
    "l[0:3]"
   ]
  },
  {
   "cell_type": "code",
   "execution_count": 3,
   "id": "7f2246d4-cdaa-41f6-b81d-3adac6cc5823",
   "metadata": {},
   "outputs": [],
   "source": [
    "l = [1, 345, 45, 'sudh', True, 5+7j, 345.456]"
   ]
  },
  {
   "cell_type": "code",
   "execution_count": 4,
   "id": "0992dcd8-1f30-404b-98f6-45f8e7a0b9bf",
   "metadata": {},
   "outputs": [
    {
     "data": {
      "text/plain": [
       "[1, 345, 45]"
      ]
     },
     "execution_count": 4,
     "metadata": {},
     "output_type": "execute_result"
    }
   ],
   "source": [
    "l[0:3]"
   ]
  },
  {
   "cell_type": "code",
   "execution_count": 5,
   "id": "f5eaff40-9ace-4aef-bc80-1ff1cbd15eea",
   "metadata": {},
   "outputs": [
    {
     "data": {
      "text/plain": [
       "(5+7j)"
      ]
     },
     "execution_count": 5,
     "metadata": {},
     "output_type": "execute_result"
    }
   ],
   "source": [
    "l[-2]"
   ]
  },
  {
   "cell_type": "code",
   "execution_count": 6,
   "id": "f2f76b91-84e5-4f2e-91ab-3ad5fff06d14",
   "metadata": {},
   "outputs": [
    {
     "ename": "SyntaxError",
     "evalue": "incomplete input (3678591595.py, line 1)",
     "output_type": "error",
     "traceback": [
      "\u001b[0;36m  Cell \u001b[0;32mIn[6], line 1\u001b[0;36m\u001b[0m\n\u001b[0;31m    len((l)\u001b[0m\n\u001b[0m           ^\u001b[0m\n\u001b[0;31mSyntaxError\u001b[0m\u001b[0;31m:\u001b[0m incomplete input\n"
     ]
    }
   ],
   "source": [
    "len((l)"
   ]
  },
  {
   "cell_type": "code",
   "execution_count": 7,
   "id": "b3eeb536-d64a-412b-a364-c7581ae5c739",
   "metadata": {},
   "outputs": [
    {
     "data": {
      "text/plain": [
       "7"
      ]
     },
     "execution_count": 7,
     "metadata": {},
     "output_type": "execute_result"
    }
   ],
   "source": [
    "len(l)"
   ]
  },
  {
   "cell_type": "code",
   "execution_count": 8,
   "id": "953eaf88-fb54-4276-9bcd-a832deb81f5b",
   "metadata": {},
   "outputs": [
    {
     "data": {
      "text/plain": [
       "[1, 45, True, 345.456]"
      ]
     },
     "execution_count": 8,
     "metadata": {},
     "output_type": "execute_result"
    }
   ],
   "source": [
    "l[::2]"
   ]
  },
  {
   "cell_type": "code",
   "execution_count": 9,
   "id": "873bc9b9-54fe-4881-963d-94fa71f0b31a",
   "metadata": {},
   "outputs": [
    {
     "data": {
      "text/plain": [
       "[1, 'sudh', 345.456]"
      ]
     },
     "execution_count": 9,
     "metadata": {},
     "output_type": "execute_result"
    }
   ],
   "source": [
    "l[::3]"
   ]
  },
  {
   "cell_type": "code",
   "execution_count": 10,
   "id": "a58b3214-b0c4-4bb5-a7ee-a7f187c00af0",
   "metadata": {},
   "outputs": [
    {
     "ename": "SyntaxError",
     "evalue": "closing parenthesis '}' does not match opening parenthesis '[' (1158826449.py, line 1)",
     "output_type": "error",
     "traceback": [
      "\u001b[0;36m  Cell \u001b[0;32mIn[10], line 1\u001b[0;36m\u001b[0m\n\u001b[0;31m    l[::1}\u001b[0m\n\u001b[0m         ^\u001b[0m\n\u001b[0;31mSyntaxError\u001b[0m\u001b[0;31m:\u001b[0m closing parenthesis '}' does not match opening parenthesis '['\n"
     ]
    }
   ],
   "source": [
    "l[::1}"
   ]
  },
  {
   "cell_type": "code",
   "execution_count": 11,
   "id": "f3515af1-9ce7-4fa4-ac7a-d4e5c1347670",
   "metadata": {},
   "outputs": [
    {
     "data": {
      "text/plain": [
       "[1, 345, 45, 'sudh', True, (5+7j), 345.456]"
      ]
     },
     "execution_count": 11,
     "metadata": {},
     "output_type": "execute_result"
    }
   ],
   "source": [
    "l[::1]"
   ]
  },
  {
   "cell_type": "code",
   "execution_count": 12,
   "id": "791d1283-14d6-4296-8646-3162ec6ec85d",
   "metadata": {},
   "outputs": [],
   "source": [
    "s = \"pwskills\""
   ]
  },
  {
   "cell_type": "code",
   "execution_count": 13,
   "id": "8114844a-0943-4c44-9250-a5a829a78f42",
   "metadata": {},
   "outputs": [
    {
     "data": {
      "text/plain": [
       "['p', 'w', 's', 'k', 'i', 'l', 'l', 's']"
      ]
     },
     "execution_count": 13,
     "metadata": {},
     "output_type": "execute_result"
    }
   ],
   "source": [
    "list(s)"
   ]
  },
  {
   "cell_type": "code",
   "execution_count": 14,
   "id": "8686cce8-b2b9-4019-b27e-2abefaf76461",
   "metadata": {},
   "outputs": [
    {
     "data": {
      "text/plain": [
       "[1, 345, 45, 'sudh', True, (5+7j), 345.456]"
      ]
     },
     "execution_count": 14,
     "metadata": {},
     "output_type": "execute_result"
    }
   ],
   "source": [
    "l"
   ]
  },
  {
   "cell_type": "code",
   "execution_count": 15,
   "id": "9b8c2379-7069-4cae-8374-edf076d365cb",
   "metadata": {},
   "outputs": [
    {
     "data": {
      "text/plain": [
       "'sudh'"
      ]
     },
     "execution_count": 15,
     "metadata": {},
     "output_type": "execute_result"
    }
   ],
   "source": [
    "l[3]"
   ]
  },
  {
   "cell_type": "code",
   "execution_count": 16,
   "id": "66ab4cb6-0b9e-4dec-b971-d0e2a80482d9",
   "metadata": {},
   "outputs": [
    {
     "data": {
      "text/plain": [
       "'su'"
      ]
     },
     "execution_count": 16,
     "metadata": {},
     "output_type": "execute_result"
    }
   ],
   "source": [
    "l[3][0:2]"
   ]
  },
  {
   "cell_type": "code",
   "execution_count": 17,
   "id": "f3fec1f2-3605-449e-af95-c3f5fe7976ca",
   "metadata": {},
   "outputs": [
    {
     "ename": "TypeError",
     "evalue": "'bool' object is not subscriptable",
     "output_type": "error",
     "traceback": [
      "\u001b[0;31m---------------------------------------------------------------------------\u001b[0m",
      "\u001b[0;31mTypeError\u001b[0m                                 Traceback (most recent call last)",
      "Cell \u001b[0;32mIn[17], line 1\u001b[0m\n\u001b[0;32m----> 1\u001b[0m \u001b[43ml\u001b[49m\u001b[43m[\u001b[49m\u001b[38;5;241;43m4\u001b[39;49m\u001b[43m]\u001b[49m\u001b[43m[\u001b[49m\u001b[38;5;241;43m0\u001b[39;49m\u001b[43m:\u001b[49m\u001b[38;5;241;43m2\u001b[39;49m\u001b[43m]\u001b[49m\n",
      "\u001b[0;31mTypeError\u001b[0m: 'bool' object is not subscriptable"
     ]
    }
   ],
   "source": [
    "l[4][0:2]"
   ]
  },
  {
   "cell_type": "code",
   "execution_count": 18,
   "id": "7b793477-6349-4510-a3f4-7d53ab2cb4c4",
   "metadata": {},
   "outputs": [
    {
     "data": {
      "text/plain": [
       "True"
      ]
     },
     "execution_count": 18,
     "metadata": {},
     "output_type": "execute_result"
    }
   ],
   "source": [
    "l[4]"
   ]
  },
  {
   "cell_type": "code",
   "execution_count": 19,
   "id": "9377dba0-9140-4ed1-a9bf-256c467fde2c",
   "metadata": {},
   "outputs": [
    {
     "ename": "TypeError",
     "evalue": "'bool' object is not subscriptable",
     "output_type": "error",
     "traceback": [
      "\u001b[0;31m---------------------------------------------------------------------------\u001b[0m",
      "\u001b[0;31mTypeError\u001b[0m                                 Traceback (most recent call last)",
      "Cell \u001b[0;32mIn[19], line 1\u001b[0m\n\u001b[0;32m----> 1\u001b[0m \u001b[43ml\u001b[49m\u001b[43m[\u001b[49m\u001b[38;5;241;43m4\u001b[39;49m\u001b[43m]\u001b[49m\u001b[43m[\u001b[49m\u001b[38;5;241;43m0\u001b[39;49m\u001b[43m:\u001b[49m\u001b[43m:\u001b[49m\u001b[38;5;241;43m2\u001b[39;49m\u001b[43m]\u001b[49m\n",
      "\u001b[0;31mTypeError\u001b[0m: 'bool' object is not subscriptable"
     ]
    }
   ],
   "source": [
    "l[4][0::2]"
   ]
  },
  {
   "cell_type": "code",
   "execution_count": 20,
   "id": "b993ff4f-8e7e-4f5b-9cf1-fc4150001af4",
   "metadata": {},
   "outputs": [
    {
     "data": {
      "text/plain": [
       "'Tr'"
      ]
     },
     "execution_count": 20,
     "metadata": {},
     "output_type": "execute_result"
    }
   ],
   "source": [
    "str(l[4])[0:2]"
   ]
  },
  {
   "cell_type": "code",
   "execution_count": 21,
   "id": "7ee89b59-563b-4a19-ad30-78f9e2a0793e",
   "metadata": {},
   "outputs": [],
   "source": [
    "l1 = [3,4,5]"
   ]
  },
  {
   "cell_type": "code",
   "execution_count": 22,
   "id": "1fbdb2c5-1e0f-429e-9a03-5d0824b65416",
   "metadata": {},
   "outputs": [
    {
     "data": {
      "text/plain": [
       "[1, 345, 45, 'sudh', True, (5+7j), 345.456, 3, 4, 5]"
      ]
     },
     "execution_count": 22,
     "metadata": {},
     "output_type": "execute_result"
    }
   ],
   "source": [
    "l+l1"
   ]
  },
  {
   "cell_type": "code",
   "execution_count": 23,
   "id": "70126aa4-77b0-436a-ac77-d1a7df1cbd36",
   "metadata": {},
   "outputs": [
    {
     "data": {
      "text/plain": [
       "[3, 4, 5, 3, 4, 5, 3, 4, 5]"
      ]
     },
     "execution_count": 23,
     "metadata": {},
     "output_type": "execute_result"
    }
   ],
   "source": [
    "l1*3"
   ]
  },
  {
   "cell_type": "code",
   "execution_count": 24,
   "id": "4079336e-8927-4daa-a6e0-31342d8c83c8",
   "metadata": {},
   "outputs": [
    {
     "data": {
      "text/plain": [
       "[1, 345, 45, 'sudh', True, (5+7j), 345.456, 3, 4, 5]"
      ]
     },
     "execution_count": 24,
     "metadata": {},
     "output_type": "execute_result"
    }
   ],
   "source": [
    "l+l1"
   ]
  },
  {
   "cell_type": "code",
   "execution_count": 25,
   "id": "92999d51-f646-484f-98b1-af7512e45ab2",
   "metadata": {},
   "outputs": [
    {
     "data": {
      "text/plain": [
       "[1, 345, 45, 'sudh', True, (5+7j), 345.456]"
      ]
     },
     "execution_count": 25,
     "metadata": {},
     "output_type": "execute_result"
    }
   ],
   "source": [
    "l"
   ]
  },
  {
   "cell_type": "code",
   "execution_count": 26,
   "id": "8add0c1b-86d8-4e46-a552-d1a1c30246cd",
   "metadata": {},
   "outputs": [],
   "source": [
    "l.append(5)"
   ]
  },
  {
   "cell_type": "code",
   "execution_count": 27,
   "id": "10b464ad-4513-4245-816e-692481bb7642",
   "metadata": {},
   "outputs": [
    {
     "data": {
      "text/plain": [
       "[1, 345, 45, 'sudh', True, (5+7j), 345.456, 5]"
      ]
     },
     "execution_count": 27,
     "metadata": {},
     "output_type": "execute_result"
    }
   ],
   "source": [
    "l"
   ]
  },
  {
   "cell_type": "code",
   "execution_count": 28,
   "id": "7f3e499e-03bb-4428-a2e6-27541e72054b",
   "metadata": {},
   "outputs": [
    {
     "ename": "NameError",
     "evalue": "name 'true' is not defined",
     "output_type": "error",
     "traceback": [
      "\u001b[0;31m---------------------------------------------------------------------------\u001b[0m",
      "\u001b[0;31mNameError\u001b[0m                                 Traceback (most recent call last)",
      "Cell \u001b[0;32mIn[28], line 1\u001b[0m\n\u001b[0;32m----> 1\u001b[0m l\u001b[38;5;241m.\u001b[39mindex(\u001b[43mtrue\u001b[49m)\n",
      "\u001b[0;31mNameError\u001b[0m: name 'true' is not defined"
     ]
    }
   ],
   "source": [
    "l.index(true)"
   ]
  },
  {
   "cell_type": "code",
   "execution_count": 29,
   "id": "6b192f0c-bd77-4258-a18c-695111b1c58b",
   "metadata": {},
   "outputs": [
    {
     "data": {
      "text/plain": [
       "0"
      ]
     },
     "execution_count": 29,
     "metadata": {},
     "output_type": "execute_result"
    }
   ],
   "source": [
    "l.index(True)"
   ]
  },
  {
   "cell_type": "code",
   "execution_count": 30,
   "id": "802c771e-3cfe-44c1-9699-7fbdda2cdb6d",
   "metadata": {},
   "outputs": [
    {
     "data": {
      "text/plain": [
       "2"
      ]
     },
     "execution_count": 30,
     "metadata": {},
     "output_type": "execute_result"
    }
   ],
   "source": [
    "l.index(45)"
   ]
  },
  {
   "cell_type": "code",
   "execution_count": 31,
   "id": "94d18fd1-bc7b-4854-afb8-b4a4f3a66b76",
   "metadata": {},
   "outputs": [],
   "source": [
    "l.append(l1)"
   ]
  },
  {
   "cell_type": "code",
   "execution_count": 32,
   "id": "cbbdc3b3-8e79-4738-80d3-ae464e6eedb9",
   "metadata": {},
   "outputs": [
    {
     "data": {
      "text/plain": [
       "[3, 4, 5]"
      ]
     },
     "execution_count": 32,
     "metadata": {},
     "output_type": "execute_result"
    }
   ],
   "source": [
    "l1"
   ]
  },
  {
   "cell_type": "code",
   "execution_count": 33,
   "id": "2acfd0f7-71fe-4a07-b461-5db579340fb3",
   "metadata": {},
   "outputs": [],
   "source": [
    "l.append(l1)"
   ]
  },
  {
   "cell_type": "code",
   "execution_count": 34,
   "id": "cda4c92f-b087-46f9-aa2e-8f68a3c9e315",
   "metadata": {},
   "outputs": [
    {
     "data": {
      "text/plain": [
       "[1, 345, 45, 'sudh', True, (5+7j), 345.456, 5, [3, 4, 5], [3, 4, 5]]"
      ]
     },
     "execution_count": 34,
     "metadata": {},
     "output_type": "execute_result"
    }
   ],
   "source": [
    "l"
   ]
  },
  {
   "cell_type": "code",
   "execution_count": 35,
   "id": "2841a54c-2b9c-4836-8dbc-ebaccfa0a14c",
   "metadata": {},
   "outputs": [
    {
     "data": {
      "text/plain": [
       "[3, 4, 5]"
      ]
     },
     "execution_count": 35,
     "metadata": {},
     "output_type": "execute_result"
    }
   ],
   "source": [
    "l[-1]"
   ]
  },
  {
   "cell_type": "code",
   "execution_count": 36,
   "id": "d424d069-e210-4d6b-9b9e-bcfcf3f1f540",
   "metadata": {},
   "outputs": [
    {
     "data": {
      "text/plain": [
       "4"
      ]
     },
     "execution_count": 36,
     "metadata": {},
     "output_type": "execute_result"
    }
   ],
   "source": [
    "l[-1][-2]"
   ]
  },
  {
   "cell_type": "code",
   "execution_count": 37,
   "id": "dc9dca04-28e4-4203-8985-d4268650dd97",
   "metadata": {},
   "outputs": [
    {
     "data": {
      "text/plain": [
       "[1, 345, 45, 'sudh', True, (5+7j), 345.456, 5, [3, 4, 5], [3, 4, 5]]"
      ]
     },
     "execution_count": 37,
     "metadata": {},
     "output_type": "execute_result"
    }
   ],
   "source": [
    "l"
   ]
  },
  {
   "cell_type": "code",
   "execution_count": 38,
   "id": "96a5cf80-c17e-4207-b3e1-faee866e8434",
   "metadata": {},
   "outputs": [
    {
     "ename": "ValueError",
     "evalue": "list.remove(x): x not in list",
     "output_type": "error",
     "traceback": [
      "\u001b[0;31m---------------------------------------------------------------------------\u001b[0m",
      "\u001b[0;31mValueError\u001b[0m                                Traceback (most recent call last)",
      "Cell \u001b[0;32mIn[38], line 1\u001b[0m\n\u001b[0;32m----> 1\u001b[0m \u001b[43ml\u001b[49m\u001b[38;5;241;43m.\u001b[39;49m\u001b[43mremove\u001b[49m\u001b[43m(\u001b[49m\u001b[43ml\u001b[49m\u001b[43m)\u001b[49m[\u001b[38;5;241m-\u001b[39m\u001b[38;5;241m1\u001b[39m]\n",
      "\u001b[0;31mValueError\u001b[0m: list.remove(x): x not in list"
     ]
    }
   ],
   "source": [
    "l.remove(l)[-1]"
   ]
  },
  {
   "cell_type": "code",
   "execution_count": 39,
   "id": "4cd62f1d-6aea-4e1b-b970-f2cd814b3132",
   "metadata": {},
   "outputs": [
    {
     "ename": "ValueError",
     "evalue": "list.remove(x): x not in list",
     "output_type": "error",
     "traceback": [
      "\u001b[0;31m---------------------------------------------------------------------------\u001b[0m",
      "\u001b[0;31mValueError\u001b[0m                                Traceback (most recent call last)",
      "Cell \u001b[0;32mIn[39], line 1\u001b[0m\n\u001b[0;32m----> 1\u001b[0m \u001b[43ml\u001b[49m\u001b[38;5;241;43m.\u001b[39;49m\u001b[43mremove\u001b[49m\u001b[43m(\u001b[49m\u001b[38;5;241;43m-\u001b[39;49m\u001b[38;5;241;43m1\u001b[39;49m\u001b[43m)\u001b[49m\n",
      "\u001b[0;31mValueError\u001b[0m: list.remove(x): x not in list"
     ]
    }
   ],
   "source": [
    "l.remove(-1)"
   ]
  },
  {
   "cell_type": "code",
   "execution_count": 40,
   "id": "faff420b-413f-4109-aebc-6bbced32640c",
   "metadata": {},
   "outputs": [
    {
     "ename": "SyntaxError",
     "evalue": "invalid syntax (1988805040.py, line 1)",
     "output_type": "error",
     "traceback": [
      "\u001b[0;36m  Cell \u001b[0;32mIn[40], line 1\u001b[0;36m\u001b[0m\n\u001b[0;31m    l.remove([3,4,5],/)\u001b[0m\n\u001b[0m                     ^\u001b[0m\n\u001b[0;31mSyntaxError\u001b[0m\u001b[0;31m:\u001b[0m invalid syntax\n"
     ]
    }
   ],
   "source": [
    "l.remove([3,4,5],/)"
   ]
  },
  {
   "cell_type": "code",
   "execution_count": 41,
   "id": "f25298d0-eb5c-424e-9ed3-b964fc50819a",
   "metadata": {},
   "outputs": [
    {
     "ename": "TypeError",
     "evalue": "list.remove() takes exactly one argument (2 given)",
     "output_type": "error",
     "traceback": [
      "\u001b[0;31m---------------------------------------------------------------------------\u001b[0m",
      "\u001b[0;31mTypeError\u001b[0m                                 Traceback (most recent call last)",
      "Cell \u001b[0;32mIn[41], line 1\u001b[0m\n\u001b[0;32m----> 1\u001b[0m \u001b[43ml\u001b[49m\u001b[38;5;241;43m.\u001b[39;49m\u001b[43mremove\u001b[49m\u001b[43m(\u001b[49m\u001b[43m[\u001b[49m\u001b[38;5;241;43m3\u001b[39;49m\u001b[43m,\u001b[49m\u001b[38;5;241;43m4\u001b[39;49m\u001b[43m,\u001b[49m\u001b[38;5;241;43m5\u001b[39;49m\u001b[43m]\u001b[49m\u001b[43m,\u001b[49m\u001b[38;5;241;43m-\u001b[39;49m\u001b[38;5;241;43m1\u001b[39;49m\u001b[43m)\u001b[49m\n",
      "\u001b[0;31mTypeError\u001b[0m: list.remove() takes exactly one argument (2 given)"
     ]
    }
   ],
   "source": [
    "l.remove([3,4,5],-1)"
   ]
  },
  {
   "cell_type": "code",
   "execution_count": 42,
   "id": "ca752554-fcc2-4bc2-acf2-e5a5559c7eb2",
   "metadata": {},
   "outputs": [
    {
     "data": {
      "text/plain": [
       "[3, 4, 5]"
      ]
     },
     "execution_count": 42,
     "metadata": {},
     "output_type": "execute_result"
    }
   ],
   "source": [
    "l.pop()"
   ]
  },
  {
   "cell_type": "code",
   "execution_count": 43,
   "id": "82908927-6537-40bf-87cc-c6b19c4f1853",
   "metadata": {},
   "outputs": [
    {
     "data": {
      "text/plain": [
       "[1, 345, 45, 'sudh', True, (5+7j), 345.456, 5, [3, 4, 5]]"
      ]
     },
     "execution_count": 43,
     "metadata": {},
     "output_type": "execute_result"
    }
   ],
   "source": [
    "l"
   ]
  },
  {
   "cell_type": "code",
   "execution_count": 44,
   "id": "632011e7-c97b-4cd0-a456-2be36ff0e34a",
   "metadata": {},
   "outputs": [
    {
     "data": {
      "text/plain": [
       "[3, 4, 5]"
      ]
     },
     "execution_count": 44,
     "metadata": {},
     "output_type": "execute_result"
    }
   ],
   "source": [
    "l.pop(-1)"
   ]
  },
  {
   "cell_type": "code",
   "execution_count": 45,
   "id": "6260ec52-d529-46d6-9834-51a66acd4e5e",
   "metadata": {},
   "outputs": [
    {
     "data": {
      "text/plain": [
       "[1, 345, 45, 'sudh', True, (5+7j), 345.456, 5]"
      ]
     },
     "execution_count": 45,
     "metadata": {},
     "output_type": "execute_result"
    }
   ],
   "source": [
    "l"
   ]
  },
  {
   "cell_type": "code",
   "execution_count": 46,
   "id": "5b174a73-3c67-44cf-bfee-e259322723c5",
   "metadata": {},
   "outputs": [],
   "source": [
    "l.insert(1,3)"
   ]
  },
  {
   "cell_type": "code",
   "execution_count": 47,
   "id": "562be777-bac8-4d46-9dc2-62e2f2bab29d",
   "metadata": {},
   "outputs": [
    {
     "data": {
      "text/plain": [
       "[1, 3, 345, 45, 'sudh', True, (5+7j), 345.456, 5]"
      ]
     },
     "execution_count": 47,
     "metadata": {},
     "output_type": "execute_result"
    }
   ],
   "source": [
    "l"
   ]
  },
  {
   "cell_type": "code",
   "execution_count": 48,
   "id": "824c49c8-0916-4036-abbc-cddd2e3e3368",
   "metadata": {},
   "outputs": [],
   "source": [
    "l.remove(3)"
   ]
  },
  {
   "cell_type": "code",
   "execution_count": 49,
   "id": "5aec1288-1a42-4c1b-8db4-73bee9424f23",
   "metadata": {},
   "outputs": [
    {
     "data": {
      "text/plain": [
       "[1, 345, 45, 'sudh', True, (5+7j), 345.456, 5]"
      ]
     },
     "execution_count": 49,
     "metadata": {},
     "output_type": "execute_result"
    }
   ],
   "source": [
    "l"
   ]
  },
  {
   "cell_type": "code",
   "execution_count": 50,
   "id": "2511caa7-da24-4563-bea0-5b7b1a52b89d",
   "metadata": {},
   "outputs": [
    {
     "data": {
      "text/plain": [
       "'sudh'"
      ]
     },
     "execution_count": 50,
     "metadata": {},
     "output_type": "execute_result"
    }
   ],
   "source": [
    "l[3]"
   ]
  },
  {
   "cell_type": "code",
   "execution_count": 51,
   "id": "bded25ab-4729-483b-9555-aed21aa5c98e",
   "metadata": {},
   "outputs": [],
   "source": [
    "l1=[4,2,6,7,1,9,3]"
   ]
  },
  {
   "cell_type": "code",
   "execution_count": 52,
   "id": "b3033bf9-fcef-4740-a702-b74200dbae16",
   "metadata": {},
   "outputs": [
    {
     "data": {
      "text/plain": [
       "[4, 2, 6, 7, 1, 9, 3]"
      ]
     },
     "execution_count": 52,
     "metadata": {},
     "output_type": "execute_result"
    }
   ],
   "source": [
    "l1"
   ]
  },
  {
   "cell_type": "code",
   "execution_count": 53,
   "id": "ea7f55f6-7533-497b-a7ad-77006a1bab83",
   "metadata": {},
   "outputs": [],
   "source": [
    "l1.sort()"
   ]
  },
  {
   "cell_type": "code",
   "execution_count": 54,
   "id": "673b7c43-32a5-4df3-9c29-309d9960599d",
   "metadata": {},
   "outputs": [
    {
     "data": {
      "text/plain": [
       "[1, 2, 3, 4, 6, 7, 9]"
      ]
     },
     "execution_count": 54,
     "metadata": {},
     "output_type": "execute_result"
    }
   ],
   "source": [
    "l1"
   ]
  },
  {
   "cell_type": "code",
   "execution_count": 55,
   "id": "843226e1-a2de-4674-bd9d-2c487dc4868a",
   "metadata": {},
   "outputs": [],
   "source": [
    "l1.sort(reverse=True)"
   ]
  },
  {
   "cell_type": "code",
   "execution_count": 56,
   "id": "9b27babd-452d-49f0-8ba2-4f30bc2bc2b5",
   "metadata": {},
   "outputs": [
    {
     "data": {
      "text/plain": [
       "[9, 7, 6, 4, 3, 2, 1]"
      ]
     },
     "execution_count": 56,
     "metadata": {},
     "output_type": "execute_result"
    }
   ],
   "source": [
    "l1"
   ]
  },
  {
   "cell_type": "code",
   "execution_count": 1,
   "id": "acbacdf0-8120-4702-8e5d-f2876ad91731",
   "metadata": {},
   "outputs": [],
   "source": [
    "s1 ={}"
   ]
  },
  {
   "cell_type": "code",
   "execution_count": 2,
   "id": "a91183bf-e50a-4380-9387-d33b277f1e25",
   "metadata": {},
   "outputs": [
    {
     "data": {
      "text/plain": [
       "dict"
      ]
     },
     "execution_count": 2,
     "metadata": {},
     "output_type": "execute_result"
    }
   ],
   "source": [
    "type(s1)"
   ]
  },
  {
   "cell_type": "code",
   "execution_count": 3,
   "id": "eae03e6e-8109-440d-a1e4-963b315c8c7b",
   "metadata": {},
   "outputs": [],
   "source": [
    "s2 = {2,3,4,5,6}"
   ]
  },
  {
   "cell_type": "code",
   "execution_count": 4,
   "id": "b025e0a6-57fe-4902-af00-7f022fdb8f16",
   "metadata": {},
   "outputs": [
    {
     "data": {
      "text/plain": [
       "set"
      ]
     },
     "execution_count": 4,
     "metadata": {},
     "output_type": "execute_result"
    }
   ],
   "source": [
    "type(s2)"
   ]
  },
  {
   "cell_type": "code",
   "execution_count": 5,
   "id": "997d9624-1963-431d-ab73-c2f91157bd1a",
   "metadata": {},
   "outputs": [],
   "source": [
    "s3={1, 2, 2, 3, 3, 3, 5, 4, 5, 5, 6, 6, 6, 6}"
   ]
  },
  {
   "cell_type": "code",
   "execution_count": 6,
   "id": "5664b6d4-0fd1-4dd0-9f99-1df7ecf0f782",
   "metadata": {},
   "outputs": [
    {
     "data": {
      "text/plain": [
       "{1, 2, 3, 4, 5, 6}"
      ]
     },
     "execution_count": 6,
     "metadata": {},
     "output_type": "execute_result"
    }
   ],
   "source": [
    "s3"
   ]
  },
  {
   "cell_type": "code",
   "execution_count": null,
   "id": "2e5bdeb8-af60-4c8e-b96d-d9881d41af11",
   "metadata": {},
   "outputs": [],
   "source": []
  }
 ],
 "metadata": {
  "kernelspec": {
   "display_name": "Python 3 (ipykernel)",
   "language": "python",
   "name": "python3"
  },
  "language_info": {
   "codemirror_mode": {
    "name": "ipython",
    "version": 3
   },
   "file_extension": ".py",
   "mimetype": "text/x-python",
   "name": "python",
   "nbconvert_exporter": "python",
   "pygments_lexer": "ipython3",
   "version": "3.10.8"
  }
 },
 "nbformat": 4,
 "nbformat_minor": 5
}
